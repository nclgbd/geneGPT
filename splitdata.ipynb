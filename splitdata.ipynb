{
 "cells": [
  {
   "cell_type": "markdown",
   "id": "1c85d862-2bd3-4af3-a9bd-c22486104171",
   "metadata": {},
   "source": [
    "# Code and Documentation\n",
    "### Part 1 - Split data\n",
    "____\n",
    "#### GroupD: Nicole Guobadia, Dhruvi Kaswala, Arashpreet Singh Pandher, Karen Angella Edy Setiawan\n",
    "\n",
    "Note: make sure to shut down all other kernels"
   ]
  },
  {
   "cell_type": "markdown",
   "id": "f9d6a559-aa42-466b-a1e7-26fd76fe087d",
   "metadata": {},
   "source": [
    "Download packages"
   ]
  },
  {
   "cell_type": "code",
   "execution_count": 1,
   "id": "3f8dc588",
   "metadata": {},
   "outputs": [
    {
     "name": "stderr",
     "output_type": "stream",
     "text": [
      "Bioconductor version '3.10' is out-of-date; the current release version '3.16'\n",
      "  is available with R version '4.2'; see https://bioconductor.org/install\n",
      "\n"
     ]
    }
   ],
   "source": [
    "if (!require(\"BiocManager\", quietly = TRUE))\n",
    "    install.packages(\"BiocManager\")\n",
    "# BiocManager::install(version = \"3.14\")"
   ]
  },
  {
   "cell_type": "code",
   "execution_count": 2,
   "id": "dc088021",
   "metadata": {},
   "outputs": [
    {
     "name": "stdout",
     "output_type": "stream",
     "text": [
      "\n",
      "  There is a binary version available but the source version is later:\n",
      "       binary source needs_compilation\n",
      "glmnet  4.1-1  4.1-6              TRUE\n",
      "\n",
      "  Binaries will be installed\n",
      "package 'glmnet' successfully unpacked and MD5 sums checked\n"
     ]
    },
    {
     "name": "stderr",
     "output_type": "stream",
     "text": [
      "Warning message:\n",
      "\"cannot remove prior installation of package 'glmnet'\"\n",
      "Warning message in file.copy(savedcopy, lib, recursive = TRUE):\n",
      "\"problem copying C:\\Users\\nicol\\Anaconda3\\Lib\\R\\library\\00LOCK\\glmnet\\libs\\x64\\glmnet.dll to C:\\Users\\nicol\\Anaconda3\\Lib\\R\\library\\glmnet\\libs\\x64\\glmnet.dll: Permission denied\"\n",
      "Warning message:\n",
      "\"restored 'glmnet'\"\n"
     ]
    },
    {
     "name": "stdout",
     "output_type": "stream",
     "text": [
      "\n",
      "The downloaded binary packages are in\n",
      "\tC:\\Users\\nicol\\AppData\\Local\\Temp\\RtmpsrduTg\\downloaded_packages\n"
     ]
    },
    {
     "name": "stderr",
     "output_type": "stream",
     "text": [
      "Warning message:\n",
      "\"package 'glmnet' was built under R version 3.6.3\"\n",
      "Loading required package: Matrix\n",
      "\n",
      "Loaded glmnet 4.1-1\n",
      "\n"
     ]
    }
   ],
   "source": [
    "install.packages('glmnet', dependencies=TRUE)\n",
    "library(glmnet)"
   ]
  },
  {
   "cell_type": "markdown",
   "id": "c875d212-bd0c-4520-abca-a39b9944ba7f",
   "metadata": {},
   "source": [
    "Load dataset 2 into the notebook."
   ]
  },
  {
   "cell_type": "code",
   "execution_count": 4,
   "id": "1df2bfda",
   "metadata": {},
   "outputs": [
    {
     "data": {
      "text/html": [
       "<ol class=list-inline>\n",
       "\t<li>'data.1'</li>\n",
       "\t<li>'data.2'</li>\n",
       "\t<li>'data.3'</li>\n",
       "\t<li>'info.1'</li>\n",
       "\t<li>'info.2'</li>\n",
       "\t<li>'info.3'</li>\n",
       "</ol>\n"
      ],
      "text/latex": [
       "\\begin{enumerate*}\n",
       "\\item 'data.1'\n",
       "\\item 'data.2'\n",
       "\\item 'data.3'\n",
       "\\item 'info.1'\n",
       "\\item 'info.2'\n",
       "\\item 'info.3'\n",
       "\\end{enumerate*}\n"
      ],
      "text/markdown": [
       "1. 'data.1'\n",
       "2. 'data.2'\n",
       "3. 'data.3'\n",
       "4. 'info.1'\n",
       "5. 'info.2'\n",
       "6. 'info.3'\n",
       "\n",
       "\n"
      ],
      "text/plain": [
       "[1] \"data.1\" \"data.2\" \"data.3\" \"info.1\" \"info.2\" \"info.3\""
      ]
     },
     "metadata": {},
     "output_type": "display_data"
    }
   ],
   "source": [
    "load(path.expand(\"AML_datasets.RData\"))\n",
    "ls()"
   ]
  },
  {
   "cell_type": "code",
   "execution_count": 5,
   "id": "2988c6b0",
   "metadata": {},
   "outputs": [],
   "source": [
    "set.seed(1)"
   ]
  },
  {
   "cell_type": "code",
   "execution_count": 6,
   "id": "6baf9d88",
   "metadata": {},
   "outputs": [
    {
     "data": {
      "text/html": [
       "<ol class=list-inline>\n",
       "\t<li>12708</li>\n",
       "\t<li>8348</li>\n",
       "</ol>\n"
      ],
      "text/latex": [
       "\\begin{enumerate*}\n",
       "\\item 12708\n",
       "\\item 8348\n",
       "\\end{enumerate*}\n"
      ],
      "text/markdown": [
       "1. 12708\n",
       "2. 8348\n",
       "\n",
       "\n"
      ],
      "text/plain": [
       "[1] 12708  8348"
      ]
     },
     "metadata": {},
     "output_type": "display_data"
    },
    {
     "data": {
      "text/html": [
       "<table>\n",
       "<thead><tr><th></th><th scope=col>GSM1030962_10030.CEL</th><th scope=col>GSM1030963_10110.CEL</th><th scope=col>GSM1030964_10111.CEL</th><th scope=col>GSM1030965_10138.CEL</th><th scope=col>GSM1030966_1032.CEL</th><th scope=col>GSM1030967_1113.CEL</th><th scope=col>GSM1030968_1132.CEL</th><th scope=col>GSM1030969_1446.CEL</th></tr></thead>\n",
       "<tbody>\n",
       "\t<tr><th scope=row>PAX8</th><td>8.27154</td><td>8.49112</td><td>8.34082</td><td>8.24190</td><td>7.75355</td><td>7.95457</td><td>7.99231</td><td>8.40749</td></tr>\n",
       "\t<tr><th scope=row>CCL5</th><td>5.02307</td><td>3.95575</td><td>4.68666</td><td>5.78429</td><td>4.97396</td><td>5.75343</td><td>4.21497</td><td>4.55103</td></tr>\n",
       "\t<tr><th scope=row>MMP14</th><td>7.06640</td><td>6.41582</td><td>6.14716</td><td>6.65615</td><td>6.35464</td><td>6.89049</td><td>6.28378</td><td>6.63393</td></tr>\n",
       "\t<tr><th scope=row>DTX2P1-UPK3BP1-PMS2P11</th><td>8.24990</td><td>8.42649</td><td>8.09809</td><td>8.15517</td><td>8.00680</td><td>7.95516</td><td>8.13866</td><td>8.56563</td></tr>\n",
       "\t<tr><th scope=row>BAD</th><td>5.75432</td><td>6.77953</td><td>6.35168</td><td>4.97367</td><td>6.79648</td><td>5.49744</td><td>7.27109</td><td>6.34759</td></tr>\n",
       "</tbody>\n",
       "</table>\n"
      ],
      "text/latex": [
       "\\begin{tabular}{r|llllllll}\n",
       "  & GSM1030962\\_10030.CEL & GSM1030963\\_10110.CEL & GSM1030964\\_10111.CEL & GSM1030965\\_10138.CEL & GSM1030966\\_1032.CEL & GSM1030967\\_1113.CEL & GSM1030968\\_1132.CEL & GSM1030969\\_1446.CEL\\\\\n",
       "\\hline\n",
       "\tPAX8 & 8.27154 & 8.49112 & 8.34082 & 8.24190 & 7.75355 & 7.95457 & 7.99231 & 8.40749\\\\\n",
       "\tCCL5 & 5.02307 & 3.95575 & 4.68666 & 5.78429 & 4.97396 & 5.75343 & 4.21497 & 4.55103\\\\\n",
       "\tMMP14 & 7.06640 & 6.41582 & 6.14716 & 6.65615 & 6.35464 & 6.89049 & 6.28378 & 6.63393\\\\\n",
       "\tDTX2P1-UPK3BP1-PMS2P11 & 8.24990 & 8.42649 & 8.09809 & 8.15517 & 8.00680 & 7.95516 & 8.13866 & 8.56563\\\\\n",
       "\tBAD & 5.75432 & 6.77953 & 6.35168 & 4.97367 & 6.79648 & 5.49744 & 7.27109 & 6.34759\\\\\n",
       "\\end{tabular}\n"
      ],
      "text/markdown": [
       "\n",
       "| <!--/--> | GSM1030962_10030.CEL | GSM1030963_10110.CEL | GSM1030964_10111.CEL | GSM1030965_10138.CEL | GSM1030966_1032.CEL | GSM1030967_1113.CEL | GSM1030968_1132.CEL | GSM1030969_1446.CEL |\n",
       "|---|---|---|---|---|---|---|---|---|\n",
       "| PAX8 | 8.27154 | 8.49112 | 8.34082 | 8.24190 | 7.75355 | 7.95457 | 7.99231 | 8.40749 |\n",
       "| CCL5 | 5.02307 | 3.95575 | 4.68666 | 5.78429 | 4.97396 | 5.75343 | 4.21497 | 4.55103 |\n",
       "| MMP14 | 7.06640 | 6.41582 | 6.14716 | 6.65615 | 6.35464 | 6.89049 | 6.28378 | 6.63393 |\n",
       "| DTX2P1-UPK3BP1-PMS2P11 | 8.24990 | 8.42649 | 8.09809 | 8.15517 | 8.00680 | 7.95516 | 8.13866 | 8.56563 |\n",
       "| BAD | 5.75432 | 6.77953 | 6.35168 | 4.97367 | 6.79648 | 5.49744 | 7.27109 | 6.34759 |\n",
       "\n"
      ],
      "text/plain": [
       "                       GSM1030962_10030.CEL GSM1030963_10110.CEL\n",
       "PAX8                   8.27154              8.49112             \n",
       "CCL5                   5.02307              3.95575             \n",
       "MMP14                  7.06640              6.41582             \n",
       "DTX2P1-UPK3BP1-PMS2P11 8.24990              8.42649             \n",
       "BAD                    5.75432              6.77953             \n",
       "                       GSM1030964_10111.CEL GSM1030965_10138.CEL\n",
       "PAX8                   8.34082              8.24190             \n",
       "CCL5                   4.68666              5.78429             \n",
       "MMP14                  6.14716              6.65615             \n",
       "DTX2P1-UPK3BP1-PMS2P11 8.09809              8.15517             \n",
       "BAD                    6.35168              4.97367             \n",
       "                       GSM1030966_1032.CEL GSM1030967_1113.CEL\n",
       "PAX8                   7.75355             7.95457            \n",
       "CCL5                   4.97396             5.75343            \n",
       "MMP14                  6.35464             6.89049            \n",
       "DTX2P1-UPK3BP1-PMS2P11 8.00680             7.95516            \n",
       "BAD                    6.79648             5.49744            \n",
       "                       GSM1030968_1132.CEL GSM1030969_1446.CEL\n",
       "PAX8                   7.99231             8.40749            \n",
       "CCL5                   4.21497             4.55103            \n",
       "MMP14                  6.28378             6.63393            \n",
       "DTX2P1-UPK3BP1-PMS2P11 8.13866             8.56563            \n",
       "BAD                    7.27109             6.34759            "
      ]
     },
     "metadata": {},
     "output_type": "display_data"
    }
   ],
   "source": [
    "# gene expression data\n",
    "dim(data.2)\n",
    "data.2[1:5, 1:8]"
   ]
  },
  {
   "cell_type": "code",
   "execution_count": 7,
   "id": "f7c7f848",
   "metadata": {},
   "outputs": [
    {
     "data": {
      "text/html": [
       "<ol class=list-inline>\n",
       "\t<li>8348</li>\n",
       "\t<li>8</li>\n",
       "</ol>\n"
      ],
      "text/latex": [
       "\\begin{enumerate*}\n",
       "\\item 8348\n",
       "\\item 8\n",
       "\\end{enumerate*}\n"
      ],
      "text/markdown": [
       "1. 8348\n",
       "2. 8\n",
       "\n",
       "\n"
      ],
      "text/plain": [
       "[1] 8348    8"
      ]
     },
     "metadata": {},
     "output_type": "display_data"
    },
    {
     "data": {
      "text/html": [
       "<table>\n",
       "<thead><tr><th></th><th scope=col>Dataset</th><th scope=col>GSE</th><th scope=col>Condition</th><th scope=col>Disease</th><th scope=col>Tissue</th><th scope=col>FAB</th><th scope=col>Filename</th><th scope=col>FAB_all</th></tr></thead>\n",
       "<tbody>\n",
       "\t<tr><th scope=row>GSM1030962_10030.CEL</th><td>2                   </td><td>GSE42038            </td><td>CONTROL             </td><td>ALL                 </td><td>BM                  </td><td>unknown             </td><td>GSM1030962_10030.CEL</td><td>unknown             </td></tr>\n",
       "\t<tr><th scope=row>GSM1030963_10110.CEL</th><td>2                   </td><td>GSE42038            </td><td>CONTROL             </td><td>ALL                 </td><td>PBMC                </td><td>unknown             </td><td>GSM1030963_10110.CEL</td><td>unknown             </td></tr>\n",
       "\t<tr><th scope=row>GSM1030964_10111.CEL</th><td>2                   </td><td>GSE42038            </td><td>CONTROL             </td><td>ALL                 </td><td>BM                  </td><td>unknown             </td><td>GSM1030964_10111.CEL</td><td>unknown             </td></tr>\n",
       "\t<tr><th scope=row>GSM1030965_10138.CEL</th><td>2                   </td><td>GSE42038            </td><td>CONTROL             </td><td>ALL                 </td><td>BM                  </td><td>unknown             </td><td>GSM1030965_10138.CEL</td><td>unknown             </td></tr>\n",
       "\t<tr><th scope=row>GSM1030966_1032.CEL</th><td>2                   </td><td>GSE42038            </td><td>CONTROL             </td><td>ALL                 </td><td>BM                  </td><td>unknown             </td><td>GSM1030966_1032.CEL </td><td>unknown             </td></tr>\n",
       "</tbody>\n",
       "</table>\n"
      ],
      "text/latex": [
       "\\begin{tabular}{r|llllllll}\n",
       "  & Dataset & GSE & Condition & Disease & Tissue & FAB & Filename & FAB\\_all\\\\\n",
       "\\hline\n",
       "\tGSM1030962\\_10030.CEL & 2                      & GSE42038               & CONTROL                & ALL                    & BM                     & unknown                & GSM1030962\\_10030.CEL & unknown               \\\\\n",
       "\tGSM1030963\\_10110.CEL & 2                      & GSE42038               & CONTROL                & ALL                    & PBMC                   & unknown                & GSM1030963\\_10110.CEL & unknown               \\\\\n",
       "\tGSM1030964\\_10111.CEL & 2                      & GSE42038               & CONTROL                & ALL                    & BM                     & unknown                & GSM1030964\\_10111.CEL & unknown               \\\\\n",
       "\tGSM1030965\\_10138.CEL & 2                      & GSE42038               & CONTROL                & ALL                    & BM                     & unknown                & GSM1030965\\_10138.CEL & unknown               \\\\\n",
       "\tGSM1030966\\_1032.CEL & 2                      & GSE42038               & CONTROL                & ALL                    & BM                     & unknown                & GSM1030966\\_1032.CEL  & unknown               \\\\\n",
       "\\end{tabular}\n"
      ],
      "text/markdown": [
       "\n",
       "| <!--/--> | Dataset | GSE | Condition | Disease | Tissue | FAB | Filename | FAB_all |\n",
       "|---|---|---|---|---|---|---|---|---|\n",
       "| GSM1030962_10030.CEL | 2                    | GSE42038             | CONTROL              | ALL                  | BM                   | unknown              | GSM1030962_10030.CEL | unknown              |\n",
       "| GSM1030963_10110.CEL | 2                    | GSE42038             | CONTROL              | ALL                  | PBMC                 | unknown              | GSM1030963_10110.CEL | unknown              |\n",
       "| GSM1030964_10111.CEL | 2                    | GSE42038             | CONTROL              | ALL                  | BM                   | unknown              | GSM1030964_10111.CEL | unknown              |\n",
       "| GSM1030965_10138.CEL | 2                    | GSE42038             | CONTROL              | ALL                  | BM                   | unknown              | GSM1030965_10138.CEL | unknown              |\n",
       "| GSM1030966_1032.CEL | 2                    | GSE42038             | CONTROL              | ALL                  | BM                   | unknown              | GSM1030966_1032.CEL  | unknown              |\n",
       "\n"
      ],
      "text/plain": [
       "                     Dataset GSE      Condition Disease Tissue FAB    \n",
       "GSM1030962_10030.CEL 2       GSE42038 CONTROL   ALL     BM     unknown\n",
       "GSM1030963_10110.CEL 2       GSE42038 CONTROL   ALL     PBMC   unknown\n",
       "GSM1030964_10111.CEL 2       GSE42038 CONTROL   ALL     BM     unknown\n",
       "GSM1030965_10138.CEL 2       GSE42038 CONTROL   ALL     BM     unknown\n",
       "GSM1030966_1032.CEL  2       GSE42038 CONTROL   ALL     BM     unknown\n",
       "                     Filename             FAB_all\n",
       "GSM1030962_10030.CEL GSM1030962_10030.CEL unknown\n",
       "GSM1030963_10110.CEL GSM1030963_10110.CEL unknown\n",
       "GSM1030964_10111.CEL GSM1030964_10111.CEL unknown\n",
       "GSM1030965_10138.CEL GSM1030965_10138.CEL unknown\n",
       "GSM1030966_1032.CEL  GSM1030966_1032.CEL  unknown"
      ]
     },
     "metadata": {},
     "output_type": "display_data"
    }
   ],
   "source": [
    "# phenotype data\n",
    "dim(info.2)\n",
    "info.2[1:5, ]"
   ]
  },
  {
   "cell_type": "markdown",
   "id": "1515532b-e521-46d2-a146-c18dcb266893",
   "metadata": {},
   "source": [
    "For our model, we only look for samples with AML and ALL. Therefore, we subset dataset 2 with only AML and ALL samples, 5086 samples in total. "
   ]
  },
  {
   "cell_type": "code",
   "execution_count": 8,
   "id": "eaf95dc5",
   "metadata": {},
   "outputs": [
    {
     "data": {
      "text/html": [
       "2588"
      ],
      "text/latex": [
       "2588"
      ],
      "text/markdown": [
       "2588"
      ],
      "text/plain": [
       "[1] 2588"
      ]
     },
     "metadata": {},
     "output_type": "display_data"
    }
   ],
   "source": [
    "# AML samples\n",
    "length(which(info.2['Disease'] == 'AML' ))"
   ]
  },
  {
   "cell_type": "code",
   "execution_count": 9,
   "id": "2a804fe8",
   "metadata": {},
   "outputs": [
    {
     "data": {
      "text/html": [
       "2498"
      ],
      "text/latex": [
       "2498"
      ],
      "text/markdown": [
       "2498"
      ],
      "text/plain": [
       "[1] 2498"
      ]
     },
     "metadata": {},
     "output_type": "display_data"
    }
   ],
   "source": [
    "# ALL samples\n",
    "length(which(info.2['Disease'] == 'ALL' ))"
   ]
  },
  {
   "cell_type": "code",
   "execution_count": 10,
   "id": "abcf7287",
   "metadata": {},
   "outputs": [],
   "source": [
    "# subset of data containing only AML and ALL samples\n",
    "leukemia <- c('AML', 'ALL')\n",
    "subset.info <- subset(info.2, Disease %in% leukemia)"
   ]
  },
  {
   "cell_type": "code",
   "execution_count": 11,
   "id": "1673018f",
   "metadata": {},
   "outputs": [
    {
     "data": {
      "text/html": [
       "<ol class=list-inline>\n",
       "\t<li>5086</li>\n",
       "\t<li>8</li>\n",
       "</ol>\n"
      ],
      "text/latex": [
       "\\begin{enumerate*}\n",
       "\\item 5086\n",
       "\\item 8\n",
       "\\end{enumerate*}\n"
      ],
      "text/markdown": [
       "1. 5086\n",
       "2. 8\n",
       "\n",
       "\n"
      ],
      "text/plain": [
       "[1] 5086    8"
      ]
     },
     "metadata": {},
     "output_type": "display_data"
    },
    {
     "data": {
      "text/html": [
       "<table>\n",
       "<thead><tr><th></th><th scope=col>Dataset</th><th scope=col>GSE</th><th scope=col>Condition</th><th scope=col>Disease</th><th scope=col>Tissue</th><th scope=col>FAB</th><th scope=col>Filename</th><th scope=col>FAB_all</th></tr></thead>\n",
       "<tbody>\n",
       "\t<tr><th scope=row>GSM1030962_10030.CEL</th><td>2                   </td><td>GSE42038            </td><td>CONTROL             </td><td>ALL                 </td><td>BM                  </td><td>unknown             </td><td>GSM1030962_10030.CEL</td><td>unknown             </td></tr>\n",
       "\t<tr><th scope=row>GSM1030963_10110.CEL</th><td>2                   </td><td>GSE42038            </td><td>CONTROL             </td><td>ALL                 </td><td>PBMC                </td><td>unknown             </td><td>GSM1030963_10110.CEL</td><td>unknown             </td></tr>\n",
       "\t<tr><th scope=row>GSM1030964_10111.CEL</th><td>2                   </td><td>GSE42038            </td><td>CONTROL             </td><td>ALL                 </td><td>BM                  </td><td>unknown             </td><td>GSM1030964_10111.CEL</td><td>unknown             </td></tr>\n",
       "\t<tr><th scope=row>GSM1030965_10138.CEL</th><td>2                   </td><td>GSE42038            </td><td>CONTROL             </td><td>ALL                 </td><td>BM                  </td><td>unknown             </td><td>GSM1030965_10138.CEL</td><td>unknown             </td></tr>\n",
       "\t<tr><th scope=row>GSM1030966_1032.CEL</th><td>2                   </td><td>GSE42038            </td><td>CONTROL             </td><td>ALL                 </td><td>BM                  </td><td>unknown             </td><td>GSM1030966_1032.CEL </td><td>unknown             </td></tr>\n",
       "</tbody>\n",
       "</table>\n"
      ],
      "text/latex": [
       "\\begin{tabular}{r|llllllll}\n",
       "  & Dataset & GSE & Condition & Disease & Tissue & FAB & Filename & FAB\\_all\\\\\n",
       "\\hline\n",
       "\tGSM1030962\\_10030.CEL & 2                      & GSE42038               & CONTROL                & ALL                    & BM                     & unknown                & GSM1030962\\_10030.CEL & unknown               \\\\\n",
       "\tGSM1030963\\_10110.CEL & 2                      & GSE42038               & CONTROL                & ALL                    & PBMC                   & unknown                & GSM1030963\\_10110.CEL & unknown               \\\\\n",
       "\tGSM1030964\\_10111.CEL & 2                      & GSE42038               & CONTROL                & ALL                    & BM                     & unknown                & GSM1030964\\_10111.CEL & unknown               \\\\\n",
       "\tGSM1030965\\_10138.CEL & 2                      & GSE42038               & CONTROL                & ALL                    & BM                     & unknown                & GSM1030965\\_10138.CEL & unknown               \\\\\n",
       "\tGSM1030966\\_1032.CEL & 2                      & GSE42038               & CONTROL                & ALL                    & BM                     & unknown                & GSM1030966\\_1032.CEL  & unknown               \\\\\n",
       "\\end{tabular}\n"
      ],
      "text/markdown": [
       "\n",
       "| <!--/--> | Dataset | GSE | Condition | Disease | Tissue | FAB | Filename | FAB_all |\n",
       "|---|---|---|---|---|---|---|---|---|\n",
       "| GSM1030962_10030.CEL | 2                    | GSE42038             | CONTROL              | ALL                  | BM                   | unknown              | GSM1030962_10030.CEL | unknown              |\n",
       "| GSM1030963_10110.CEL | 2                    | GSE42038             | CONTROL              | ALL                  | PBMC                 | unknown              | GSM1030963_10110.CEL | unknown              |\n",
       "| GSM1030964_10111.CEL | 2                    | GSE42038             | CONTROL              | ALL                  | BM                   | unknown              | GSM1030964_10111.CEL | unknown              |\n",
       "| GSM1030965_10138.CEL | 2                    | GSE42038             | CONTROL              | ALL                  | BM                   | unknown              | GSM1030965_10138.CEL | unknown              |\n",
       "| GSM1030966_1032.CEL | 2                    | GSE42038             | CONTROL              | ALL                  | BM                   | unknown              | GSM1030966_1032.CEL  | unknown              |\n",
       "\n"
      ],
      "text/plain": [
       "                     Dataset GSE      Condition Disease Tissue FAB    \n",
       "GSM1030962_10030.CEL 2       GSE42038 CONTROL   ALL     BM     unknown\n",
       "GSM1030963_10110.CEL 2       GSE42038 CONTROL   ALL     PBMC   unknown\n",
       "GSM1030964_10111.CEL 2       GSE42038 CONTROL   ALL     BM     unknown\n",
       "GSM1030965_10138.CEL 2       GSE42038 CONTROL   ALL     BM     unknown\n",
       "GSM1030966_1032.CEL  2       GSE42038 CONTROL   ALL     BM     unknown\n",
       "                     Filename             FAB_all\n",
       "GSM1030962_10030.CEL GSM1030962_10030.CEL unknown\n",
       "GSM1030963_10110.CEL GSM1030963_10110.CEL unknown\n",
       "GSM1030964_10111.CEL GSM1030964_10111.CEL unknown\n",
       "GSM1030965_10138.CEL GSM1030965_10138.CEL unknown\n",
       "GSM1030966_1032.CEL  GSM1030966_1032.CEL  unknown"
      ]
     },
     "metadata": {},
     "output_type": "display_data"
    }
   ],
   "source": [
    "# phenotype data (AML and ALL only)\n",
    "dim(subset.info)\n",
    "subset.info[1:5,]"
   ]
  },
  {
   "cell_type": "code",
   "execution_count": 12,
   "id": "540c5770",
   "metadata": {},
   "outputs": [
    {
     "data": {
      "text/html": [
       "<ol class=list-inline>\n",
       "\t<li>12708</li>\n",
       "\t<li>5086</li>\n",
       "</ol>\n"
      ],
      "text/latex": [
       "\\begin{enumerate*}\n",
       "\\item 12708\n",
       "\\item 5086\n",
       "\\end{enumerate*}\n"
      ],
      "text/markdown": [
       "1. 12708\n",
       "2. 5086\n",
       "\n",
       "\n"
      ],
      "text/plain": [
       "[1] 12708  5086"
      ]
     },
     "metadata": {},
     "output_type": "display_data"
    },
    {
     "data": {
      "text/html": [
       "<table>\n",
       "<thead><tr><th></th><th scope=col>GSM1030962_10030.CEL</th><th scope=col>GSM1030963_10110.CEL</th><th scope=col>GSM1030964_10111.CEL</th><th scope=col>GSM1030965_10138.CEL</th><th scope=col>GSM1030966_1032.CEL</th><th scope=col>GSM1030967_1113.CEL</th><th scope=col>GSM1030968_1132.CEL</th><th scope=col>GSM1030969_1446.CEL</th><th scope=col>GSM1030970_1509.CEL</th><th scope=col>GSM1030971_1524.CEL</th></tr></thead>\n",
       "<tbody>\n",
       "\t<tr><th scope=row>PAX8</th><td> 8.27154</td><td> 8.49112</td><td> 8.34082</td><td> 8.24190</td><td> 7.75355</td><td> 7.95457</td><td> 7.99231</td><td> 8.40749</td><td> 8.11578</td><td> 8.18438</td></tr>\n",
       "\t<tr><th scope=row>CCL5</th><td> 5.02307</td><td> 3.95575</td><td> 4.68666</td><td> 5.78429</td><td> 4.97396</td><td> 5.75343</td><td> 4.21497</td><td> 4.55103</td><td> 9.11314</td><td> 7.51884</td></tr>\n",
       "\t<tr><th scope=row>MMP14</th><td> 7.06640</td><td> 6.41582</td><td> 6.14716</td><td> 6.65615</td><td> 6.35464</td><td> 6.89049</td><td> 6.28378</td><td> 6.63393</td><td> 6.55267</td><td> 6.79243</td></tr>\n",
       "\t<tr><th scope=row>DTX2P1-UPK3BP1-PMS2P11</th><td> 8.24990</td><td> 8.42649</td><td> 8.09809</td><td> 8.15517</td><td> 8.00680</td><td> 7.95516</td><td> 8.13866</td><td> 8.56563</td><td> 7.87479</td><td> 7.76304</td></tr>\n",
       "\t<tr><th scope=row>BAD</th><td> 5.75432</td><td> 6.77953</td><td> 6.35168</td><td> 4.97367</td><td> 6.79648</td><td> 5.49744</td><td> 7.27109</td><td> 6.34759</td><td> 5.37534</td><td> 4.98609</td></tr>\n",
       "\t<tr><th scope=row>PRPF8</th><td> 9.40864</td><td> 9.99876</td><td>10.10850</td><td> 9.31322</td><td> 9.89784</td><td> 9.68242</td><td> 9.99797</td><td>10.66240</td><td> 9.52855</td><td> 9.17292</td></tr>\n",
       "\t<tr><th scope=row>CAPNS1</th><td>10.40220</td><td>11.13020</td><td>10.90360</td><td>10.16460</td><td>10.91150</td><td>10.20030</td><td>10.12300</td><td>10.75990</td><td> 9.81339</td><td>10.01970</td></tr>\n",
       "\t<tr><th scope=row>RPL35</th><td>12.97710</td><td>12.90460</td><td>12.92400</td><td>13.22060</td><td>12.94350</td><td>12.60770</td><td>13.13370</td><td>13.46040</td><td>12.74550</td><td>12.78510</td></tr>\n",
       "\t<tr><th scope=row>EIF4G2</th><td> 4.88702</td><td> 5.13691</td><td> 4.90962</td><td> 5.02729</td><td> 5.90961</td><td> 6.75055</td><td> 5.12968</td><td> 4.58441</td><td> 4.72627</td><td> 5.89014</td></tr>\n",
       "\t<tr><th scope=row>EIF3D</th><td>10.75580</td><td>10.91820</td><td>10.50810</td><td>11.10610</td><td>11.08930</td><td>10.44550</td><td>11.26500</td><td>10.95390</td><td>10.03550</td><td>11.15850</td></tr>\n",
       "</tbody>\n",
       "</table>\n"
      ],
      "text/latex": [
       "\\begin{tabular}{r|llllllllll}\n",
       "  & GSM1030962\\_10030.CEL & GSM1030963\\_10110.CEL & GSM1030964\\_10111.CEL & GSM1030965\\_10138.CEL & GSM1030966\\_1032.CEL & GSM1030967\\_1113.CEL & GSM1030968\\_1132.CEL & GSM1030969\\_1446.CEL & GSM1030970\\_1509.CEL & GSM1030971\\_1524.CEL\\\\\n",
       "\\hline\n",
       "\tPAX8 &  8.27154 &  8.49112 &  8.34082 &  8.24190 &  7.75355 &  7.95457 &  7.99231 &  8.40749 &  8.11578 &  8.18438\\\\\n",
       "\tCCL5 &  5.02307 &  3.95575 &  4.68666 &  5.78429 &  4.97396 &  5.75343 &  4.21497 &  4.55103 &  9.11314 &  7.51884\\\\\n",
       "\tMMP14 &  7.06640 &  6.41582 &  6.14716 &  6.65615 &  6.35464 &  6.89049 &  6.28378 &  6.63393 &  6.55267 &  6.79243\\\\\n",
       "\tDTX2P1-UPK3BP1-PMS2P11 &  8.24990 &  8.42649 &  8.09809 &  8.15517 &  8.00680 &  7.95516 &  8.13866 &  8.56563 &  7.87479 &  7.76304\\\\\n",
       "\tBAD &  5.75432 &  6.77953 &  6.35168 &  4.97367 &  6.79648 &  5.49744 &  7.27109 &  6.34759 &  5.37534 &  4.98609\\\\\n",
       "\tPRPF8 &  9.40864 &  9.99876 & 10.10850 &  9.31322 &  9.89784 &  9.68242 &  9.99797 & 10.66240 &  9.52855 &  9.17292\\\\\n",
       "\tCAPNS1 & 10.40220 & 11.13020 & 10.90360 & 10.16460 & 10.91150 & 10.20030 & 10.12300 & 10.75990 &  9.81339 & 10.01970\\\\\n",
       "\tRPL35 & 12.97710 & 12.90460 & 12.92400 & 13.22060 & 12.94350 & 12.60770 & 13.13370 & 13.46040 & 12.74550 & 12.78510\\\\\n",
       "\tEIF4G2 &  4.88702 &  5.13691 &  4.90962 &  5.02729 &  5.90961 &  6.75055 &  5.12968 &  4.58441 &  4.72627 &  5.89014\\\\\n",
       "\tEIF3D & 10.75580 & 10.91820 & 10.50810 & 11.10610 & 11.08930 & 10.44550 & 11.26500 & 10.95390 & 10.03550 & 11.15850\\\\\n",
       "\\end{tabular}\n"
      ],
      "text/markdown": [
       "\n",
       "| <!--/--> | GSM1030962_10030.CEL | GSM1030963_10110.CEL | GSM1030964_10111.CEL | GSM1030965_10138.CEL | GSM1030966_1032.CEL | GSM1030967_1113.CEL | GSM1030968_1132.CEL | GSM1030969_1446.CEL | GSM1030970_1509.CEL | GSM1030971_1524.CEL |\n",
       "|---|---|---|---|---|---|---|---|---|---|---|\n",
       "| PAX8 |  8.27154 |  8.49112 |  8.34082 |  8.24190 |  7.75355 |  7.95457 |  7.99231 |  8.40749 |  8.11578 |  8.18438 |\n",
       "| CCL5 |  5.02307 |  3.95575 |  4.68666 |  5.78429 |  4.97396 |  5.75343 |  4.21497 |  4.55103 |  9.11314 |  7.51884 |\n",
       "| MMP14 |  7.06640 |  6.41582 |  6.14716 |  6.65615 |  6.35464 |  6.89049 |  6.28378 |  6.63393 |  6.55267 |  6.79243 |\n",
       "| DTX2P1-UPK3BP1-PMS2P11 |  8.24990 |  8.42649 |  8.09809 |  8.15517 |  8.00680 |  7.95516 |  8.13866 |  8.56563 |  7.87479 |  7.76304 |\n",
       "| BAD |  5.75432 |  6.77953 |  6.35168 |  4.97367 |  6.79648 |  5.49744 |  7.27109 |  6.34759 |  5.37534 |  4.98609 |\n",
       "| PRPF8 |  9.40864 |  9.99876 | 10.10850 |  9.31322 |  9.89784 |  9.68242 |  9.99797 | 10.66240 |  9.52855 |  9.17292 |\n",
       "| CAPNS1 | 10.40220 | 11.13020 | 10.90360 | 10.16460 | 10.91150 | 10.20030 | 10.12300 | 10.75990 |  9.81339 | 10.01970 |\n",
       "| RPL35 | 12.97710 | 12.90460 | 12.92400 | 13.22060 | 12.94350 | 12.60770 | 13.13370 | 13.46040 | 12.74550 | 12.78510 |\n",
       "| EIF4G2 |  4.88702 |  5.13691 |  4.90962 |  5.02729 |  5.90961 |  6.75055 |  5.12968 |  4.58441 |  4.72627 |  5.89014 |\n",
       "| EIF3D | 10.75580 | 10.91820 | 10.50810 | 11.10610 | 11.08930 | 10.44550 | 11.26500 | 10.95390 | 10.03550 | 11.15850 |\n",
       "\n"
      ],
      "text/plain": [
       "                       GSM1030962_10030.CEL GSM1030963_10110.CEL\n",
       "PAX8                    8.27154              8.49112            \n",
       "CCL5                    5.02307              3.95575            \n",
       "MMP14                   7.06640              6.41582            \n",
       "DTX2P1-UPK3BP1-PMS2P11  8.24990              8.42649            \n",
       "BAD                     5.75432              6.77953            \n",
       "PRPF8                   9.40864              9.99876            \n",
       "CAPNS1                 10.40220             11.13020            \n",
       "RPL35                  12.97710             12.90460            \n",
       "EIF4G2                  4.88702              5.13691            \n",
       "EIF3D                  10.75580             10.91820            \n",
       "                       GSM1030964_10111.CEL GSM1030965_10138.CEL\n",
       "PAX8                    8.34082              8.24190            \n",
       "CCL5                    4.68666              5.78429            \n",
       "MMP14                   6.14716              6.65615            \n",
       "DTX2P1-UPK3BP1-PMS2P11  8.09809              8.15517            \n",
       "BAD                     6.35168              4.97367            \n",
       "PRPF8                  10.10850              9.31322            \n",
       "CAPNS1                 10.90360             10.16460            \n",
       "RPL35                  12.92400             13.22060            \n",
       "EIF4G2                  4.90962              5.02729            \n",
       "EIF3D                  10.50810             11.10610            \n",
       "                       GSM1030966_1032.CEL GSM1030967_1113.CEL\n",
       "PAX8                    7.75355             7.95457           \n",
       "CCL5                    4.97396             5.75343           \n",
       "MMP14                   6.35464             6.89049           \n",
       "DTX2P1-UPK3BP1-PMS2P11  8.00680             7.95516           \n",
       "BAD                     6.79648             5.49744           \n",
       "PRPF8                   9.89784             9.68242           \n",
       "CAPNS1                 10.91150            10.20030           \n",
       "RPL35                  12.94350            12.60770           \n",
       "EIF4G2                  5.90961             6.75055           \n",
       "EIF3D                  11.08930            10.44550           \n",
       "                       GSM1030968_1132.CEL GSM1030969_1446.CEL\n",
       "PAX8                    7.99231             8.40749           \n",
       "CCL5                    4.21497             4.55103           \n",
       "MMP14                   6.28378             6.63393           \n",
       "DTX2P1-UPK3BP1-PMS2P11  8.13866             8.56563           \n",
       "BAD                     7.27109             6.34759           \n",
       "PRPF8                   9.99797            10.66240           \n",
       "CAPNS1                 10.12300            10.75990           \n",
       "RPL35                  13.13370            13.46040           \n",
       "EIF4G2                  5.12968             4.58441           \n",
       "EIF3D                  11.26500            10.95390           \n",
       "                       GSM1030970_1509.CEL GSM1030971_1524.CEL\n",
       "PAX8                    8.11578             8.18438           \n",
       "CCL5                    9.11314             7.51884           \n",
       "MMP14                   6.55267             6.79243           \n",
       "DTX2P1-UPK3BP1-PMS2P11  7.87479             7.76304           \n",
       "BAD                     5.37534             4.98609           \n",
       "PRPF8                   9.52855             9.17292           \n",
       "CAPNS1                  9.81339            10.01970           \n",
       "RPL35                  12.74550            12.78510           \n",
       "EIF4G2                  4.72627             5.89014           \n",
       "EIF3D                  10.03550            11.15850           "
      ]
     },
     "metadata": {},
     "output_type": "display_data"
    }
   ],
   "source": [
    "# gene expression data (AML and ALL only)\n",
    "subset.data.2 <- data.2[,rownames(subset.info)]\n",
    "dim(subset.data.2)\n",
    "subset.data.2[1:10,1:10]"
   ]
  },
  {
   "cell_type": "markdown",
   "id": "bac33f7f-b486-4213-b944-484ea4bb3ef9",
   "metadata": {},
   "source": [
    "To build our models, we divide our data into training set and test set, consisting of 80% and 20% of our dataset correspondingly. Our training set contains 4021 samples and our test set contains 1065 samples."
   ]
  },
  {
   "cell_type": "code",
   "execution_count": 13,
   "id": "7467cc0b",
   "metadata": {},
   "outputs": [],
   "source": [
    "subset.data.2 <- as.data.frame(t(subset.data.2))\n",
    "\n",
    "# add class label\n",
    "subset.data.2$label <- with(subset.info, ifelse(Disease=='AML', 1, 0))\n",
    "\n",
    "# reference: https://www.geeksforgeeks.org/split-the-dataset-into-the-training-test-set-in-r/\n",
    "# divide the matrix into training set 80% and testing 20% respectively with replacement\n",
    "sample <- sample(c(TRUE,FALSE), nrow(subset.data.2), replace=TRUE, prob=c(0.8,0.2))\n",
    "  \n",
    "# creating training dataset\n",
    "train_dataset <- subset.data.2[sample, ]\n",
    "  \n",
    "# creating testing dataset\n",
    "test_dataset <- subset.data.2[!sample,]"
   ]
  },
  {
   "cell_type": "code",
   "execution_count": 14,
   "id": "a2fadd60",
   "metadata": {},
   "outputs": [
    {
     "data": {
      "text/html": [
       "<ol class=list-inline>\n",
       "\t<li>4021</li>\n",
       "\t<li>12709</li>\n",
       "</ol>\n"
      ],
      "text/latex": [
       "\\begin{enumerate*}\n",
       "\\item 4021\n",
       "\\item 12709\n",
       "\\end{enumerate*}\n"
      ],
      "text/markdown": [
       "1. 4021\n",
       "2. 12709\n",
       "\n",
       "\n"
      ],
      "text/plain": [
       "[1]  4021 12709"
      ]
     },
     "metadata": {},
     "output_type": "display_data"
    },
    {
     "data": {
      "text/html": [
       "<ol class=list-inline>\n",
       "\t<li>1065</li>\n",
       "\t<li>12709</li>\n",
       "</ol>\n"
      ],
      "text/latex": [
       "\\begin{enumerate*}\n",
       "\\item 1065\n",
       "\\item 12709\n",
       "\\end{enumerate*}\n"
      ],
      "text/markdown": [
       "1. 1065\n",
       "2. 12709\n",
       "\n",
       "\n"
      ],
      "text/plain": [
       "[1]  1065 12709"
      ]
     },
     "metadata": {},
     "output_type": "display_data"
    }
   ],
   "source": [
    "dim(train_dataset)\n",
    "dim(test_dataset)"
   ]
  },
  {
   "cell_type": "markdown",
   "id": "272eda5e-54d2-4017-a4c3-6651c2add18c",
   "metadata": {},
   "source": [
    "In each training and test, we further check if there is the class label, AML and ALL, are balanced."
   ]
  },
  {
   "cell_type": "code",
   "execution_count": 15,
   "id": "2b25c466",
   "metadata": {},
   "outputs": [
    {
     "data": {
      "text/html": [
       "2037"
      ],
      "text/latex": [
       "2037"
      ],
      "text/markdown": [
       "2037"
      ],
      "text/plain": [
       "[1] 2037"
      ]
     },
     "metadata": {},
     "output_type": "display_data"
    },
    {
     "data": {
      "text/html": [
       "1984"
      ],
      "text/latex": [
       "1984"
      ],
      "text/markdown": [
       "1984"
      ],
      "text/plain": [
       "[1] 1984"
      ]
     },
     "metadata": {},
     "output_type": "display_data"
    }
   ],
   "source": [
    "# making sure that the data will be balanced between AML and ALL\n",
    "length(which(train_dataset$label == 1))\n",
    "length(which(train_dataset$label == 0))"
   ]
  },
  {
   "cell_type": "code",
   "execution_count": 16,
   "id": "b8d03984",
   "metadata": {},
   "outputs": [
    {
     "data": {
      "text/html": [
       "551"
      ],
      "text/latex": [
       "551"
      ],
      "text/markdown": [
       "551"
      ],
      "text/plain": [
       "[1] 551"
      ]
     },
     "metadata": {},
     "output_type": "display_data"
    },
    {
     "data": {
      "text/html": [
       "514"
      ],
      "text/latex": [
       "514"
      ],
      "text/markdown": [
       "514"
      ],
      "text/plain": [
       "[1] 514"
      ]
     },
     "metadata": {},
     "output_type": "display_data"
    }
   ],
   "source": [
    "# making sure that the data will be balanced between AML and ALL\n",
    "length(which(test_dataset$label == 1))\n",
    "length(which(test_dataset$label == 0))"
   ]
  },
  {
   "cell_type": "code",
   "execution_count": 17,
   "id": "8dc68864",
   "metadata": {},
   "outputs": [
    {
     "data": {
      "text/html": [
       "<table>\n",
       "<thead><tr><th></th><th scope=col>PAX8</th><th scope=col>CCL5</th><th scope=col>MMP14</th><th scope=col>DTX2P1-UPK3BP1-PMS2P11</th><th scope=col>BAD</th></tr></thead>\n",
       "<tbody>\n",
       "\t<tr><th scope=row>GSM1030962_10030.CEL</th><td>8.27154</td><td>5.02307</td><td>7.06640</td><td>8.24990</td><td>5.75432</td></tr>\n",
       "\t<tr><th scope=row>GSM1030963_10110.CEL</th><td>8.49112</td><td>3.95575</td><td>6.41582</td><td>8.42649</td><td>6.77953</td></tr>\n",
       "\t<tr><th scope=row>GSM1030964_10111.CEL</th><td>8.34082</td><td>4.68666</td><td>6.14716</td><td>8.09809</td><td>6.35168</td></tr>\n",
       "\t<tr><th scope=row>GSM1030966_1032.CEL</th><td>7.75355</td><td>4.97396</td><td>6.35464</td><td>8.00680</td><td>6.79648</td></tr>\n",
       "\t<tr><th scope=row>GSM1030969_1446.CEL</th><td>8.40749</td><td>4.55103</td><td>6.63393</td><td>8.56563</td><td>6.34759</td></tr>\n",
       "</tbody>\n",
       "</table>\n"
      ],
      "text/latex": [
       "\\begin{tabular}{r|lllll}\n",
       "  & PAX8 & CCL5 & MMP14 & DTX2P1-UPK3BP1-PMS2P11 & BAD\\\\\n",
       "\\hline\n",
       "\tGSM1030962\\_10030.CEL & 8.27154 & 5.02307 & 7.06640 & 8.24990 & 5.75432\\\\\n",
       "\tGSM1030963\\_10110.CEL & 8.49112 & 3.95575 & 6.41582 & 8.42649 & 6.77953\\\\\n",
       "\tGSM1030964\\_10111.CEL & 8.34082 & 4.68666 & 6.14716 & 8.09809 & 6.35168\\\\\n",
       "\tGSM1030966\\_1032.CEL & 7.75355 & 4.97396 & 6.35464 & 8.00680 & 6.79648\\\\\n",
       "\tGSM1030969\\_1446.CEL & 8.40749 & 4.55103 & 6.63393 & 8.56563 & 6.34759\\\\\n",
       "\\end{tabular}\n"
      ],
      "text/markdown": [
       "\n",
       "| <!--/--> | PAX8 | CCL5 | MMP14 | DTX2P1-UPK3BP1-PMS2P11 | BAD |\n",
       "|---|---|---|---|---|---|\n",
       "| GSM1030962_10030.CEL | 8.27154 | 5.02307 | 7.06640 | 8.24990 | 5.75432 |\n",
       "| GSM1030963_10110.CEL | 8.49112 | 3.95575 | 6.41582 | 8.42649 | 6.77953 |\n",
       "| GSM1030964_10111.CEL | 8.34082 | 4.68666 | 6.14716 | 8.09809 | 6.35168 |\n",
       "| GSM1030966_1032.CEL | 7.75355 | 4.97396 | 6.35464 | 8.00680 | 6.79648 |\n",
       "| GSM1030969_1446.CEL | 8.40749 | 4.55103 | 6.63393 | 8.56563 | 6.34759 |\n",
       "\n"
      ],
      "text/plain": [
       "                     PAX8    CCL5    MMP14   DTX2P1-UPK3BP1-PMS2P11 BAD    \n",
       "GSM1030962_10030.CEL 8.27154 5.02307 7.06640 8.24990                5.75432\n",
       "GSM1030963_10110.CEL 8.49112 3.95575 6.41582 8.42649                6.77953\n",
       "GSM1030964_10111.CEL 8.34082 4.68666 6.14716 8.09809                6.35168\n",
       "GSM1030966_1032.CEL  7.75355 4.97396 6.35464 8.00680                6.79648\n",
       "GSM1030969_1446.CEL  8.40749 4.55103 6.63393 8.56563                6.34759"
      ]
     },
     "metadata": {},
     "output_type": "display_data"
    }
   ],
   "source": [
    "train_dataset[1:5, 1:5]"
   ]
  },
  {
   "cell_type": "markdown",
   "id": "89f301cb-d981-42a1-a95c-d0d2cfa485cc",
   "metadata": {},
   "source": [
    "Saved our training and test set into RData so it can be loaded to the next ipynb file. "
   ]
  },
  {
   "cell_type": "code",
   "execution_count": 18,
   "id": "efe0ef34",
   "metadata": {},
   "outputs": [],
   "source": [
    "# saving train and test data so it can be loaded to another ipynb file\n",
    "save(train_dataset, test_dataset, file = \"data.RData\")"
   ]
  },
  {
   "cell_type": "code",
   "execution_count": null,
   "id": "89ad6fb5",
   "metadata": {},
   "outputs": [],
   "source": []
  }
 ],
 "metadata": {
  "kernelspec": {
   "display_name": "R",
   "language": "R",
   "name": "ir"
  },
  "language_info": {
   "codemirror_mode": "r",
   "file_extension": ".r",
   "mimetype": "text/x-r-source",
   "name": "R",
   "pygments_lexer": "r",
   "version": "3.6.1"
  }
 },
 "nbformat": 4,
 "nbformat_minor": 5
}
