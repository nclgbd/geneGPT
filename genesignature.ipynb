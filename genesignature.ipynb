{
 "cells": [
  {
   "cell_type": "markdown",
   "id": "ca4d8ff2-444e-4105-ad02-971a07aeebe7",
   "metadata": {},
   "source": [
    "# Code and Documentation\n",
    "### Part 2 - Gene Signature\n",
    "____\n",
    "#### GroupD: Nicole Guobadia, Dhruvi Kaswala, Arashpreet Singh Pandher, Karen Angella Edy Setiawan\n",
    "\n",
    "Note: make sure to shut down all other kernels"
   ]
  },
  {
   "cell_type": "code",
   "execution_count": 1,
   "id": "8bd1ce8d-d9ad-40df-a8cc-f4a75f95557b",
   "metadata": {},
   "outputs": [
    {
     "name": "stdout",
     "output_type": "stream",
     "text": [
      "\n",
      "  There is a binary version available but the source version is later:\n",
      "       binary source needs_compilation\n",
      "glmnet  4.1-1  4.1-6              TRUE\n",
      "\n",
      "  Binaries will be installed\n",
      "package 'glmnet' successfully unpacked and MD5 sums checked\n"
     ]
    },
    {
     "name": "stderr",
     "output_type": "stream",
     "text": [
      "Warning message:\n",
      "\"cannot remove prior installation of package 'glmnet'\"\n",
      "Warning message in file.copy(savedcopy, lib, recursive = TRUE):\n",
      "\"problem copying C:\\Users\\nicol\\Anaconda3\\Lib\\R\\library\\00LOCK\\glmnet\\libs\\x64\\glmnet.dll to C:\\Users\\nicol\\Anaconda3\\Lib\\R\\library\\glmnet\\libs\\x64\\glmnet.dll: Permission denied\"\n",
      "Warning message:\n",
      "\"restored 'glmnet'\"\n"
     ]
    },
    {
     "name": "stdout",
     "output_type": "stream",
     "text": [
      "\n",
      "The downloaded binary packages are in\n",
      "\tC:\\Users\\nicol\\AppData\\Local\\Temp\\RtmpwDvlQe\\downloaded_packages\n"
     ]
    },
    {
     "name": "stderr",
     "output_type": "stream",
     "text": [
      "Warning message:\n",
      "\"package 'glmnet' was built under R version 3.6.3\"\n",
      "Loading required package: Matrix\n",
      "\n",
      "Loaded glmnet 4.1-1\n",
      "\n"
     ]
    }
   ],
   "source": [
    "install.packages('glmnet', dependencies=TRUE)\n",
    "library(glmnet)"
   ]
  },
  {
   "cell_type": "markdown",
   "id": "cd5e1e64-61fd-4db1-817f-607852814215",
   "metadata": {},
   "source": [
    "First, load our training data from the previous notebook (part 1)."
   ]
  },
  {
   "cell_type": "code",
   "execution_count": 2,
   "id": "a28a0bb5-bf01-48de-9d6c-069efa532884",
   "metadata": {},
   "outputs": [
    {
     "data": {
      "text/html": [
       "<ol class=list-inline>\n",
       "\t<li>'test_dataset'</li>\n",
       "\t<li>'train_dataset'</li>\n",
       "</ol>\n"
      ],
      "text/latex": [
       "\\begin{enumerate*}\n",
       "\\item 'test\\_dataset'\n",
       "\\item 'train\\_dataset'\n",
       "\\end{enumerate*}\n"
      ],
      "text/markdown": [
       "1. 'test_dataset'\n",
       "2. 'train_dataset'\n",
       "\n",
       "\n"
      ],
      "text/plain": [
       "[1] \"test_dataset\"  \"train_dataset\""
      ]
     },
     "metadata": {},
     "output_type": "display_data"
    }
   ],
   "source": [
    "load(path.expand(\"data.RData\"))\n",
    "ls()"
   ]
  },
  {
   "cell_type": "code",
   "execution_count": 3,
   "id": "124e8ac7-6deb-4791-8a20-6adaeb804aae",
   "metadata": {},
   "outputs": [],
   "source": [
    "set.seed(1)"
   ]
  },
  {
   "cell_type": "markdown",
   "id": "41608f44-28a8-433f-a12d-ec6a776b4b17",
   "metadata": {},
   "source": [
    "For our gene signature, we will first perform t-test for each genes. Then, we adjusted the resulting p values using fdr. We are looking at genes with adjusted p value smaller than 0.05."
   ]
  },
  {
   "cell_type": "code",
   "execution_count": 4,
   "id": "b374d0a7-6232-4693-bffa-947b48b5b067",
   "metadata": {},
   "outputs": [],
   "source": [
    "# get index for AML and ALL samples\n",
    "aml.ind <- which(train_dataset$label == 1);\n",
    "all.ind <- which(train_dataset$label == 0);\n",
    "\n",
    "pval <- NULL\n",
    "\n",
    "# do t-test for each gene \n",
    "for (j in 1:12708){\n",
    "    pval[j] <- t.test (train_dataset[c(aml.ind), j], train_dataset[c(all.ind), j])$p.value;\n",
    "}"
   ]
  },
  {
   "cell_type": "code",
   "execution_count": 5,
   "id": "cc28aadf-f067-46cc-becb-98f079271d0c",
   "metadata": {},
   "outputs": [
    {
     "data": {
      "text/html": [
       "11173"
      ],
      "text/latex": [
       "11173"
      ],
      "text/markdown": [
       "11173"
      ],
      "text/plain": [
       "[1] 11173"
      ]
     },
     "metadata": {},
     "output_type": "display_data"
    }
   ],
   "source": [
    "# adjust p value using fdr\n",
    "pval.adj <- p.adjust(pval, method = \"fdr\")\n",
    "length(which(pval.adj < 0.05))"
   ]
  },
  {
   "cell_type": "markdown",
   "id": "44650383-03e5-4f1e-8bcc-d2df573b6eff",
   "metadata": {},
   "source": [
    "Furthermore, we do feature selection using Mean Absolute Difference (MAD). We are looking for genes with MAD > 1.5. There are 429 genes that has BOTH adjusted p value < 0.05 and MAD > 1.5."
   ]
  },
  {
   "cell_type": "code",
   "execution_count": 6,
   "id": "7c8d1c24-48d0-4277-ade0-aa5da123b37c",
   "metadata": {},
   "outputs": [],
   "source": [
    "# reference: https://www.geeksforgeeks.org/feature-selection-techniques-in-machine-learning/\n",
    "\n",
    "# calculate the mean of each gene per aml group\n",
    "avg.aml = apply(train_dataset[c(aml.ind), ], 2, mean)\n",
    "\n",
    "# calcuate the mean of each gene per all group\n",
    "avg.all = apply(train_dataset[c(all.ind), ], 2, mean) \n",
    "\n",
    "# mean absolute difference\n",
    "mad <- abs(avg.aml - avg.all)"
   ]
  },
  {
   "cell_type": "code",
   "execution_count": 7,
   "id": "f6db222b-a5e6-4537-b7db-1fc793eace0a",
   "metadata": {},
   "outputs": [
    {
     "data": {
      "text/html": [
       "429"
      ],
      "text/latex": [
       "429"
      ],
      "text/markdown": [
       "429"
      ],
      "text/plain": [
       "[1] 429"
      ]
     },
     "metadata": {},
     "output_type": "display_data"
    }
   ],
   "source": [
    "# intersecting genes\n",
    "genes <- intersect(which(mad > 1.5), which(pval.adj < 0.05))\n",
    "length(genes)"
   ]
  },
  {
   "cell_type": "markdown",
   "id": "5b6f7337-dee3-48eb-94f8-824726669fe5",
   "metadata": {},
   "source": [
    "Next, we do gene selection via LASSO penalized regression. Genes with non-zero coefficients at the LASSO penalization level that optimizes cross-validation error are selected."
   ]
  },
  {
   "cell_type": "code",
   "execution_count": 8,
   "id": "10262dab-e791-45ac-be7a-1360fb287baa",
   "metadata": {},
   "outputs": [],
   "source": [
    "# lasso genes, penalized maximum likelihood\n",
    "lasso <- cv.glmnet(as.matrix(train_dataset[1:(ncol(train_dataset) - 1)]), as.matrix(train_dataset['label']), alpha=1)"
   ]
  },
  {
   "cell_type": "code",
   "execution_count": 9,
   "id": "58ef6a74-4e47-4456-bfe1-e664bd0e56fe",
   "metadata": {},
   "outputs": [],
   "source": [
    "lassogene <- data.frame(coef.name = dimnames(coef(lasso))[[1]], coef.value = matrix(coef(lasso)))\n",
    "lassogene <- lassogene[-1,]"
   ]
  },
  {
   "cell_type": "code",
   "execution_count": 10,
   "id": "975621fc-a6f4-4ac3-ae0d-ca29cdc7f151",
   "metadata": {},
   "outputs": [
    {
     "data": {
      "text/html": [
       "287"
      ],
      "text/latex": [
       "287"
      ],
      "text/markdown": [
       "287"
      ],
      "text/plain": [
       "[1] 287"
      ]
     },
     "metadata": {},
     "output_type": "display_data"
    }
   ],
   "source": [
    "length(which(lassogene[,'coef.value'] != 0))"
   ]
  },
  {
   "cell_type": "code",
   "execution_count": 11,
   "id": "4d176d5c-1343-444e-97b6-a7e92dc91ebd",
   "metadata": {},
   "outputs": [],
   "source": [
    "# looking for genes with coef != 0\n",
    "lassogene <- which(lassogene[,'coef.value'] != 0)"
   ]
  },
  {
   "cell_type": "markdown",
   "id": "7eb26200-e065-4d0c-a700-c34806ed4b22",
   "metadata": {},
   "source": [
    "Our final gene signature, are genes that has all three: \n",
    "1. adjusted p value < 0.05\n",
    "2. MAD > 1.5\n",
    "3. non-zero coefficient at LASSO penalization.\n",
    "\n",
    "And we have 59 genes."
   ]
  },
  {
   "cell_type": "code",
   "execution_count": 12,
   "id": "ff82193f-36cd-40b6-8a78-401305f2fc2d",
   "metadata": {},
   "outputs": [
    {
     "data": {
      "text/html": [
       "59"
      ],
      "text/latex": [
       "59"
      ],
      "text/markdown": [
       "59"
      ],
      "text/plain": [
       "[1] 59"
      ]
     },
     "metadata": {},
     "output_type": "display_data"
    }
   ],
   "source": [
    "# gene signature: gene that fulfills pval < 0.05, mad > 1.5, and coef != 0\n",
    "genesig <- intersect(genes, lassogene)\n",
    "length(genesig)"
   ]
  },
  {
   "cell_type": "code",
   "execution_count": 13,
   "id": "d33a4d68-32e7-4f07-9765-065386cae449",
   "metadata": {},
   "outputs": [],
   "source": [
    "# saving gene signature so it can be loaded to another ipynb file\n",
    "save(genesig, file = \"gene.RData\")"
   ]
  }
 ],
 "metadata": {
  "kernelspec": {
   "display_name": "R",
   "language": "R",
   "name": "ir"
  },
  "language_info": {
   "codemirror_mode": "r",
   "file_extension": ".r",
   "mimetype": "text/x-r-source",
   "name": "R",
   "pygments_lexer": "r",
   "version": "3.6.1"
  }
 },
 "nbformat": 4,
 "nbformat_minor": 5
}
