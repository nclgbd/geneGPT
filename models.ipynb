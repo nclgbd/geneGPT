{
 "cells": [
  {
   "cell_type": "markdown",
   "metadata": {},
   "source": [
    "# Code and Documentation\n",
    "### Part 3 - Models\n",
    "____\n",
    "#### GroupD: Nicole Guobadia, Dhruvi Kaswala, Arashpreet Singh Pandher, Karen Angella Edy Setiawan\n",
    "\n",
    "Note: make sure to shut down all other kernels"
   ]
  },
  {
   "cell_type": "code",
   "execution_count": 1,
   "metadata": {},
   "outputs": [
    {
     "name": "stderr",
     "output_type": "stream",
     "text": [
      "Bioconductor version '3.10' is out-of-date; the current release version '3.16'\n",
      "  is available with R version '4.2'; see https://bioconductor.org/install\n",
      "\n",
      "'getOption(\"repos\")' replaces Bioconductor standard repositories, see\n",
      "'help(\"repositories\", package = \"BiocManager\")' for details.\n",
      "Replacement repositories:\n",
      "    CRAN: https://cran.r-project.org\n",
      "\n",
      "Bioconductor version 3.10 (BiocManager 1.30.20), R 3.6.1 (2019-07-05)\n",
      "\n",
      "Old packages: 'askpass', 'backports', 'BH', 'boot', 'brio', 'broom', 'callr',\n",
      "  'caret', 'class', 'cli', 'clipr', 'cluster', 'codetools', 'collections',\n",
      "  'colorspace', 'commonmark', 'crayon', 'curl', 'data.table', 'DBI', 'dbplyr',\n",
      "  'dichromat', 'diffobj', 'digest', 'dplyr', 'e1071', 'evaluate', 'fansi',\n",
      "  'forcats', 'foreach', 'formatR', 'fs', 'generics', 'ggplot2', 'glmnet',\n",
      "  'glue', 'gower', 'gtable', 'gtools', 'haven', 'hexbin', 'highr', 'hms',\n",
      "  'htmltools', 'htmlwidgets', 'httpuv', 'httr', 'ipred', 'IRdisplay',\n",
      "  'IRkernel', 'iterators', 'jsonlite', 'KernSmooth', 'knitr', 'labeling',\n",
      "  'languageserver', 'lars', 'later', 'lattice', 'lava', 'lubridate',\n",
      "  'magrittr', 'maps', 'markdown', 'MASS', 'Matrix', 'mgcv', 'mime',\n",
      "  'ModelMetrics', 'modelr', 'nlme', 'nnet', 'numDeriv', 'openssl', 'pbdZMQ',\n",
      "  'pillar', 'pkgconfig', 'plyr', 'prettyunits', 'processx', 'prodlim',\n",
      "  'progress', 'promises', 'proxy', 'ps', 'purrr', 'quantmod', 'RColorBrewer',\n",
      "  'Rcpp', 'RcppEigen', 'readr', 'readxl', 'recipes', 'repr', 'reprex',\n",
      "  'reshape2', 'rlang', 'rmarkdown', 'roxygen2', 'rpart', 'rstudioapi', 'rvest',\n",
      "  'scales', 'selectr', 'shiny', 'slam', 'sourcetools', 'spatial', 'SQUAREM',\n",
      "  'stringi', 'stringr', 'styler', 'survival', 'sys', 'testthat', 'tibble',\n",
      "  'tidyr', 'tidyselect', 'tidyverse', 'timeDate', 'tinytex', 'TTR', 'utf8',\n",
      "  'uuid', 'vctrs', 'viridisLite', 'whisker', 'xfun', 'xml2', 'xts', 'yaml',\n",
      "  'zoo'\n",
      "\n",
      "'getOption(\"repos\")' replaces Bioconductor standard repositories, see\n",
      "'help(\"repositories\", package = \"BiocManager\")' for details.\n",
      "Replacement repositories:\n",
      "    CRAN: https://cran.r-project.org\n",
      "\n",
      "Bioconductor version 3.10 (BiocManager 1.30.20), R 3.6.1 (2019-07-05)\n",
      "\n",
      "Warning message:\n",
      "\"package(s) not installed when version(s) same as or greater than current; use\n",
      "  `force = TRUE` to re-install: 'randomForest'\"\n",
      "Old packages: 'askpass', 'backports', 'BH', 'boot', 'brio', 'broom', 'callr',\n",
      "  'caret', 'class', 'cli', 'clipr', 'cluster', 'codetools', 'collections',\n",
      "  'colorspace', 'commonmark', 'crayon', 'curl', 'data.table', 'DBI', 'dbplyr',\n",
      "  'dichromat', 'diffobj', 'digest', 'dplyr', 'e1071', 'evaluate', 'fansi',\n",
      "  'forcats', 'foreach', 'formatR', 'fs', 'generics', 'ggplot2', 'glmnet',\n",
      "  'glue', 'gower', 'gtable', 'gtools', 'haven', 'hexbin', 'highr', 'hms',\n",
      "  'htmltools', 'htmlwidgets', 'httpuv', 'httr', 'ipred', 'IRdisplay',\n",
      "  'IRkernel', 'iterators', 'jsonlite', 'KernSmooth', 'knitr', 'labeling',\n",
      "  'languageserver', 'lars', 'later', 'lattice', 'lava', 'lubridate',\n",
      "  'magrittr', 'maps', 'markdown', 'MASS', 'Matrix', 'mgcv', 'mime',\n",
      "  'ModelMetrics', 'modelr', 'nlme', 'nnet', 'numDeriv', 'openssl', 'pbdZMQ',\n",
      "  'pillar', 'pkgconfig', 'plyr', 'prettyunits', 'processx', 'prodlim',\n",
      "  'progress', 'promises', 'proxy', 'ps', 'purrr', 'quantmod', 'RColorBrewer',\n",
      "  'Rcpp', 'RcppEigen', 'readr', 'readxl', 'recipes', 'repr', 'reprex',\n",
      "  'reshape2', 'rlang', 'rmarkdown', 'roxygen2', 'rpart', 'rstudioapi', 'rvest',\n",
      "  'scales', 'selectr', 'shiny', 'slam', 'sourcetools', 'spatial', 'SQUAREM',\n",
      "  'stringi', 'stringr', 'styler', 'survival', 'sys', 'testthat', 'tibble',\n",
      "  'tidyr', 'tidyselect', 'tidyverse', 'timeDate', 'tinytex', 'TTR', 'utf8',\n",
      "  'uuid', 'vctrs', 'viridisLite', 'whisker', 'xfun', 'xml2', 'xts', 'yaml',\n",
      "  'zoo'\n",
      "\n",
      "randomForest 4.6-14\n",
      "\n",
      "Type rfNews() to see new features/changes/bug fixes.\n",
      "\n"
     ]
    }
   ],
   "source": [
    "if (!require(\"BiocManager\", quietly = TRUE))\n",
    "    install.packages(\"BiocManager\")\n",
    "BiocManager::install()\n",
    "BiocManager::install(\"randomForest\")\n",
    "library (randomForest)"
   ]
  },
  {
   "cell_type": "code",
   "execution_count": 2,
   "metadata": {},
   "outputs": [
    {
     "name": "stdout",
     "output_type": "stream",
     "text": [
      "\n",
      "  There is a binary version available but the source version is later:\n",
      "      binary source needs_compilation\n",
      "e1071  1.7-6 1.7-13              TRUE\n",
      "\n",
      "  Binaries will be installed\n",
      "package 'e1071' successfully unpacked and MD5 sums checked\n",
      "\n",
      "The downloaded binary packages are in\n",
      "\tC:\\Users\\nicol\\AppData\\Local\\Temp\\RtmpknDpno\\downloaded_packages\n"
     ]
    },
    {
     "name": "stderr",
     "output_type": "stream",
     "text": [
      "Warning message:\n",
      "\"package 'e1071' was built under R version 3.6.3\"\n"
     ]
    }
   ],
   "source": [
    "install.packages('e1071', dependencies=TRUE)\n",
    "library('e1071')"
   ]
  },
  {
   "cell_type": "code",
   "execution_count": 3,
   "metadata": {},
   "outputs": [],
   "source": [
    "set.seed(23)"
   ]
  },
  {
   "cell_type": "code",
   "execution_count": 4,
   "metadata": {},
   "outputs": [
    {
     "data": {
      "text/html": [
       "<ol class=list-inline>\n",
       "\t<li>'genesig'</li>\n",
       "\t<li>'test_dataset'</li>\n",
       "\t<li>'train_dataset'</li>\n",
       "</ol>\n"
      ],
      "text/latex": [
       "\\begin{enumerate*}\n",
       "\\item 'genesig'\n",
       "\\item 'test\\_dataset'\n",
       "\\item 'train\\_dataset'\n",
       "\\end{enumerate*}\n"
      ],
      "text/markdown": [
       "1. 'genesig'\n",
       "2. 'test_dataset'\n",
       "3. 'train_dataset'\n",
       "\n",
       "\n"
      ],
      "text/plain": [
       "[1] \"genesig\"       \"test_dataset\"  \"train_dataset\""
      ]
     },
     "metadata": {},
     "output_type": "display_data"
    }
   ],
   "source": [
    "# load train, test, and gene signature data into notebook\n",
    "load(\"data.RData\")\n",
    "load(\"gene.RData\")\n",
    "ls()"
   ]
  },
  {
   "cell_type": "code",
   "execution_count": 5,
   "metadata": {},
   "outputs": [
    {
     "data": {
      "text/html": [
       "<table>\n",
       "<thead><tr><th></th><th scope=col>PAX8</th><th scope=col>CCL5</th><th scope=col>MMP14</th><th scope=col>DTX2P1-UPK3BP1-PMS2P11</th><th scope=col>BAD</th></tr></thead>\n",
       "<tbody>\n",
       "\t<tr><th scope=row>GSM1030962_10030.CEL</th><td>8.27154</td><td>5.02307</td><td>7.06640</td><td>8.24990</td><td>5.75432</td></tr>\n",
       "\t<tr><th scope=row>GSM1030963_10110.CEL</th><td>8.49112</td><td>3.95575</td><td>6.41582</td><td>8.42649</td><td>6.77953</td></tr>\n",
       "\t<tr><th scope=row>GSM1030964_10111.CEL</th><td>8.34082</td><td>4.68666</td><td>6.14716</td><td>8.09809</td><td>6.35168</td></tr>\n",
       "\t<tr><th scope=row>GSM1030966_1032.CEL</th><td>7.75355</td><td>4.97396</td><td>6.35464</td><td>8.00680</td><td>6.79648</td></tr>\n",
       "\t<tr><th scope=row>GSM1030969_1446.CEL</th><td>8.40749</td><td>4.55103</td><td>6.63393</td><td>8.56563</td><td>6.34759</td></tr>\n",
       "</tbody>\n",
       "</table>\n"
      ],
      "text/latex": [
       "\\begin{tabular}{r|lllll}\n",
       "  & PAX8 & CCL5 & MMP14 & DTX2P1-UPK3BP1-PMS2P11 & BAD\\\\\n",
       "\\hline\n",
       "\tGSM1030962\\_10030.CEL & 8.27154 & 5.02307 & 7.06640 & 8.24990 & 5.75432\\\\\n",
       "\tGSM1030963\\_10110.CEL & 8.49112 & 3.95575 & 6.41582 & 8.42649 & 6.77953\\\\\n",
       "\tGSM1030964\\_10111.CEL & 8.34082 & 4.68666 & 6.14716 & 8.09809 & 6.35168\\\\\n",
       "\tGSM1030966\\_1032.CEL & 7.75355 & 4.97396 & 6.35464 & 8.00680 & 6.79648\\\\\n",
       "\tGSM1030969\\_1446.CEL & 8.40749 & 4.55103 & 6.63393 & 8.56563 & 6.34759\\\\\n",
       "\\end{tabular}\n"
      ],
      "text/markdown": [
       "\n",
       "| <!--/--> | PAX8 | CCL5 | MMP14 | DTX2P1-UPK3BP1-PMS2P11 | BAD |\n",
       "|---|---|---|---|---|---|\n",
       "| GSM1030962_10030.CEL | 8.27154 | 5.02307 | 7.06640 | 8.24990 | 5.75432 |\n",
       "| GSM1030963_10110.CEL | 8.49112 | 3.95575 | 6.41582 | 8.42649 | 6.77953 |\n",
       "| GSM1030964_10111.CEL | 8.34082 | 4.68666 | 6.14716 | 8.09809 | 6.35168 |\n",
       "| GSM1030966_1032.CEL | 7.75355 | 4.97396 | 6.35464 | 8.00680 | 6.79648 |\n",
       "| GSM1030969_1446.CEL | 8.40749 | 4.55103 | 6.63393 | 8.56563 | 6.34759 |\n",
       "\n"
      ],
      "text/plain": [
       "                     PAX8    CCL5    MMP14   DTX2P1-UPK3BP1-PMS2P11 BAD    \n",
       "GSM1030962_10030.CEL 8.27154 5.02307 7.06640 8.24990                5.75432\n",
       "GSM1030963_10110.CEL 8.49112 3.95575 6.41582 8.42649                6.77953\n",
       "GSM1030964_10111.CEL 8.34082 4.68666 6.14716 8.09809                6.35168\n",
       "GSM1030966_1032.CEL  7.75355 4.97396 6.35464 8.00680                6.79648\n",
       "GSM1030969_1446.CEL  8.40749 4.55103 6.63393 8.56563                6.34759"
      ]
     },
     "metadata": {},
     "output_type": "display_data"
    }
   ],
   "source": [
    "train_dataset[1:5, 1:5]"
   ]
  },
  {
   "cell_type": "code",
   "execution_count": 6,
   "metadata": {},
   "outputs": [
    {
     "data": {
      "text/html": [
       "<table>\n",
       "<thead><tr><th></th><th scope=col>PAX8</th><th scope=col>CCL5</th><th scope=col>MMP14</th><th scope=col>DTX2P1-UPK3BP1-PMS2P11</th><th scope=col>BAD</th></tr></thead>\n",
       "<tbody>\n",
       "\t<tr><th scope=row>GSM1030965_10138.CEL</th><td>8.24190</td><td>5.78429</td><td>6.65615</td><td>8.15517</td><td>4.97367</td></tr>\n",
       "\t<tr><th scope=row>GSM1030967_1113.CEL</th><td>7.95457</td><td>5.75343</td><td>6.89049</td><td>7.95516</td><td>5.49744</td></tr>\n",
       "\t<tr><th scope=row>GSM1030968_1132.CEL</th><td>7.99231</td><td>4.21497</td><td>6.28378</td><td>8.13866</td><td>7.27109</td></tr>\n",
       "\t<tr><th scope=row>GSM1030979_2120_opnieuw.CEL</th><td>8.08617</td><td>6.31566</td><td>7.07061</td><td>8.51588</td><td>6.85328</td></tr>\n",
       "\t<tr><th scope=row>GSM1030982_2252.CEL</th><td>7.93179</td><td>5.32106</td><td>6.42760</td><td>8.52095</td><td>6.37300</td></tr>\n",
       "</tbody>\n",
       "</table>\n"
      ],
      "text/latex": [
       "\\begin{tabular}{r|lllll}\n",
       "  & PAX8 & CCL5 & MMP14 & DTX2P1-UPK3BP1-PMS2P11 & BAD\\\\\n",
       "\\hline\n",
       "\tGSM1030965\\_10138.CEL & 8.24190 & 5.78429 & 6.65615 & 8.15517 & 4.97367\\\\\n",
       "\tGSM1030967\\_1113.CEL & 7.95457 & 5.75343 & 6.89049 & 7.95516 & 5.49744\\\\\n",
       "\tGSM1030968\\_1132.CEL & 7.99231 & 4.21497 & 6.28378 & 8.13866 & 7.27109\\\\\n",
       "\tGSM1030979\\_2120\\_opnieuw.CEL & 8.08617 & 6.31566 & 7.07061 & 8.51588 & 6.85328\\\\\n",
       "\tGSM1030982\\_2252.CEL & 7.93179 & 5.32106 & 6.42760 & 8.52095 & 6.37300\\\\\n",
       "\\end{tabular}\n"
      ],
      "text/markdown": [
       "\n",
       "| <!--/--> | PAX8 | CCL5 | MMP14 | DTX2P1-UPK3BP1-PMS2P11 | BAD |\n",
       "|---|---|---|---|---|---|\n",
       "| GSM1030965_10138.CEL | 8.24190 | 5.78429 | 6.65615 | 8.15517 | 4.97367 |\n",
       "| GSM1030967_1113.CEL | 7.95457 | 5.75343 | 6.89049 | 7.95516 | 5.49744 |\n",
       "| GSM1030968_1132.CEL | 7.99231 | 4.21497 | 6.28378 | 8.13866 | 7.27109 |\n",
       "| GSM1030979_2120_opnieuw.CEL | 8.08617 | 6.31566 | 7.07061 | 8.51588 | 6.85328 |\n",
       "| GSM1030982_2252.CEL | 7.93179 | 5.32106 | 6.42760 | 8.52095 | 6.37300 |\n",
       "\n"
      ],
      "text/plain": [
       "                            PAX8    CCL5    MMP14   DTX2P1-UPK3BP1-PMS2P11\n",
       "GSM1030965_10138.CEL        8.24190 5.78429 6.65615 8.15517               \n",
       "GSM1030967_1113.CEL         7.95457 5.75343 6.89049 7.95516               \n",
       "GSM1030968_1132.CEL         7.99231 4.21497 6.28378 8.13866               \n",
       "GSM1030979_2120_opnieuw.CEL 8.08617 6.31566 7.07061 8.51588               \n",
       "GSM1030982_2252.CEL         7.93179 5.32106 6.42760 8.52095               \n",
       "                            BAD    \n",
       "GSM1030965_10138.CEL        4.97367\n",
       "GSM1030967_1113.CEL         5.49744\n",
       "GSM1030968_1132.CEL         7.27109\n",
       "GSM1030979_2120_opnieuw.CEL 6.85328\n",
       "GSM1030982_2252.CEL         6.37300"
      ]
     },
     "metadata": {},
     "output_type": "display_data"
    }
   ],
   "source": [
    "test_dataset[1:5, 1:5]"
   ]
  },
  {
   "cell_type": "code",
   "execution_count": 7,
   "metadata": {},
   "outputs": [
    {
     "data": {
      "text/html": [
       "<ol class=list-inline>\n",
       "\t<li>283</li>\n",
       "\t<li>407</li>\n",
       "\t<li>619</li>\n",
       "\t<li>680</li>\n",
       "\t<li>1738</li>\n",
       "\t<li>1780</li>\n",
       "\t<li>1885</li>\n",
       "\t<li>2025</li>\n",
       "\t<li>2303</li>\n",
       "\t<li>2304</li>\n",
       "\t<li>2374</li>\n",
       "\t<li>2651</li>\n",
       "\t<li>2656</li>\n",
       "\t<li>2855</li>\n",
       "\t<li>3034</li>\n",
       "\t<li>3275</li>\n",
       "\t<li>3325</li>\n",
       "\t<li>3524</li>\n",
       "\t<li>3541</li>\n",
       "\t<li>3666</li>\n",
       "\t<li>3733</li>\n",
       "\t<li>3764</li>\n",
       "\t<li>3844</li>\n",
       "\t<li>3893</li>\n",
       "\t<li>4292</li>\n",
       "\t<li>4806</li>\n",
       "\t<li>5047</li>\n",
       "\t<li>5278</li>\n",
       "\t<li>5482</li>\n",
       "\t<li>5604</li>\n",
       "\t<li>5777</li>\n",
       "\t<li>5835</li>\n",
       "\t<li>6268</li>\n",
       "\t<li>7159</li>\n",
       "\t<li>7458</li>\n",
       "\t<li>7652</li>\n",
       "\t<li>8075</li>\n",
       "\t<li>8129</li>\n",
       "\t<li>8457</li>\n",
       "\t<li>8493</li>\n",
       "\t<li>8602</li>\n",
       "\t<li>8737</li>\n",
       "\t<li>8827</li>\n",
       "\t<li>8887</li>\n",
       "\t<li>9338</li>\n",
       "\t<li>9789</li>\n",
       "\t<li>9794</li>\n",
       "\t<li>9877</li>\n",
       "\t<li>10136</li>\n",
       "\t<li>10443</li>\n",
       "\t<li>10788</li>\n",
       "\t<li>10818</li>\n",
       "\t<li>11364</li>\n",
       "\t<li>11941</li>\n",
       "\t<li>11998</li>\n",
       "\t<li>12146</li>\n",
       "</ol>\n"
      ],
      "text/latex": [
       "\\begin{enumerate*}\n",
       "\\item 283\n",
       "\\item 407\n",
       "\\item 619\n",
       "\\item 680\n",
       "\\item 1738\n",
       "\\item 1780\n",
       "\\item 1885\n",
       "\\item 2025\n",
       "\\item 2303\n",
       "\\item 2304\n",
       "\\item 2374\n",
       "\\item 2651\n",
       "\\item 2656\n",
       "\\item 2855\n",
       "\\item 3034\n",
       "\\item 3275\n",
       "\\item 3325\n",
       "\\item 3524\n",
       "\\item 3541\n",
       "\\item 3666\n",
       "\\item 3733\n",
       "\\item 3764\n",
       "\\item 3844\n",
       "\\item 3893\n",
       "\\item 4292\n",
       "\\item 4806\n",
       "\\item 5047\n",
       "\\item 5278\n",
       "\\item 5482\n",
       "\\item 5604\n",
       "\\item 5777\n",
       "\\item 5835\n",
       "\\item 6268\n",
       "\\item 7159\n",
       "\\item 7458\n",
       "\\item 7652\n",
       "\\item 8075\n",
       "\\item 8129\n",
       "\\item 8457\n",
       "\\item 8493\n",
       "\\item 8602\n",
       "\\item 8737\n",
       "\\item 8827\n",
       "\\item 8887\n",
       "\\item 9338\n",
       "\\item 9789\n",
       "\\item 9794\n",
       "\\item 9877\n",
       "\\item 10136\n",
       "\\item 10443\n",
       "\\item 10788\n",
       "\\item 10818\n",
       "\\item 11364\n",
       "\\item 11941\n",
       "\\item 11998\n",
       "\\item 12146\n",
       "\\end{enumerate*}\n"
      ],
      "text/markdown": [
       "1. 283\n",
       "2. 407\n",
       "3. 619\n",
       "4. 680\n",
       "5. 1738\n",
       "6. 1780\n",
       "7. 1885\n",
       "8. 2025\n",
       "9. 2303\n",
       "10. 2304\n",
       "11. 2374\n",
       "12. 2651\n",
       "13. 2656\n",
       "14. 2855\n",
       "15. 3034\n",
       "16. 3275\n",
       "17. 3325\n",
       "18. 3524\n",
       "19. 3541\n",
       "20. 3666\n",
       "21. 3733\n",
       "22. 3764\n",
       "23. 3844\n",
       "24. 3893\n",
       "25. 4292\n",
       "26. 4806\n",
       "27. 5047\n",
       "28. 5278\n",
       "29. 5482\n",
       "30. 5604\n",
       "31. 5777\n",
       "32. 5835\n",
       "33. 6268\n",
       "34. 7159\n",
       "35. 7458\n",
       "36. 7652\n",
       "37. 8075\n",
       "38. 8129\n",
       "39. 8457\n",
       "40. 8493\n",
       "41. 8602\n",
       "42. 8737\n",
       "43. 8827\n",
       "44. 8887\n",
       "45. 9338\n",
       "46. 9789\n",
       "47. 9794\n",
       "48. 9877\n",
       "49. 10136\n",
       "50. 10443\n",
       "51. 10788\n",
       "52. 10818\n",
       "53. 11364\n",
       "54. 11941\n",
       "55. 11998\n",
       "56. 12146\n",
       "\n",
       "\n"
      ],
      "text/plain": [
       " [1]   283   407   619   680  1738  1780  1885  2025  2303  2304  2374  2651\n",
       "[13]  2656  2855  3034  3275  3325  3524  3541  3666  3733  3764  3844  3893\n",
       "[25]  4292  4806  5047  5278  5482  5604  5777  5835  6268  7159  7458  7652\n",
       "[37]  8075  8129  8457  8493  8602  8737  8827  8887  9338  9789  9794  9877\n",
       "[49] 10136 10443 10788 10818 11364 11941 11998 12146"
      ]
     },
     "metadata": {},
     "output_type": "display_data"
    }
   ],
   "source": [
    "genesig"
   ]
  },
  {
   "cell_type": "markdown",
   "metadata": {
    "tags": []
   },
   "source": [
    "##### We train linear SVM model and gives the confusion matrix and accuracy:"
   ]
  },
  {
   "cell_type": "code",
   "execution_count": 8,
   "metadata": {},
   "outputs": [],
   "source": [
    "# train data with linear svm\n",
    "train <- train_dataset[, genesig]\n",
    "train$label <- train_dataset$label\n",
    "classifier.svm <- svm(label ~ ., data = train, type = 'C-classification', kernel = 'linear')"
   ]
  },
  {
   "cell_type": "code",
   "execution_count": 9,
   "metadata": {},
   "outputs": [
    {
     "data": {
      "text/plain": [
       "        \n",
       "pred.svm   0   1\n",
       "       0 507   4\n",
       "       1   7 547"
      ]
     },
     "metadata": {},
     "output_type": "display_data"
    }
   ],
   "source": [
    "# predict using test data\n",
    "pred.svm <- predict(classifier.svm, test_dataset[,1:length(test_dataset)-1], decision.values = TRUE)\n",
    "conf_matrix <- table(pred.svm, test_dataset$label)\n",
    "conf_matrix"
   ]
  },
  {
   "cell_type": "code",
   "execution_count": 10,
   "metadata": {},
   "outputs": [
    {
     "data": {
      "text/html": [
       "0.989671361502347"
      ],
      "text/latex": [
       "0.989671361502347"
      ],
      "text/markdown": [
       "0.989671361502347"
      ],
      "text/plain": [
       "[1] 0.9896714"
      ]
     },
     "metadata": {},
     "output_type": "display_data"
    }
   ],
   "source": [
    "accuracy <- (conf_matrix[1] + conf_matrix[4]) / sum(conf_matrix)\n",
    "accuracy"
   ]
  },
  {
   "cell_type": "markdown",
   "metadata": {},
   "source": [
    "##### We train logistic regression model and gives the confusion matrix and accuracy:"
   ]
  },
  {
   "cell_type": "code",
   "execution_count": 11,
   "metadata": {},
   "outputs": [
    {
     "name": "stderr",
     "output_type": "stream",
     "text": [
      "Warning message:\n",
      "\"glm.fit: fitted probabilities numerically 0 or 1 occurred\"\n"
     ]
    }
   ],
   "source": [
    "# train data with log reg\n",
    "classifier.logreg <- glm(label ~ ., data = train,family = binomial)"
   ]
  },
  {
   "cell_type": "code",
   "execution_count": 12,
   "metadata": {},
   "outputs": [
    {
     "data": {
      "text/plain": [
       "           \n",
       "pred.logreg   0   1\n",
       "          0 508   5\n",
       "          1   6 546"
      ]
     },
     "metadata": {},
     "output_type": "display_data"
    }
   ],
   "source": [
    "# predict using test data\n",
    "pred.logreg <- predict(classifier.logreg, test_dataset[,1:length(test_dataset)-1], type = \"response\")\n",
    "pred.logreg <- round(pred.logreg)\n",
    "conf_matrix <- table(pred.logreg, test_dataset$label)\n",
    "conf_matrix"
   ]
  },
  {
   "cell_type": "code",
   "execution_count": 13,
   "metadata": {},
   "outputs": [
    {
     "data": {
      "text/html": [
       "0.989671361502347"
      ],
      "text/latex": [
       "0.989671361502347"
      ],
      "text/markdown": [
       "0.989671361502347"
      ],
      "text/plain": [
       "[1] 0.9896714"
      ]
     },
     "metadata": {},
     "output_type": "display_data"
    }
   ],
   "source": [
    "accuracy <- (conf_matrix[1] + conf_matrix[4]) / sum(conf_matrix)\n",
    "accuracy"
   ]
  },
  {
   "cell_type": "markdown",
   "metadata": {},
   "source": [
    "##### We train random forest model and gives the confusion matrix and accuracy:"
   ]
  },
  {
   "cell_type": "code",
   "execution_count": 14,
   "metadata": {},
   "outputs": [],
   "source": [
    "# randomforest classifier\n",
    "classifier.tree <- randomForest(as.factor(train$label) ~ ., data=train)"
   ]
  },
  {
   "cell_type": "code",
   "execution_count": 15,
   "metadata": {},
   "outputs": [
    {
     "data": {
      "text/plain": [
       "         \n",
       "pred.tree   0   1\n",
       "        0 511  10\n",
       "        1   3 541"
      ]
     },
     "metadata": {},
     "output_type": "display_data"
    }
   ],
   "source": [
    "pred.tree <- predict (classifier.tree, test_dataset[,1:length(test_dataset)-1], decision.values = TRUE)\n",
    "conf_matrix <- table(pred.tree, test_dataset$label)\n",
    "conf_matrix"
   ]
  },
  {
   "cell_type": "code",
   "execution_count": 16,
   "metadata": {},
   "outputs": [
    {
     "data": {
      "text/html": [
       "0.987793427230047"
      ],
      "text/latex": [
       "0.987793427230047"
      ],
      "text/markdown": [
       "0.987793427230047"
      ],
      "text/plain": [
       "[1] 0.9877934"
      ]
     },
     "metadata": {},
     "output_type": "display_data"
    }
   ],
   "source": [
    "accuracy <- (conf_matrix[1] + conf_matrix[4]) / sum(conf_matrix)\n",
    "accuracy"
   ]
  },
  {
   "cell_type": "markdown",
   "metadata": {},
   "source": [
    "##### Build ensemble with majority voting:"
   ]
  },
  {
   "cell_type": "code",
   "execution_count": 17,
   "metadata": {},
   "outputs": [],
   "source": [
    "#The majority vote\n",
    "# reference https://www.analyticsvidhya.com/blog/2017/02/introduction-to-ensembling-along-with-implementation-in-r/\n",
    "testSet <- as.factor(ifelse(pred.tree == '1' & pred.logreg == '1', '1', ifelse(pred.tree\n",
    "                                                                        == '1' & pred.svm == '1','1', ifelse(pred.logreg == '1' & pred.svm == '1', '1', '0'))))"
   ]
  },
  {
   "cell_type": "code",
   "execution_count": 18,
   "metadata": {},
   "outputs": [
    {
     "data": {
      "text/plain": [
       "       \n",
       "testSet   0   1\n",
       "      0 509   5\n",
       "      1   5 546"
      ]
     },
     "metadata": {},
     "output_type": "display_data"
    }
   ],
   "source": [
    "conf_matrix <- table(testSet, test_dataset$label)\n",
    "conf_matrix"
   ]
  },
  {
   "cell_type": "code",
   "execution_count": 19,
   "metadata": {},
   "outputs": [
    {
     "data": {
      "text/html": [
       "0.990610328638498"
      ],
      "text/latex": [
       "0.990610328638498"
      ],
      "text/markdown": [
       "0.990610328638498"
      ],
      "text/plain": [
       "[1] 0.9906103"
      ]
     },
     "metadata": {},
     "output_type": "display_data"
    }
   ],
   "source": [
    "accuracy <- (conf_matrix[1] + conf_matrix[4]) / sum(conf_matrix)\n",
    "accuracy"
   ]
  },
  {
   "cell_type": "markdown",
   "metadata": {},
   "source": [
    "### Alternate gene signature comparison from other team (Genome Seeker)"
   ]
  },
  {
   "cell_type": "markdown",
   "metadata": {},
   "source": [
    "##### We train all the models again with new gene signatures:"
   ]
  },
  {
   "cell_type": "code",
   "execution_count": 20,
   "metadata": {},
   "outputs": [
    {
     "data": {
      "text/html": [
       "<ol class=list-inline>\n",
       "\t<li>'IGHA2'</li>\n",
       "\t<li>'SOCS2'</li>\n",
       "\t<li>'IGKC'</li>\n",
       "\t<li>'KIT'</li>\n",
       "\t<li>'PRAME'</li>\n",
       "\t<li>'IGLJ2'</li>\n",
       "\t<li>'PPBP'</li>\n",
       "\t<li>'ALDH1A1'</li>\n",
       "\t<li>'PDGFC'</li>\n",
       "\t<li>'CLC'</li>\n",
       "\t<li>'IGF2BP2'</li>\n",
       "\t<li>'EPS8'</li>\n",
       "\t<li>'HOXB6'</li>\n",
       "\t<li>'PF4'</li>\n",
       "\t<li>'G0S2'</li>\n",
       "\t<li>'HOXA9'</li>\n",
       "\t<li>'SECISBP2L'</li>\n",
       "\t<li>'DEFA1'</li>\n",
       "\t<li>'HDC'</li>\n",
       "\t<li>'PTH2R'</li>\n",
       "\t<li>'FGF13'</li>\n",
       "\t<li>'CST3'</li>\n",
       "\t<li>'RORA'</li>\n",
       "\t<li>'CXCL3'</li>\n",
       "\t<li>'DPY19L1P1'</li>\n",
       "\t<li>'PAX5'</li>\n",
       "\t<li>'ADAM28'</li>\n",
       "\t<li>'DNM1'</li>\n",
       "\t<li>'FPR1'</li>\n",
       "\t<li>'NR4A3'</li>\n",
       "\t<li>'TFPI'</li>\n",
       "\t<li>'TOP1'</li>\n",
       "\t<li>'LEF1'</li>\n",
       "\t<li>'TST'</li>\n",
       "\t<li>'SLCO3A1'</li>\n",
       "\t<li>'CTSW'</li>\n",
       "\t<li>'PRSS21'</li>\n",
       "\t<li>'TIMP1'</li>\n",
       "\t<li>'CYP4F3'</li>\n",
       "\t<li>'TMEM243'</li>\n",
       "\t<li>'ALOX12'</li>\n",
       "\t<li>'ABL1'</li>\n",
       "\t<li>'PROS1'</li>\n",
       "\t<li>'LRMP'</li>\n",
       "\t<li>'DISC1'</li>\n",
       "\t<li>'MYH10'</li>\n",
       "\t<li>'RNF216'</li>\n",
       "\t<li>'FAN1'</li>\n",
       "\t<li>'HOMER3'</li>\n",
       "</ol>\n"
      ],
      "text/latex": [
       "\\begin{enumerate*}\n",
       "\\item 'IGHA2'\n",
       "\\item 'SOCS2'\n",
       "\\item 'IGKC'\n",
       "\\item 'KIT'\n",
       "\\item 'PRAME'\n",
       "\\item 'IGLJ2'\n",
       "\\item 'PPBP'\n",
       "\\item 'ALDH1A1'\n",
       "\\item 'PDGFC'\n",
       "\\item 'CLC'\n",
       "\\item 'IGF2BP2'\n",
       "\\item 'EPS8'\n",
       "\\item 'HOXB6'\n",
       "\\item 'PF4'\n",
       "\\item 'G0S2'\n",
       "\\item 'HOXA9'\n",
       "\\item 'SECISBP2L'\n",
       "\\item 'DEFA1'\n",
       "\\item 'HDC'\n",
       "\\item 'PTH2R'\n",
       "\\item 'FGF13'\n",
       "\\item 'CST3'\n",
       "\\item 'RORA'\n",
       "\\item 'CXCL3'\n",
       "\\item 'DPY19L1P1'\n",
       "\\item 'PAX5'\n",
       "\\item 'ADAM28'\n",
       "\\item 'DNM1'\n",
       "\\item 'FPR1'\n",
       "\\item 'NR4A3'\n",
       "\\item 'TFPI'\n",
       "\\item 'TOP1'\n",
       "\\item 'LEF1'\n",
       "\\item 'TST'\n",
       "\\item 'SLCO3A1'\n",
       "\\item 'CTSW'\n",
       "\\item 'PRSS21'\n",
       "\\item 'TIMP1'\n",
       "\\item 'CYP4F3'\n",
       "\\item 'TMEM243'\n",
       "\\item 'ALOX12'\n",
       "\\item 'ABL1'\n",
       "\\item 'PROS1'\n",
       "\\item 'LRMP'\n",
       "\\item 'DISC1'\n",
       "\\item 'MYH10'\n",
       "\\item 'RNF216'\n",
       "\\item 'FAN1'\n",
       "\\item 'HOMER3'\n",
       "\\end{enumerate*}\n"
      ],
      "text/markdown": [
       "1. 'IGHA2'\n",
       "2. 'SOCS2'\n",
       "3. 'IGKC'\n",
       "4. 'KIT'\n",
       "5. 'PRAME'\n",
       "6. 'IGLJ2'\n",
       "7. 'PPBP'\n",
       "8. 'ALDH1A1'\n",
       "9. 'PDGFC'\n",
       "10. 'CLC'\n",
       "11. 'IGF2BP2'\n",
       "12. 'EPS8'\n",
       "13. 'HOXB6'\n",
       "14. 'PF4'\n",
       "15. 'G0S2'\n",
       "16. 'HOXA9'\n",
       "17. 'SECISBP2L'\n",
       "18. 'DEFA1'\n",
       "19. 'HDC'\n",
       "20. 'PTH2R'\n",
       "21. 'FGF13'\n",
       "22. 'CST3'\n",
       "23. 'RORA'\n",
       "24. 'CXCL3'\n",
       "25. 'DPY19L1P1'\n",
       "26. 'PAX5'\n",
       "27. 'ADAM28'\n",
       "28. 'DNM1'\n",
       "29. 'FPR1'\n",
       "30. 'NR4A3'\n",
       "31. 'TFPI'\n",
       "32. 'TOP1'\n",
       "33. 'LEF1'\n",
       "34. 'TST'\n",
       "35. 'SLCO3A1'\n",
       "36. 'CTSW'\n",
       "37. 'PRSS21'\n",
       "38. 'TIMP1'\n",
       "39. 'CYP4F3'\n",
       "40. 'TMEM243'\n",
       "41. 'ALOX12'\n",
       "42. 'ABL1'\n",
       "43. 'PROS1'\n",
       "44. 'LRMP'\n",
       "45. 'DISC1'\n",
       "46. 'MYH10'\n",
       "47. 'RNF216'\n",
       "48. 'FAN1'\n",
       "49. 'HOMER3'\n",
       "\n",
       "\n"
      ],
      "text/plain": [
       " [1] \"IGHA2\"     \"SOCS2\"     \"IGKC\"      \"KIT\"       \"PRAME\"     \"IGLJ2\"    \n",
       " [7] \"PPBP\"      \"ALDH1A1\"   \"PDGFC\"     \"CLC\"       \"IGF2BP2\"   \"EPS8\"     \n",
       "[13] \"HOXB6\"     \"PF4\"       \"G0S2\"      \"HOXA9\"     \"SECISBP2L\" \"DEFA1\"    \n",
       "[19] \"HDC\"       \"PTH2R\"     \"FGF13\"     \"CST3\"      \"RORA\"      \"CXCL3\"    \n",
       "[25] \"DPY19L1P1\" \"PAX5\"      \"ADAM28\"    \"DNM1\"      \"FPR1\"      \"NR4A3\"    \n",
       "[31] \"TFPI\"      \"TOP1\"      \"LEF1\"      \"TST\"       \"SLCO3A1\"   \"CTSW\"     \n",
       "[37] \"PRSS21\"    \"TIMP1\"     \"CYP4F3\"    \"TMEM243\"   \"ALOX12\"    \"ABL1\"     \n",
       "[43] \"PROS1\"     \"LRMP\"      \"DISC1\"     \"MYH10\"     \"RNF216\"    \"FAN1\"     \n",
       "[49] \"HOMER3\"   "
      ]
     },
     "metadata": {},
     "output_type": "display_data"
    }
   ],
   "source": [
    "alt.genesig <- colnames(read.table(\"alternate_genesig.txt\", sep=\",\", header=T))\n",
    "alt.genesig"
   ]
  },
  {
   "cell_type": "code",
   "execution_count": 21,
   "metadata": {},
   "outputs": [
    {
     "data": {
      "text/html": [
       "<ol class=list-inline>\n",
       "\t<li>8827</li>\n",
       "\t<li>1738</li>\n",
       "\t<li>12198</li>\n",
       "\t<li>2855</li>\n",
       "\t<li>2212</li>\n",
       "</ol>\n"
      ],
      "text/latex": [
       "\\begin{enumerate*}\n",
       "\\item 8827\n",
       "\\item 1738\n",
       "\\item 12198\n",
       "\\item 2855\n",
       "\\item 2212\n",
       "\\end{enumerate*}\n"
      ],
      "text/markdown": [
       "1. 8827\n",
       "2. 1738\n",
       "3. 12198\n",
       "4. 2855\n",
       "5. 2212\n",
       "\n",
       "\n"
      ],
      "text/plain": [
       "[1]  8827  1738 12198  2855  2212"
      ]
     },
     "metadata": {},
     "output_type": "display_data"
    }
   ],
   "source": [
    "alt.genesig.ind <- c(1:49)\n",
    "for (j in 1:49){\n",
    "    alt.genesig.ind[j] <- which(colnames(train_dataset) == alt.genesig[j])\n",
    "}\n",
    "alt.genesig.ind[1:5]"
   ]
  },
  {
   "cell_type": "code",
   "execution_count": 22,
   "metadata": {},
   "outputs": [],
   "source": [
    "# Train models\n",
    "train <- train_dataset[, alt.genesig.ind]\n",
    "train$label <- train_dataset$label\n",
    "classifier.svm <- svm(label ~ ., data = train, type = 'C-classification', kernel = 'linear')\n",
    "classifier.logreg <- glm(label ~ ., data = train,family = binomial)\n",
    "classifier.tree <- randomForest(as.factor(train$label) ~ ., data=train)"
   ]
  },
  {
   "cell_type": "code",
   "execution_count": 23,
   "metadata": {},
   "outputs": [
    {
     "data": {
      "text/plain": [
       "            \n",
       "pred.alt.svm   0   1\n",
       "           0 507  14\n",
       "           1   7 537"
      ]
     },
     "metadata": {},
     "output_type": "display_data"
    }
   ],
   "source": [
    "# SVM prediction\n",
    "pred.alt.svm <- predict(classifier.svm, test_dataset[,1:length(test_dataset)-1], decision.values = TRUE)\n",
    "conf_matrix <- table(pred.alt.svm, test_dataset$label)\n",
    "conf_matrix"
   ]
  },
  {
   "cell_type": "code",
   "execution_count": 24,
   "metadata": {},
   "outputs": [
    {
     "data": {
      "text/html": [
       "0.980281690140845"
      ],
      "text/latex": [
       "0.980281690140845"
      ],
      "text/markdown": [
       "0.980281690140845"
      ],
      "text/plain": [
       "[1] 0.9802817"
      ]
     },
     "metadata": {},
     "output_type": "display_data"
    }
   ],
   "source": [
    "alt.accuracy <- (conf_matrix[1] + conf_matrix[4]) / sum(conf_matrix)\n",
    "alt.accuracy"
   ]
  },
  {
   "cell_type": "code",
   "execution_count": 25,
   "metadata": {},
   "outputs": [
    {
     "data": {
      "text/plain": [
       "               \n",
       "pred.alt.logreg   0   1\n",
       "              0 508  15\n",
       "              1   6 536"
      ]
     },
     "metadata": {},
     "output_type": "display_data"
    }
   ],
   "source": [
    "# Logistic regression prediction\n",
    "pred.alt.logreg <- predict(classifier.logreg, test_dataset[,1:length(test_dataset)-1], type = \"response\")\n",
    "pred.alt.logreg <- round(pred.alt.logreg)\n",
    "conf_matrix <- table(pred.alt.logreg, test_dataset$label)\n",
    "conf_matrix"
   ]
  },
  {
   "cell_type": "code",
   "execution_count": 26,
   "metadata": {},
   "outputs": [
    {
     "data": {
      "text/html": [
       "0.980281690140845"
      ],
      "text/latex": [
       "0.980281690140845"
      ],
      "text/markdown": [
       "0.980281690140845"
      ],
      "text/plain": [
       "[1] 0.9802817"
      ]
     },
     "metadata": {},
     "output_type": "display_data"
    }
   ],
   "source": [
    "alt.accuracy <- (conf_matrix[1] + conf_matrix[4]) / sum(conf_matrix)\n",
    "alt.accuracy"
   ]
  },
  {
   "cell_type": "code",
   "execution_count": 27,
   "metadata": {},
   "outputs": [
    {
     "data": {
      "text/plain": [
       "             \n",
       "pred.alt.tree   0   1\n",
       "            0 509  14\n",
       "            1   5 537"
      ]
     },
     "metadata": {},
     "output_type": "display_data"
    }
   ],
   "source": [
    "# Random forest prediction\n",
    "pred.alt.tree <- predict (classifier.tree, test_dataset[,1:length(test_dataset)-1], decision.values = TRUE)\n",
    "conf_matrix <- table(pred.alt.tree, test_dataset$label)\n",
    "conf_matrix"
   ]
  },
  {
   "cell_type": "code",
   "execution_count": 28,
   "metadata": {},
   "outputs": [
    {
     "data": {
      "text/html": [
       "0.982159624413146"
      ],
      "text/latex": [
       "0.982159624413146"
      ],
      "text/markdown": [
       "0.982159624413146"
      ],
      "text/plain": [
       "[1] 0.9821596"
      ]
     },
     "metadata": {},
     "output_type": "display_data"
    }
   ],
   "source": [
    "alt.accuracy <- (conf_matrix[1] + conf_matrix[4]) / sum(conf_matrix)\n",
    "alt.accuracy"
   ]
  },
  {
   "cell_type": "markdown",
   "metadata": {},
   "source": [
    "##### Build ensemble with majority voting:"
   ]
  },
  {
   "cell_type": "code",
   "execution_count": 29,
   "metadata": {},
   "outputs": [],
   "source": [
    "#The majority vote\n",
    "# reference https://www.analyticsvidhya.com/blog/2017/02/introduction-to-ensembling-along-with-implementation-in-r/\n",
    "testSet <- as.factor(ifelse(pred.alt.tree == '1' & pred.alt.logreg == '1', '1', ifelse(pred.alt.tree\n",
    "                                                                        == '1' & pred.alt.svm == '1','1', ifelse(pred.alt.logreg == '1' & pred.alt.svm == '1', '1', '0'))))"
   ]
  },
  {
   "cell_type": "code",
   "execution_count": 30,
   "metadata": {},
   "outputs": [
    {
     "data": {
      "text/plain": [
       "       \n",
       "testSet   0   1\n",
       "      0 507  13\n",
       "      1   7 538"
      ]
     },
     "metadata": {},
     "output_type": "display_data"
    }
   ],
   "source": [
    "conf_matrix <- table(testSet, test_dataset$label)\n",
    "conf_matrix"
   ]
  },
  {
   "cell_type": "code",
   "execution_count": 31,
   "metadata": {},
   "outputs": [
    {
     "data": {
      "text/html": [
       "0.981220657276995"
      ],
      "text/latex": [
       "0.981220657276995"
      ],
      "text/markdown": [
       "0.981220657276995"
      ],
      "text/plain": [
       "[1] 0.9812207"
      ]
     },
     "metadata": {},
     "output_type": "display_data"
    }
   ],
   "source": [
    "accuracy <- (conf_matrix[1] + conf_matrix[4]) / sum(conf_matrix)\n",
    "accuracy"
   ]
  },
  {
   "cell_type": "markdown",
   "metadata": {},
   "source": [
    "## Cross validation on dataset 1"
   ]
  },
  {
   "cell_type": "code",
   "execution_count": 32,
   "metadata": {},
   "outputs": [],
   "source": [
    "load(\"AML_datasets.RData\")"
   ]
  },
  {
   "cell_type": "markdown",
   "metadata": {},
   "source": [
    "### Preprocessing of dataset"
   ]
  },
  {
   "cell_type": "code",
   "execution_count": 33,
   "metadata": {},
   "outputs": [
    {
     "data": {
      "text/html": [
       "<ol class=list-inline>\n",
       "\t<li>12708</li>\n",
       "\t<li>2500</li>\n",
       "</ol>\n"
      ],
      "text/latex": [
       "\\begin{enumerate*}\n",
       "\\item 12708\n",
       "\\item 2500\n",
       "\\end{enumerate*}\n"
      ],
      "text/markdown": [
       "1. 12708\n",
       "2. 2500\n",
       "\n",
       "\n"
      ],
      "text/plain": [
       "[1] 12708  2500"
      ]
     },
     "metadata": {},
     "output_type": "display_data"
    },
    {
     "data": {
      "text/html": [
       "<table>\n",
       "<thead><tr><th></th><th scope=col>AHW_ALL_BA_025919_13_A_PZ.CEL</th><th scope=col>AHW_ALL_BA_032751_71_A_PZ.CEL</th><th scope=col>AHW_ALL_BN_022495_7_A_PZ.CEL</th><th scope=col>AHW_ALL_MLL_031351_13_A_PZ.CEL</th><th scope=col>AHW_ALL_MLL_036187_80_A_PZ.CEL</th><th scope=col>AHW_ALL_Ph_030031_32_A_PZ.CEL</th><th scope=col>AHW_ALL_Ph_032683_15_A_PZ.CEL</th><th scope=col>AHW_ALL_Ph_035655_63_A_PZ.CEL</th></tr></thead>\n",
       "<tbody>\n",
       "\t<tr><th scope=row>PAX8</th><td>9.221573</td><td>8.524435</td><td>8.606060</td><td>8.841501</td><td>8.882826</td><td>9.011544</td><td>8.975590</td><td>8.940409</td></tr>\n",
       "\t<tr><th scope=row>CCL5</th><td>7.990144</td><td>6.648112</td><td>6.382602</td><td>6.469583</td><td>8.332415</td><td>6.830385</td><td>8.753525</td><td>6.370298</td></tr>\n",
       "\t<tr><th scope=row>MMP14</th><td>8.391732</td><td>8.183514</td><td>7.909023</td><td>8.105744</td><td>7.820992</td><td>7.859977</td><td>8.128827</td><td>7.956449</td></tr>\n",
       "\t<tr><th scope=row>DTX2P1-UPK3BP1-PMS2P11</th><td>9.280415</td><td>8.798847</td><td>8.948909</td><td>8.941517</td><td>8.725958</td><td>8.975915</td><td>9.130401</td><td>8.997386</td></tr>\n",
       "\t<tr><th scope=row>BAD</th><td>5.579486</td><td>5.934621</td><td>5.646312</td><td>5.899868</td><td>5.651731</td><td>5.798776</td><td>5.849792</td><td>6.002240</td></tr>\n",
       "</tbody>\n",
       "</table>\n"
      ],
      "text/latex": [
       "\\begin{tabular}{r|llllllll}\n",
       "  & AHW\\_ALL\\_BA\\_025919\\_13\\_A\\_PZ.CEL & AHW\\_ALL\\_BA\\_032751\\_71\\_A\\_PZ.CEL & AHW\\_ALL\\_BN\\_022495\\_7\\_A\\_PZ.CEL & AHW\\_ALL\\_MLL\\_031351\\_13\\_A\\_PZ.CEL & AHW\\_ALL\\_MLL\\_036187\\_80\\_A\\_PZ.CEL & AHW\\_ALL\\_Ph\\_030031\\_32\\_A\\_PZ.CEL & AHW\\_ALL\\_Ph\\_032683\\_15\\_A\\_PZ.CEL & AHW\\_ALL\\_Ph\\_035655\\_63\\_A\\_PZ.CEL\\\\\n",
       "\\hline\n",
       "\tPAX8 & 9.221573 & 8.524435 & 8.606060 & 8.841501 & 8.882826 & 9.011544 & 8.975590 & 8.940409\\\\\n",
       "\tCCL5 & 7.990144 & 6.648112 & 6.382602 & 6.469583 & 8.332415 & 6.830385 & 8.753525 & 6.370298\\\\\n",
       "\tMMP14 & 8.391732 & 8.183514 & 7.909023 & 8.105744 & 7.820992 & 7.859977 & 8.128827 & 7.956449\\\\\n",
       "\tDTX2P1-UPK3BP1-PMS2P11 & 9.280415 & 8.798847 & 8.948909 & 8.941517 & 8.725958 & 8.975915 & 9.130401 & 8.997386\\\\\n",
       "\tBAD & 5.579486 & 5.934621 & 5.646312 & 5.899868 & 5.651731 & 5.798776 & 5.849792 & 6.002240\\\\\n",
       "\\end{tabular}\n"
      ],
      "text/markdown": [
       "\n",
       "| <!--/--> | AHW_ALL_BA_025919_13_A_PZ.CEL | AHW_ALL_BA_032751_71_A_PZ.CEL | AHW_ALL_BN_022495_7_A_PZ.CEL | AHW_ALL_MLL_031351_13_A_PZ.CEL | AHW_ALL_MLL_036187_80_A_PZ.CEL | AHW_ALL_Ph_030031_32_A_PZ.CEL | AHW_ALL_Ph_032683_15_A_PZ.CEL | AHW_ALL_Ph_035655_63_A_PZ.CEL |\n",
       "|---|---|---|---|---|---|---|---|---|\n",
       "| PAX8 | 9.221573 | 8.524435 | 8.606060 | 8.841501 | 8.882826 | 9.011544 | 8.975590 | 8.940409 |\n",
       "| CCL5 | 7.990144 | 6.648112 | 6.382602 | 6.469583 | 8.332415 | 6.830385 | 8.753525 | 6.370298 |\n",
       "| MMP14 | 8.391732 | 8.183514 | 7.909023 | 8.105744 | 7.820992 | 7.859977 | 8.128827 | 7.956449 |\n",
       "| DTX2P1-UPK3BP1-PMS2P11 | 9.280415 | 8.798847 | 8.948909 | 8.941517 | 8.725958 | 8.975915 | 9.130401 | 8.997386 |\n",
       "| BAD | 5.579486 | 5.934621 | 5.646312 | 5.899868 | 5.651731 | 5.798776 | 5.849792 | 6.002240 |\n",
       "\n"
      ],
      "text/plain": [
       "                       AHW_ALL_BA_025919_13_A_PZ.CEL\n",
       "PAX8                   9.221573                     \n",
       "CCL5                   7.990144                     \n",
       "MMP14                  8.391732                     \n",
       "DTX2P1-UPK3BP1-PMS2P11 9.280415                     \n",
       "BAD                    5.579486                     \n",
       "                       AHW_ALL_BA_032751_71_A_PZ.CEL\n",
       "PAX8                   8.524435                     \n",
       "CCL5                   6.648112                     \n",
       "MMP14                  8.183514                     \n",
       "DTX2P1-UPK3BP1-PMS2P11 8.798847                     \n",
       "BAD                    5.934621                     \n",
       "                       AHW_ALL_BN_022495_7_A_PZ.CEL\n",
       "PAX8                   8.606060                    \n",
       "CCL5                   6.382602                    \n",
       "MMP14                  7.909023                    \n",
       "DTX2P1-UPK3BP1-PMS2P11 8.948909                    \n",
       "BAD                    5.646312                    \n",
       "                       AHW_ALL_MLL_031351_13_A_PZ.CEL\n",
       "PAX8                   8.841501                      \n",
       "CCL5                   6.469583                      \n",
       "MMP14                  8.105744                      \n",
       "DTX2P1-UPK3BP1-PMS2P11 8.941517                      \n",
       "BAD                    5.899868                      \n",
       "                       AHW_ALL_MLL_036187_80_A_PZ.CEL\n",
       "PAX8                   8.882826                      \n",
       "CCL5                   8.332415                      \n",
       "MMP14                  7.820992                      \n",
       "DTX2P1-UPK3BP1-PMS2P11 8.725958                      \n",
       "BAD                    5.651731                      \n",
       "                       AHW_ALL_Ph_030031_32_A_PZ.CEL\n",
       "PAX8                   9.011544                     \n",
       "CCL5                   6.830385                     \n",
       "MMP14                  7.859977                     \n",
       "DTX2P1-UPK3BP1-PMS2P11 8.975915                     \n",
       "BAD                    5.798776                     \n",
       "                       AHW_ALL_Ph_032683_15_A_PZ.CEL\n",
       "PAX8                   8.975590                     \n",
       "CCL5                   8.753525                     \n",
       "MMP14                  8.128827                     \n",
       "DTX2P1-UPK3BP1-PMS2P11 9.130401                     \n",
       "BAD                    5.849792                     \n",
       "                       AHW_ALL_Ph_035655_63_A_PZ.CEL\n",
       "PAX8                   8.940409                     \n",
       "CCL5                   6.370298                     \n",
       "MMP14                  7.956449                     \n",
       "DTX2P1-UPK3BP1-PMS2P11 8.997386                     \n",
       "BAD                    6.002240                     "
      ]
     },
     "metadata": {},
     "output_type": "display_data"
    }
   ],
   "source": [
    "# gene expression data\n",
    "dim(data.1)\n",
    "data.1[1:5, 1:8]"
   ]
  },
  {
   "cell_type": "code",
   "execution_count": 34,
   "metadata": {},
   "outputs": [],
   "source": [
    "# subset of data containing only AML and ALL samples\n",
    "leukemia <- c('AML', 'ALL')\n",
    "subset.info <- subset(info.1, Disease %in% leukemia)"
   ]
  },
  {
   "cell_type": "code",
   "execution_count": 35,
   "metadata": {},
   "outputs": [
    {
     "data": {
      "text/html": [
       "<ol class=list-inline>\n",
       "\t<li>1942</li>\n",
       "\t<li>8</li>\n",
       "</ol>\n"
      ],
      "text/latex": [
       "\\begin{enumerate*}\n",
       "\\item 1942\n",
       "\\item 8\n",
       "\\end{enumerate*}\n"
      ],
      "text/markdown": [
       "1. 1942\n",
       "2. 8\n",
       "\n",
       "\n"
      ],
      "text/plain": [
       "[1] 1942    8"
      ]
     },
     "metadata": {},
     "output_type": "display_data"
    },
    {
     "data": {
      "text/html": [
       "<table>\n",
       "<thead><tr><th></th><th scope=col>Dataset</th><th scope=col>GSE</th><th scope=col>Condition</th><th scope=col>Disease</th><th scope=col>Tissue</th><th scope=col>FAB</th><th scope=col>Filename</th><th scope=col>FAB_all</th></tr></thead>\n",
       "<tbody>\n",
       "\t<tr><th scope=row>AHW_ALL_BA_025919_13_A_PZ.CEL</th><td>1                             </td><td>Haferlach                     </td><td>CONTROL                       </td><td>ALL                           </td><td>BM or PBMC                    </td><td>unknown                       </td><td>AHW_ALL_BA_025919_13_A_PZ.CEL </td><td>unknown                       </td></tr>\n",
       "\t<tr><th scope=row>AHW_ALL_BA_032751_71_A_PZ.CEL</th><td>1                             </td><td>Haferlach                     </td><td>CONTROL                       </td><td>ALL                           </td><td>BM or PBMC                    </td><td>unknown                       </td><td>AHW_ALL_BA_032751_71_A_PZ.CEL </td><td>unknown                       </td></tr>\n",
       "\t<tr><th scope=row>AHW_ALL_BN_022495_7_A_PZ.CEL</th><td>1                             </td><td>Haferlach                     </td><td>CONTROL                       </td><td>ALL                           </td><td>BM or PBMC                    </td><td>unknown                       </td><td>AHW_ALL_BN_022495_7_A_PZ.CEL  </td><td>unknown                       </td></tr>\n",
       "\t<tr><th scope=row>AHW_ALL_MLL_031351_13_A_PZ.CEL</th><td>1                             </td><td>Haferlach                     </td><td>CONTROL                       </td><td>ALL                           </td><td>BM or PBMC                    </td><td>unknown                       </td><td>AHW_ALL_MLL_031351_13_A_PZ.CEL</td><td>unknown                       </td></tr>\n",
       "\t<tr><th scope=row>AHW_ALL_MLL_036187_80_A_PZ.CEL</th><td>1                             </td><td>Haferlach                     </td><td>CONTROL                       </td><td>ALL                           </td><td>BM or PBMC                    </td><td>unknown                       </td><td>AHW_ALL_MLL_036187_80_A_PZ.CEL</td><td>unknown                       </td></tr>\n",
       "</tbody>\n",
       "</table>\n"
      ],
      "text/latex": [
       "\\begin{tabular}{r|llllllll}\n",
       "  & Dataset & GSE & Condition & Disease & Tissue & FAB & Filename & FAB\\_all\\\\\n",
       "\\hline\n",
       "\tAHW\\_ALL\\_BA\\_025919\\_13\\_A\\_PZ.CEL & 1                                          & Haferlach                                  & CONTROL                                    & ALL                                        & BM or PBMC                                 & unknown                                    & AHW\\_ALL\\_BA\\_025919\\_13\\_A\\_PZ.CEL  & unknown                                   \\\\\n",
       "\tAHW\\_ALL\\_BA\\_032751\\_71\\_A\\_PZ.CEL & 1                                          & Haferlach                                  & CONTROL                                    & ALL                                        & BM or PBMC                                 & unknown                                    & AHW\\_ALL\\_BA\\_032751\\_71\\_A\\_PZ.CEL  & unknown                                   \\\\\n",
       "\tAHW\\_ALL\\_BN\\_022495\\_7\\_A\\_PZ.CEL & 1                                          & Haferlach                                  & CONTROL                                    & ALL                                        & BM or PBMC                                 & unknown                                    & AHW\\_ALL\\_BN\\_022495\\_7\\_A\\_PZ.CEL   & unknown                                   \\\\\n",
       "\tAHW\\_ALL\\_MLL\\_031351\\_13\\_A\\_PZ.CEL & 1                                          & Haferlach                                  & CONTROL                                    & ALL                                        & BM or PBMC                                 & unknown                                    & AHW\\_ALL\\_MLL\\_031351\\_13\\_A\\_PZ.CEL & unknown                                   \\\\\n",
       "\tAHW\\_ALL\\_MLL\\_036187\\_80\\_A\\_PZ.CEL & 1                                          & Haferlach                                  & CONTROL                                    & ALL                                        & BM or PBMC                                 & unknown                                    & AHW\\_ALL\\_MLL\\_036187\\_80\\_A\\_PZ.CEL & unknown                                   \\\\\n",
       "\\end{tabular}\n"
      ],
      "text/markdown": [
       "\n",
       "| <!--/--> | Dataset | GSE | Condition | Disease | Tissue | FAB | Filename | FAB_all |\n",
       "|---|---|---|---|---|---|---|---|---|\n",
       "| AHW_ALL_BA_025919_13_A_PZ.CEL | 1                              | Haferlach                      | CONTROL                        | ALL                            | BM or PBMC                     | unknown                        | AHW_ALL_BA_025919_13_A_PZ.CEL  | unknown                        |\n",
       "| AHW_ALL_BA_032751_71_A_PZ.CEL | 1                              | Haferlach                      | CONTROL                        | ALL                            | BM or PBMC                     | unknown                        | AHW_ALL_BA_032751_71_A_PZ.CEL  | unknown                        |\n",
       "| AHW_ALL_BN_022495_7_A_PZ.CEL | 1                              | Haferlach                      | CONTROL                        | ALL                            | BM or PBMC                     | unknown                        | AHW_ALL_BN_022495_7_A_PZ.CEL   | unknown                        |\n",
       "| AHW_ALL_MLL_031351_13_A_PZ.CEL | 1                              | Haferlach                      | CONTROL                        | ALL                            | BM or PBMC                     | unknown                        | AHW_ALL_MLL_031351_13_A_PZ.CEL | unknown                        |\n",
       "| AHW_ALL_MLL_036187_80_A_PZ.CEL | 1                              | Haferlach                      | CONTROL                        | ALL                            | BM or PBMC                     | unknown                        | AHW_ALL_MLL_036187_80_A_PZ.CEL | unknown                        |\n",
       "\n"
      ],
      "text/plain": [
       "                               Dataset GSE       Condition Disease Tissue    \n",
       "AHW_ALL_BA_025919_13_A_PZ.CEL  1       Haferlach CONTROL   ALL     BM or PBMC\n",
       "AHW_ALL_BA_032751_71_A_PZ.CEL  1       Haferlach CONTROL   ALL     BM or PBMC\n",
       "AHW_ALL_BN_022495_7_A_PZ.CEL   1       Haferlach CONTROL   ALL     BM or PBMC\n",
       "AHW_ALL_MLL_031351_13_A_PZ.CEL 1       Haferlach CONTROL   ALL     BM or PBMC\n",
       "AHW_ALL_MLL_036187_80_A_PZ.CEL 1       Haferlach CONTROL   ALL     BM or PBMC\n",
       "                               FAB     Filename                       FAB_all\n",
       "AHW_ALL_BA_025919_13_A_PZ.CEL  unknown AHW_ALL_BA_025919_13_A_PZ.CEL  unknown\n",
       "AHW_ALL_BA_032751_71_A_PZ.CEL  unknown AHW_ALL_BA_032751_71_A_PZ.CEL  unknown\n",
       "AHW_ALL_BN_022495_7_A_PZ.CEL   unknown AHW_ALL_BN_022495_7_A_PZ.CEL   unknown\n",
       "AHW_ALL_MLL_031351_13_A_PZ.CEL unknown AHW_ALL_MLL_031351_13_A_PZ.CEL unknown\n",
       "AHW_ALL_MLL_036187_80_A_PZ.CEL unknown AHW_ALL_MLL_036187_80_A_PZ.CEL unknown"
      ]
     },
     "metadata": {},
     "output_type": "display_data"
    }
   ],
   "source": [
    "# phenotype data (AML and ALL only)\n",
    "dim(subset.info)\n",
    "subset.info[1:5,]"
   ]
  },
  {
   "cell_type": "code",
   "execution_count": 36,
   "metadata": {},
   "outputs": [
    {
     "data": {
      "text/html": [
       "<ol class=list-inline>\n",
       "\t<li>12708</li>\n",
       "\t<li>1942</li>\n",
       "</ol>\n"
      ],
      "text/latex": [
       "\\begin{enumerate*}\n",
       "\\item 12708\n",
       "\\item 1942\n",
       "\\end{enumerate*}\n"
      ],
      "text/markdown": [
       "1. 12708\n",
       "2. 1942\n",
       "\n",
       "\n"
      ],
      "text/plain": [
       "[1] 12708  1942"
      ]
     },
     "metadata": {},
     "output_type": "display_data"
    },
    {
     "data": {
      "text/html": [
       "<table>\n",
       "<thead><tr><th></th><th scope=col>AHW_ALL_BA_025919_13_A_PZ.CEL</th><th scope=col>AHW_ALL_BA_032751_71_A_PZ.CEL</th><th scope=col>AHW_ALL_BN_022495_7_A_PZ.CEL</th><th scope=col>AHW_ALL_MLL_031351_13_A_PZ.CEL</th><th scope=col>AHW_ALL_MLL_036187_80_A_PZ.CEL</th><th scope=col>AHW_ALL_Ph_030031_32_A_PZ.CEL</th><th scope=col>AHW_ALL_Ph_032683_15_A_PZ.CEL</th><th scope=col>AHW_ALL_Ph_035655_63_A_PZ.CEL</th><th scope=col>AHW_ALL_TA_025336_26_A_PZ.CEL</th><th scope=col>AHW_ALL_TA_032725_16_A_PZ.CEL</th></tr></thead>\n",
       "<tbody>\n",
       "\t<tr><th scope=row>PAX8</th><td> 9.221573</td><td> 8.524435</td><td> 8.606060</td><td> 8.841501</td><td> 8.882826</td><td> 9.011544</td><td> 8.975590</td><td> 8.940409</td><td> 9.342263</td><td> 8.966156</td></tr>\n",
       "\t<tr><th scope=row>CCL5</th><td> 7.990144</td><td> 6.648112</td><td> 6.382602</td><td> 6.469583</td><td> 8.332415</td><td> 6.830385</td><td> 8.753525</td><td> 6.370298</td><td> 6.971186</td><td> 7.302477</td></tr>\n",
       "\t<tr><th scope=row>MMP14</th><td> 8.391732</td><td> 8.183514</td><td> 7.909023</td><td> 8.105744</td><td> 7.820992</td><td> 7.859977</td><td> 8.128827</td><td> 7.956449</td><td> 8.285775</td><td> 8.335117</td></tr>\n",
       "\t<tr><th scope=row>DTX2P1-UPK3BP1-PMS2P11</th><td> 9.280415</td><td> 8.798847</td><td> 8.948909</td><td> 8.941517</td><td> 8.725958</td><td> 8.975915</td><td> 9.130401</td><td> 8.997386</td><td> 9.294638</td><td> 9.094800</td></tr>\n",
       "\t<tr><th scope=row>BAD</th><td> 5.579486</td><td> 5.934621</td><td> 5.646312</td><td> 5.899868</td><td> 5.651731</td><td> 5.798776</td><td> 5.849792</td><td> 6.002240</td><td> 5.642667</td><td> 5.768286</td></tr>\n",
       "\t<tr><th scope=row>PRPF8</th><td> 9.587992</td><td>10.605028</td><td>10.367226</td><td>10.493261</td><td>10.684440</td><td> 9.850415</td><td>10.068460</td><td>10.259652</td><td>10.168444</td><td> 9.143968</td></tr>\n",
       "\t<tr><th scope=row>CAPNS1</th><td>10.143771</td><td>10.613034</td><td> 9.836321</td><td>10.701126</td><td>10.524360</td><td>10.115055</td><td>10.252378</td><td>10.722423</td><td> 9.809753</td><td> 9.503368</td></tr>\n",
       "\t<tr><th scope=row>RPL35</th><td>11.364570</td><td>11.664621</td><td>12.081325</td><td>12.029874</td><td>11.856132</td><td>11.909563</td><td>11.671361</td><td>12.208231</td><td>10.956313</td><td>11.262788</td></tr>\n",
       "\t<tr><th scope=row>EIF4G2</th><td>10.956290</td><td>11.632159</td><td>11.690962</td><td>11.328697</td><td>11.388613</td><td>11.197291</td><td>11.070642</td><td>11.471852</td><td>11.881013</td><td>11.051533</td></tr>\n",
       "\t<tr><th scope=row>EIF3D</th><td>10.026995</td><td>11.412836</td><td>10.966108</td><td>11.176077</td><td>11.117741</td><td>10.518100</td><td>11.040760</td><td>11.182870</td><td>10.474084</td><td>10.038692</td></tr>\n",
       "</tbody>\n",
       "</table>\n"
      ],
      "text/latex": [
       "\\begin{tabular}{r|llllllllll}\n",
       "  & AHW\\_ALL\\_BA\\_025919\\_13\\_A\\_PZ.CEL & AHW\\_ALL\\_BA\\_032751\\_71\\_A\\_PZ.CEL & AHW\\_ALL\\_BN\\_022495\\_7\\_A\\_PZ.CEL & AHW\\_ALL\\_MLL\\_031351\\_13\\_A\\_PZ.CEL & AHW\\_ALL\\_MLL\\_036187\\_80\\_A\\_PZ.CEL & AHW\\_ALL\\_Ph\\_030031\\_32\\_A\\_PZ.CEL & AHW\\_ALL\\_Ph\\_032683\\_15\\_A\\_PZ.CEL & AHW\\_ALL\\_Ph\\_035655\\_63\\_A\\_PZ.CEL & AHW\\_ALL\\_TA\\_025336\\_26\\_A\\_PZ.CEL & AHW\\_ALL\\_TA\\_032725\\_16\\_A\\_PZ.CEL\\\\\n",
       "\\hline\n",
       "\tPAX8 &  9.221573 &  8.524435 &  8.606060 &  8.841501 &  8.882826 &  9.011544 &  8.975590 &  8.940409 &  9.342263 &  8.966156\\\\\n",
       "\tCCL5 &  7.990144 &  6.648112 &  6.382602 &  6.469583 &  8.332415 &  6.830385 &  8.753525 &  6.370298 &  6.971186 &  7.302477\\\\\n",
       "\tMMP14 &  8.391732 &  8.183514 &  7.909023 &  8.105744 &  7.820992 &  7.859977 &  8.128827 &  7.956449 &  8.285775 &  8.335117\\\\\n",
       "\tDTX2P1-UPK3BP1-PMS2P11 &  9.280415 &  8.798847 &  8.948909 &  8.941517 &  8.725958 &  8.975915 &  9.130401 &  8.997386 &  9.294638 &  9.094800\\\\\n",
       "\tBAD &  5.579486 &  5.934621 &  5.646312 &  5.899868 &  5.651731 &  5.798776 &  5.849792 &  6.002240 &  5.642667 &  5.768286\\\\\n",
       "\tPRPF8 &  9.587992 & 10.605028 & 10.367226 & 10.493261 & 10.684440 &  9.850415 & 10.068460 & 10.259652 & 10.168444 &  9.143968\\\\\n",
       "\tCAPNS1 & 10.143771 & 10.613034 &  9.836321 & 10.701126 & 10.524360 & 10.115055 & 10.252378 & 10.722423 &  9.809753 &  9.503368\\\\\n",
       "\tRPL35 & 11.364570 & 11.664621 & 12.081325 & 12.029874 & 11.856132 & 11.909563 & 11.671361 & 12.208231 & 10.956313 & 11.262788\\\\\n",
       "\tEIF4G2 & 10.956290 & 11.632159 & 11.690962 & 11.328697 & 11.388613 & 11.197291 & 11.070642 & 11.471852 & 11.881013 & 11.051533\\\\\n",
       "\tEIF3D & 10.026995 & 11.412836 & 10.966108 & 11.176077 & 11.117741 & 10.518100 & 11.040760 & 11.182870 & 10.474084 & 10.038692\\\\\n",
       "\\end{tabular}\n"
      ],
      "text/markdown": [
       "\n",
       "| <!--/--> | AHW_ALL_BA_025919_13_A_PZ.CEL | AHW_ALL_BA_032751_71_A_PZ.CEL | AHW_ALL_BN_022495_7_A_PZ.CEL | AHW_ALL_MLL_031351_13_A_PZ.CEL | AHW_ALL_MLL_036187_80_A_PZ.CEL | AHW_ALL_Ph_030031_32_A_PZ.CEL | AHW_ALL_Ph_032683_15_A_PZ.CEL | AHW_ALL_Ph_035655_63_A_PZ.CEL | AHW_ALL_TA_025336_26_A_PZ.CEL | AHW_ALL_TA_032725_16_A_PZ.CEL |\n",
       "|---|---|---|---|---|---|---|---|---|---|---|\n",
       "| PAX8 |  9.221573 |  8.524435 |  8.606060 |  8.841501 |  8.882826 |  9.011544 |  8.975590 |  8.940409 |  9.342263 |  8.966156 |\n",
       "| CCL5 |  7.990144 |  6.648112 |  6.382602 |  6.469583 |  8.332415 |  6.830385 |  8.753525 |  6.370298 |  6.971186 |  7.302477 |\n",
       "| MMP14 |  8.391732 |  8.183514 |  7.909023 |  8.105744 |  7.820992 |  7.859977 |  8.128827 |  7.956449 |  8.285775 |  8.335117 |\n",
       "| DTX2P1-UPK3BP1-PMS2P11 |  9.280415 |  8.798847 |  8.948909 |  8.941517 |  8.725958 |  8.975915 |  9.130401 |  8.997386 |  9.294638 |  9.094800 |\n",
       "| BAD |  5.579486 |  5.934621 |  5.646312 |  5.899868 |  5.651731 |  5.798776 |  5.849792 |  6.002240 |  5.642667 |  5.768286 |\n",
       "| PRPF8 |  9.587992 | 10.605028 | 10.367226 | 10.493261 | 10.684440 |  9.850415 | 10.068460 | 10.259652 | 10.168444 |  9.143968 |\n",
       "| CAPNS1 | 10.143771 | 10.613034 |  9.836321 | 10.701126 | 10.524360 | 10.115055 | 10.252378 | 10.722423 |  9.809753 |  9.503368 |\n",
       "| RPL35 | 11.364570 | 11.664621 | 12.081325 | 12.029874 | 11.856132 | 11.909563 | 11.671361 | 12.208231 | 10.956313 | 11.262788 |\n",
       "| EIF4G2 | 10.956290 | 11.632159 | 11.690962 | 11.328697 | 11.388613 | 11.197291 | 11.070642 | 11.471852 | 11.881013 | 11.051533 |\n",
       "| EIF3D | 10.026995 | 11.412836 | 10.966108 | 11.176077 | 11.117741 | 10.518100 | 11.040760 | 11.182870 | 10.474084 | 10.038692 |\n",
       "\n"
      ],
      "text/plain": [
       "                       AHW_ALL_BA_025919_13_A_PZ.CEL\n",
       "PAX8                    9.221573                    \n",
       "CCL5                    7.990144                    \n",
       "MMP14                   8.391732                    \n",
       "DTX2P1-UPK3BP1-PMS2P11  9.280415                    \n",
       "BAD                     5.579486                    \n",
       "PRPF8                   9.587992                    \n",
       "CAPNS1                 10.143771                    \n",
       "RPL35                  11.364570                    \n",
       "EIF4G2                 10.956290                    \n",
       "EIF3D                  10.026995                    \n",
       "                       AHW_ALL_BA_032751_71_A_PZ.CEL\n",
       "PAX8                    8.524435                    \n",
       "CCL5                    6.648112                    \n",
       "MMP14                   8.183514                    \n",
       "DTX2P1-UPK3BP1-PMS2P11  8.798847                    \n",
       "BAD                     5.934621                    \n",
       "PRPF8                  10.605028                    \n",
       "CAPNS1                 10.613034                    \n",
       "RPL35                  11.664621                    \n",
       "EIF4G2                 11.632159                    \n",
       "EIF3D                  11.412836                    \n",
       "                       AHW_ALL_BN_022495_7_A_PZ.CEL\n",
       "PAX8                    8.606060                   \n",
       "CCL5                    6.382602                   \n",
       "MMP14                   7.909023                   \n",
       "DTX2P1-UPK3BP1-PMS2P11  8.948909                   \n",
       "BAD                     5.646312                   \n",
       "PRPF8                  10.367226                   \n",
       "CAPNS1                  9.836321                   \n",
       "RPL35                  12.081325                   \n",
       "EIF4G2                 11.690962                   \n",
       "EIF3D                  10.966108                   \n",
       "                       AHW_ALL_MLL_031351_13_A_PZ.CEL\n",
       "PAX8                    8.841501                     \n",
       "CCL5                    6.469583                     \n",
       "MMP14                   8.105744                     \n",
       "DTX2P1-UPK3BP1-PMS2P11  8.941517                     \n",
       "BAD                     5.899868                     \n",
       "PRPF8                  10.493261                     \n",
       "CAPNS1                 10.701126                     \n",
       "RPL35                  12.029874                     \n",
       "EIF4G2                 11.328697                     \n",
       "EIF3D                  11.176077                     \n",
       "                       AHW_ALL_MLL_036187_80_A_PZ.CEL\n",
       "PAX8                    8.882826                     \n",
       "CCL5                    8.332415                     \n",
       "MMP14                   7.820992                     \n",
       "DTX2P1-UPK3BP1-PMS2P11  8.725958                     \n",
       "BAD                     5.651731                     \n",
       "PRPF8                  10.684440                     \n",
       "CAPNS1                 10.524360                     \n",
       "RPL35                  11.856132                     \n",
       "EIF4G2                 11.388613                     \n",
       "EIF3D                  11.117741                     \n",
       "                       AHW_ALL_Ph_030031_32_A_PZ.CEL\n",
       "PAX8                    9.011544                    \n",
       "CCL5                    6.830385                    \n",
       "MMP14                   7.859977                    \n",
       "DTX2P1-UPK3BP1-PMS2P11  8.975915                    \n",
       "BAD                     5.798776                    \n",
       "PRPF8                   9.850415                    \n",
       "CAPNS1                 10.115055                    \n",
       "RPL35                  11.909563                    \n",
       "EIF4G2                 11.197291                    \n",
       "EIF3D                  10.518100                    \n",
       "                       AHW_ALL_Ph_032683_15_A_PZ.CEL\n",
       "PAX8                    8.975590                    \n",
       "CCL5                    8.753525                    \n",
       "MMP14                   8.128827                    \n",
       "DTX2P1-UPK3BP1-PMS2P11  9.130401                    \n",
       "BAD                     5.849792                    \n",
       "PRPF8                  10.068460                    \n",
       "CAPNS1                 10.252378                    \n",
       "RPL35                  11.671361                    \n",
       "EIF4G2                 11.070642                    \n",
       "EIF3D                  11.040760                    \n",
       "                       AHW_ALL_Ph_035655_63_A_PZ.CEL\n",
       "PAX8                    8.940409                    \n",
       "CCL5                    6.370298                    \n",
       "MMP14                   7.956449                    \n",
       "DTX2P1-UPK3BP1-PMS2P11  8.997386                    \n",
       "BAD                     6.002240                    \n",
       "PRPF8                  10.259652                    \n",
       "CAPNS1                 10.722423                    \n",
       "RPL35                  12.208231                    \n",
       "EIF4G2                 11.471852                    \n",
       "EIF3D                  11.182870                    \n",
       "                       AHW_ALL_TA_025336_26_A_PZ.CEL\n",
       "PAX8                    9.342263                    \n",
       "CCL5                    6.971186                    \n",
       "MMP14                   8.285775                    \n",
       "DTX2P1-UPK3BP1-PMS2P11  9.294638                    \n",
       "BAD                     5.642667                    \n",
       "PRPF8                  10.168444                    \n",
       "CAPNS1                  9.809753                    \n",
       "RPL35                  10.956313                    \n",
       "EIF4G2                 11.881013                    \n",
       "EIF3D                  10.474084                    \n",
       "                       AHW_ALL_TA_032725_16_A_PZ.CEL\n",
       "PAX8                    8.966156                    \n",
       "CCL5                    7.302477                    \n",
       "MMP14                   8.335117                    \n",
       "DTX2P1-UPK3BP1-PMS2P11  9.094800                    \n",
       "BAD                     5.768286                    \n",
       "PRPF8                   9.143968                    \n",
       "CAPNS1                  9.503368                    \n",
       "RPL35                  11.262788                    \n",
       "EIF4G2                 11.051533                    \n",
       "EIF3D                  10.038692                    "
      ]
     },
     "metadata": {},
     "output_type": "display_data"
    }
   ],
   "source": [
    "# gene expression data (AML and ALL only)\n",
    "subset.data.1 <- data.1[,rownames(subset.info)]\n",
    "dim(subset.data.1)\n",
    "subset.data.1[1:10,1:10]"
   ]
  },
  {
   "cell_type": "code",
   "execution_count": 37,
   "metadata": {},
   "outputs": [
    {
     "data": {
      "text/html": [
       "<ol class=list-inline>\n",
       "\t<li>1942</li>\n",
       "\t<li>12708</li>\n",
       "</ol>\n"
      ],
      "text/latex": [
       "\\begin{enumerate*}\n",
       "\\item 1942\n",
       "\\item 12708\n",
       "\\end{enumerate*}\n"
      ],
      "text/markdown": [
       "1. 1942\n",
       "2. 12708\n",
       "\n",
       "\n"
      ],
      "text/plain": [
       "[1]  1942 12708"
      ]
     },
     "metadata": {},
     "output_type": "display_data"
    },
    {
     "data": {
      "text/html": [
       "<table>\n",
       "<thead><tr><th></th><th scope=col>PAX8</th><th scope=col>CCL5</th><th scope=col>MMP14</th><th scope=col>DTX2P1-UPK3BP1-PMS2P11</th><th scope=col>BAD</th><th scope=col>PRPF8</th><th scope=col>CAPNS1</th><th scope=col>RPL35</th><th scope=col>EIF4G2</th><th scope=col>EIF3D</th></tr></thead>\n",
       "<tbody>\n",
       "\t<tr><th scope=row>AHW_ALL_BA_025919_13_A_PZ.CEL</th><td>9.221573 </td><td>7.990144 </td><td>8.391732 </td><td>9.280415 </td><td>5.579486 </td><td> 9.587992</td><td>10.143771</td><td>11.36457 </td><td>10.95629 </td><td>10.02699 </td></tr>\n",
       "\t<tr><th scope=row>AHW_ALL_BA_032751_71_A_PZ.CEL</th><td>8.524435 </td><td>6.648112 </td><td>8.183514 </td><td>8.798847 </td><td>5.934621 </td><td>10.605028</td><td>10.613034</td><td>11.66462 </td><td>11.63216 </td><td>11.41284 </td></tr>\n",
       "\t<tr><th scope=row>AHW_ALL_BN_022495_7_A_PZ.CEL</th><td>8.606060 </td><td>6.382602 </td><td>7.909023 </td><td>8.948909 </td><td>5.646312 </td><td>10.367226</td><td> 9.836321</td><td>12.08132 </td><td>11.69096 </td><td>10.96611 </td></tr>\n",
       "\t<tr><th scope=row>AHW_ALL_MLL_031351_13_A_PZ.CEL</th><td>8.841501 </td><td>6.469583 </td><td>8.105744 </td><td>8.941517 </td><td>5.899868 </td><td>10.493261</td><td>10.701126</td><td>12.02987 </td><td>11.32870 </td><td>11.17608 </td></tr>\n",
       "\t<tr><th scope=row>AHW_ALL_MLL_036187_80_A_PZ.CEL</th><td>8.882826 </td><td>8.332415 </td><td>7.820992 </td><td>8.725958 </td><td>5.651731 </td><td>10.684440</td><td>10.524360</td><td>11.85613 </td><td>11.38861 </td><td>11.11774 </td></tr>\n",
       "\t<tr><th scope=row>AHW_ALL_Ph_030031_32_A_PZ.CEL</th><td>9.011544 </td><td>6.830385 </td><td>7.859977 </td><td>8.975915 </td><td>5.798776 </td><td> 9.850415</td><td>10.115055</td><td>11.90956 </td><td>11.19729 </td><td>10.51810 </td></tr>\n",
       "\t<tr><th scope=row>AHW_ALL_Ph_032683_15_A_PZ.CEL</th><td>8.975590 </td><td>8.753525 </td><td>8.128827 </td><td>9.130401 </td><td>5.849792 </td><td>10.068460</td><td>10.252378</td><td>11.67136 </td><td>11.07064 </td><td>11.04076 </td></tr>\n",
       "\t<tr><th scope=row>AHW_ALL_Ph_035655_63_A_PZ.CEL</th><td>8.940409 </td><td>6.370298 </td><td>7.956449 </td><td>8.997386 </td><td>6.002240 </td><td>10.259652</td><td>10.722423</td><td>12.20823 </td><td>11.47185 </td><td>11.18287 </td></tr>\n",
       "\t<tr><th scope=row>AHW_ALL_TA_025336_26_A_PZ.CEL</th><td>9.342263 </td><td>6.971186 </td><td>8.285775 </td><td>9.294638 </td><td>5.642667 </td><td>10.168444</td><td> 9.809753</td><td>10.95631 </td><td>11.88101 </td><td>10.47408 </td></tr>\n",
       "\t<tr><th scope=row>AHW_ALL_TA_032725_16_A_PZ.CEL</th><td>8.966156 </td><td>7.302477 </td><td>8.335117 </td><td>9.094800 </td><td>5.768286 </td><td> 9.143968</td><td> 9.503368</td><td>11.26279 </td><td>11.05153 </td><td>10.03869 </td></tr>\n",
       "</tbody>\n",
       "</table>\n"
      ],
      "text/latex": [
       "\\begin{tabular}{r|llllllllll}\n",
       "  & PAX8 & CCL5 & MMP14 & DTX2P1-UPK3BP1-PMS2P11 & BAD & PRPF8 & CAPNS1 & RPL35 & EIF4G2 & EIF3D\\\\\n",
       "\\hline\n",
       "\tAHW\\_ALL\\_BA\\_025919\\_13\\_A\\_PZ.CEL & 9.221573  & 7.990144  & 8.391732  & 9.280415  & 5.579486  &  9.587992 & 10.143771 & 11.36457  & 10.95629  & 10.02699 \\\\\n",
       "\tAHW\\_ALL\\_BA\\_032751\\_71\\_A\\_PZ.CEL & 8.524435  & 6.648112  & 8.183514  & 8.798847  & 5.934621  & 10.605028 & 10.613034 & 11.66462  & 11.63216  & 11.41284 \\\\\n",
       "\tAHW\\_ALL\\_BN\\_022495\\_7\\_A\\_PZ.CEL & 8.606060  & 6.382602  & 7.909023  & 8.948909  & 5.646312  & 10.367226 &  9.836321 & 12.08132  & 11.69096  & 10.96611 \\\\\n",
       "\tAHW\\_ALL\\_MLL\\_031351\\_13\\_A\\_PZ.CEL & 8.841501  & 6.469583  & 8.105744  & 8.941517  & 5.899868  & 10.493261 & 10.701126 & 12.02987  & 11.32870  & 11.17608 \\\\\n",
       "\tAHW\\_ALL\\_MLL\\_036187\\_80\\_A\\_PZ.CEL & 8.882826  & 8.332415  & 7.820992  & 8.725958  & 5.651731  & 10.684440 & 10.524360 & 11.85613  & 11.38861  & 11.11774 \\\\\n",
       "\tAHW\\_ALL\\_Ph\\_030031\\_32\\_A\\_PZ.CEL & 9.011544  & 6.830385  & 7.859977  & 8.975915  & 5.798776  &  9.850415 & 10.115055 & 11.90956  & 11.19729  & 10.51810 \\\\\n",
       "\tAHW\\_ALL\\_Ph\\_032683\\_15\\_A\\_PZ.CEL & 8.975590  & 8.753525  & 8.128827  & 9.130401  & 5.849792  & 10.068460 & 10.252378 & 11.67136  & 11.07064  & 11.04076 \\\\\n",
       "\tAHW\\_ALL\\_Ph\\_035655\\_63\\_A\\_PZ.CEL & 8.940409  & 6.370298  & 7.956449  & 8.997386  & 6.002240  & 10.259652 & 10.722423 & 12.20823  & 11.47185  & 11.18287 \\\\\n",
       "\tAHW\\_ALL\\_TA\\_025336\\_26\\_A\\_PZ.CEL & 9.342263  & 6.971186  & 8.285775  & 9.294638  & 5.642667  & 10.168444 &  9.809753 & 10.95631  & 11.88101  & 10.47408 \\\\\n",
       "\tAHW\\_ALL\\_TA\\_032725\\_16\\_A\\_PZ.CEL & 8.966156  & 7.302477  & 8.335117  & 9.094800  & 5.768286  &  9.143968 &  9.503368 & 11.26279  & 11.05153  & 10.03869 \\\\\n",
       "\\end{tabular}\n"
      ],
      "text/markdown": [
       "\n",
       "| <!--/--> | PAX8 | CCL5 | MMP14 | DTX2P1-UPK3BP1-PMS2P11 | BAD | PRPF8 | CAPNS1 | RPL35 | EIF4G2 | EIF3D |\n",
       "|---|---|---|---|---|---|---|---|---|---|---|\n",
       "| AHW_ALL_BA_025919_13_A_PZ.CEL | 9.221573  | 7.990144  | 8.391732  | 9.280415  | 5.579486  |  9.587992 | 10.143771 | 11.36457  | 10.95629  | 10.02699  |\n",
       "| AHW_ALL_BA_032751_71_A_PZ.CEL | 8.524435  | 6.648112  | 8.183514  | 8.798847  | 5.934621  | 10.605028 | 10.613034 | 11.66462  | 11.63216  | 11.41284  |\n",
       "| AHW_ALL_BN_022495_7_A_PZ.CEL | 8.606060  | 6.382602  | 7.909023  | 8.948909  | 5.646312  | 10.367226 |  9.836321 | 12.08132  | 11.69096  | 10.96611  |\n",
       "| AHW_ALL_MLL_031351_13_A_PZ.CEL | 8.841501  | 6.469583  | 8.105744  | 8.941517  | 5.899868  | 10.493261 | 10.701126 | 12.02987  | 11.32870  | 11.17608  |\n",
       "| AHW_ALL_MLL_036187_80_A_PZ.CEL | 8.882826  | 8.332415  | 7.820992  | 8.725958  | 5.651731  | 10.684440 | 10.524360 | 11.85613  | 11.38861  | 11.11774  |\n",
       "| AHW_ALL_Ph_030031_32_A_PZ.CEL | 9.011544  | 6.830385  | 7.859977  | 8.975915  | 5.798776  |  9.850415 | 10.115055 | 11.90956  | 11.19729  | 10.51810  |\n",
       "| AHW_ALL_Ph_032683_15_A_PZ.CEL | 8.975590  | 8.753525  | 8.128827  | 9.130401  | 5.849792  | 10.068460 | 10.252378 | 11.67136  | 11.07064  | 11.04076  |\n",
       "| AHW_ALL_Ph_035655_63_A_PZ.CEL | 8.940409  | 6.370298  | 7.956449  | 8.997386  | 6.002240  | 10.259652 | 10.722423 | 12.20823  | 11.47185  | 11.18287  |\n",
       "| AHW_ALL_TA_025336_26_A_PZ.CEL | 9.342263  | 6.971186  | 8.285775  | 9.294638  | 5.642667  | 10.168444 |  9.809753 | 10.95631  | 11.88101  | 10.47408  |\n",
       "| AHW_ALL_TA_032725_16_A_PZ.CEL | 8.966156  | 7.302477  | 8.335117  | 9.094800  | 5.768286  |  9.143968 |  9.503368 | 11.26279  | 11.05153  | 10.03869  |\n",
       "\n"
      ],
      "text/plain": [
       "                               PAX8     CCL5     MMP14   \n",
       "AHW_ALL_BA_025919_13_A_PZ.CEL  9.221573 7.990144 8.391732\n",
       "AHW_ALL_BA_032751_71_A_PZ.CEL  8.524435 6.648112 8.183514\n",
       "AHW_ALL_BN_022495_7_A_PZ.CEL   8.606060 6.382602 7.909023\n",
       "AHW_ALL_MLL_031351_13_A_PZ.CEL 8.841501 6.469583 8.105744\n",
       "AHW_ALL_MLL_036187_80_A_PZ.CEL 8.882826 8.332415 7.820992\n",
       "AHW_ALL_Ph_030031_32_A_PZ.CEL  9.011544 6.830385 7.859977\n",
       "AHW_ALL_Ph_032683_15_A_PZ.CEL  8.975590 8.753525 8.128827\n",
       "AHW_ALL_Ph_035655_63_A_PZ.CEL  8.940409 6.370298 7.956449\n",
       "AHW_ALL_TA_025336_26_A_PZ.CEL  9.342263 6.971186 8.285775\n",
       "AHW_ALL_TA_032725_16_A_PZ.CEL  8.966156 7.302477 8.335117\n",
       "                               DTX2P1-UPK3BP1-PMS2P11 BAD      PRPF8    \n",
       "AHW_ALL_BA_025919_13_A_PZ.CEL  9.280415               5.579486  9.587992\n",
       "AHW_ALL_BA_032751_71_A_PZ.CEL  8.798847               5.934621 10.605028\n",
       "AHW_ALL_BN_022495_7_A_PZ.CEL   8.948909               5.646312 10.367226\n",
       "AHW_ALL_MLL_031351_13_A_PZ.CEL 8.941517               5.899868 10.493261\n",
       "AHW_ALL_MLL_036187_80_A_PZ.CEL 8.725958               5.651731 10.684440\n",
       "AHW_ALL_Ph_030031_32_A_PZ.CEL  8.975915               5.798776  9.850415\n",
       "AHW_ALL_Ph_032683_15_A_PZ.CEL  9.130401               5.849792 10.068460\n",
       "AHW_ALL_Ph_035655_63_A_PZ.CEL  8.997386               6.002240 10.259652\n",
       "AHW_ALL_TA_025336_26_A_PZ.CEL  9.294638               5.642667 10.168444\n",
       "AHW_ALL_TA_032725_16_A_PZ.CEL  9.094800               5.768286  9.143968\n",
       "                               CAPNS1    RPL35    EIF4G2   EIF3D   \n",
       "AHW_ALL_BA_025919_13_A_PZ.CEL  10.143771 11.36457 10.95629 10.02699\n",
       "AHW_ALL_BA_032751_71_A_PZ.CEL  10.613034 11.66462 11.63216 11.41284\n",
       "AHW_ALL_BN_022495_7_A_PZ.CEL    9.836321 12.08132 11.69096 10.96611\n",
       "AHW_ALL_MLL_031351_13_A_PZ.CEL 10.701126 12.02987 11.32870 11.17608\n",
       "AHW_ALL_MLL_036187_80_A_PZ.CEL 10.524360 11.85613 11.38861 11.11774\n",
       "AHW_ALL_Ph_030031_32_A_PZ.CEL  10.115055 11.90956 11.19729 10.51810\n",
       "AHW_ALL_Ph_032683_15_A_PZ.CEL  10.252378 11.67136 11.07064 11.04076\n",
       "AHW_ALL_Ph_035655_63_A_PZ.CEL  10.722423 12.20823 11.47185 11.18287\n",
       "AHW_ALL_TA_025336_26_A_PZ.CEL   9.809753 10.95631 11.88101 10.47408\n",
       "AHW_ALL_TA_032725_16_A_PZ.CEL   9.503368 11.26279 11.05153 10.03869"
      ]
     },
     "metadata": {},
     "output_type": "display_data"
    }
   ],
   "source": [
    "subset.data.1 <- as.data.frame(t(subset.data.1))\n",
    "dim(subset.data.1)\n",
    "subset.data.1[1:10,1:10]"
   ]
  },
  {
   "cell_type": "code",
   "execution_count": 38,
   "metadata": {},
   "outputs": [
    {
     "data": {
      "text/html": [
       "<ol class=list-inline>\n",
       "\t<li>0</li>\n",
       "\t<li>0</li>\n",
       "\t<li>0</li>\n",
       "\t<li>0</li>\n",
       "\t<li>0</li>\n",
       "\t<li>0</li>\n",
       "\t<li>0</li>\n",
       "\t<li>0</li>\n",
       "\t<li>0</li>\n",
       "\t<li>0</li>\n",
       "</ol>\n"
      ],
      "text/latex": [
       "\\begin{enumerate*}\n",
       "\\item 0\n",
       "\\item 0\n",
       "\\item 0\n",
       "\\item 0\n",
       "\\item 0\n",
       "\\item 0\n",
       "\\item 0\n",
       "\\item 0\n",
       "\\item 0\n",
       "\\item 0\n",
       "\\end{enumerate*}\n"
      ],
      "text/markdown": [
       "1. 0\n",
       "2. 0\n",
       "3. 0\n",
       "4. 0\n",
       "5. 0\n",
       "6. 0\n",
       "7. 0\n",
       "8. 0\n",
       "9. 0\n",
       "10. 0\n",
       "\n",
       "\n"
      ],
      "text/plain": [
       " [1] 0 0 0 0 0 0 0 0 0 0"
      ]
     },
     "metadata": {},
     "output_type": "display_data"
    },
    {
     "data": {
      "text/html": [
       "<ol class=list-inline>\n",
       "\t<li>1942</li>\n",
       "\t<li>12709</li>\n",
       "</ol>\n"
      ],
      "text/latex": [
       "\\begin{enumerate*}\n",
       "\\item 1942\n",
       "\\item 12709\n",
       "\\end{enumerate*}\n"
      ],
      "text/markdown": [
       "1. 1942\n",
       "2. 12709\n",
       "\n",
       "\n"
      ],
      "text/plain": [
       "[1]  1942 12709"
      ]
     },
     "metadata": {},
     "output_type": "display_data"
    },
    {
     "data": {
      "text/html": [
       "986"
      ],
      "text/latex": [
       "986"
      ],
      "text/markdown": [
       "986"
      ],
      "text/plain": [
       "[1] 986"
      ]
     },
     "metadata": {},
     "output_type": "display_data"
    },
    {
     "data": {
      "text/html": [
       "956"
      ],
      "text/latex": [
       "956"
      ],
      "text/markdown": [
       "956"
      ],
      "text/plain": [
       "[1] 956"
      ]
     },
     "metadata": {},
     "output_type": "display_data"
    }
   ],
   "source": [
    "# add class label\n",
    "subset.data.1$label <- with(subset.info, ifelse(Disease=='AML', 1, 0))\n",
    "test.dataset.1 <- subset.data.1\n",
    "test.dataset.1$label[1:10]\n",
    "dim(test.dataset.1)\n",
    "length(which(test.dataset.1$label == 1))\n",
    "length(which(test.dataset.1$label == 0))"
   ]
  },
  {
   "cell_type": "markdown",
   "metadata": {},
   "source": [
    "### Linear SVM cross validation"
   ]
  },
  {
   "cell_type": "code",
   "execution_count": 39,
   "metadata": {},
   "outputs": [
    {
     "data": {
      "text/plain": [
       "        \n",
       "pred.svm   0   1\n",
       "       0 924   9\n",
       "       1  32 977"
      ]
     },
     "metadata": {},
     "output_type": "display_data"
    }
   ],
   "source": [
    "# predict using test data\n",
    "pred.svm <- predict(classifier.svm, test.dataset.1[,1:length(test.dataset.1)-1], decision.values = TRUE)\n",
    "conf_matrix <- table(pred.svm, test.dataset.1$label)\n",
    "conf_matrix"
   ]
  },
  {
   "cell_type": "code",
   "execution_count": 40,
   "metadata": {},
   "outputs": [
    {
     "data": {
      "text/html": [
       "0.978887744593203"
      ],
      "text/latex": [
       "0.978887744593203"
      ],
      "text/markdown": [
       "0.978887744593203"
      ],
      "text/plain": [
       "[1] 0.9788877"
      ]
     },
     "metadata": {},
     "output_type": "display_data"
    }
   ],
   "source": [
    "accuracy <- (conf_matrix[1] + conf_matrix[4]) / sum(conf_matrix)\n",
    "accuracy"
   ]
  },
  {
   "cell_type": "markdown",
   "metadata": {},
   "source": [
    "### Logistic regression cross validation"
   ]
  },
  {
   "cell_type": "code",
   "execution_count": 41,
   "metadata": {},
   "outputs": [
    {
     "data": {
      "text/plain": [
       "           \n",
       "pred.logreg   0   1\n",
       "          0 933   8\n",
       "          1  23 978"
      ]
     },
     "metadata": {},
     "output_type": "display_data"
    }
   ],
   "source": [
    "# predict using test data\n",
    "pred.logreg <- predict(classifier.logreg, test.dataset.1[,1:length(test.dataset.1)-1], type = \"response\")\n",
    "pred.logreg <- round(pred.logreg)\n",
    "conf_matrix <- table(pred.logreg, test.dataset.1$label)\n",
    "conf_matrix"
   ]
  },
  {
   "cell_type": "code",
   "execution_count": 42,
   "metadata": {},
   "outputs": [
    {
     "data": {
      "text/html": [
       "0.984037075180227"
      ],
      "text/latex": [
       "0.984037075180227"
      ],
      "text/markdown": [
       "0.984037075180227"
      ],
      "text/plain": [
       "[1] 0.9840371"
      ]
     },
     "metadata": {},
     "output_type": "display_data"
    }
   ],
   "source": [
    "accuracy <- (conf_matrix[1] + conf_matrix[4]) / sum(conf_matrix)\n",
    "accuracy"
   ]
  },
  {
   "cell_type": "markdown",
   "metadata": {},
   "source": [
    "### Decision tree cross validation"
   ]
  },
  {
   "cell_type": "code",
   "execution_count": 43,
   "metadata": {},
   "outputs": [
    {
     "data": {
      "text/plain": [
       "         \n",
       "pred.tree   0   1\n",
       "        0 928   5\n",
       "        1  28 981"
      ]
     },
     "metadata": {},
     "output_type": "display_data"
    }
   ],
   "source": [
    "pred.tree <- predict (classifier.tree, test.dataset.1[,1:length(test.dataset.1)-1], decision.values = TRUE)\n",
    "conf_matrix <- table(pred.tree, test.dataset.1$label)\n",
    "conf_matrix"
   ]
  },
  {
   "cell_type": "code",
   "execution_count": 44,
   "metadata": {},
   "outputs": [
    {
     "data": {
      "text/html": [
       "0.983007209062822"
      ],
      "text/latex": [
       "0.983007209062822"
      ],
      "text/markdown": [
       "0.983007209062822"
      ],
      "text/plain": [
       "[1] 0.9830072"
      ]
     },
     "metadata": {},
     "output_type": "display_data"
    }
   ],
   "source": [
    "accuracy <- (conf_matrix[1] + conf_matrix[4]) / sum(conf_matrix)\n",
    "accuracy"
   ]
  },
  {
   "cell_type": "markdown",
   "metadata": {},
   "source": [
    "### Ensemble cross validation"
   ]
  },
  {
   "cell_type": "code",
   "execution_count": 45,
   "metadata": {},
   "outputs": [
    {
     "data": {
      "text/plain": [
       "       \n",
       "testSet   0   1\n",
       "      0 929   8\n",
       "      1  27 978"
      ]
     },
     "metadata": {},
     "output_type": "display_data"
    }
   ],
   "source": [
    "testSet <- as.factor(ifelse(pred.tree == '1' & pred.logreg == '1', '1', ifelse(pred.tree\n",
    "                                                                        == '1' & pred.svm == '1','1', ifelse(pred.logreg == '1' & pred.svm == '1', '1', '0'))))\n",
    "conf_matrix <- table(testSet, test.dataset.1$label)\n",
    "conf_matrix"
   ]
  },
  {
   "cell_type": "code",
   "execution_count": 46,
   "metadata": {},
   "outputs": [
    {
     "data": {
      "text/html": [
       "0.981977342945417"
      ],
      "text/latex": [
       "0.981977342945417"
      ],
      "text/markdown": [
       "0.981977342945417"
      ],
      "text/plain": [
       "[1] 0.9819773"
      ]
     },
     "metadata": {},
     "output_type": "display_data"
    }
   ],
   "source": [
    "accuracy <- (conf_matrix[1] + conf_matrix[4]) / sum(conf_matrix)\n",
    "accuracy"
   ]
  },
  {
   "cell_type": "markdown",
   "metadata": {},
   "source": [
    "## Cross validation on dataset 3\n",
    "Note that dataset 3 has a very big class imbalance. This will be a nice set to test on as our model was trained on ~balanced data, so theoretically the imbalance should not effect the AML vs ALL classification to much (which it seems not to due to the ensemble implementation)."
   ]
  },
  {
   "cell_type": "markdown",
   "metadata": {},
   "source": [
    "### Preprocessing of dataset"
   ]
  },
  {
   "cell_type": "code",
   "execution_count": 47,
   "metadata": {},
   "outputs": [
    {
     "data": {
      "text/html": [
       "<ol class=list-inline>\n",
       "\t<li>12708</li>\n",
       "\t<li>1181</li>\n",
       "</ol>\n"
      ],
      "text/latex": [
       "\\begin{enumerate*}\n",
       "\\item 12708\n",
       "\\item 1181\n",
       "\\end{enumerate*}\n"
      ],
      "text/markdown": [
       "1. 12708\n",
       "2. 1181\n",
       "\n",
       "\n"
      ],
      "text/plain": [
       "[1] 12708  1181"
      ]
     },
     "metadata": {},
     "output_type": "display_data"
    },
    {
     "data": {
      "text/html": [
       "<table>\n",
       "<thead><tr><th></th><th scope=col>GSM1113367</th><th scope=col>GSM1113368</th><th scope=col>GSM1113369</th><th scope=col>GSM1113370</th><th scope=col>GSM1113371</th><th scope=col>GSM1113372</th><th scope=col>GSM1113373</th><th scope=col>GSM1113374</th></tr></thead>\n",
       "<tbody>\n",
       "\t<tr><th scope=row>PAX8</th><td> 147.8479 </td><td> 207.7174 </td><td> 146.1076 </td><td> 143.4009 </td><td>  124.5015</td><td> 168.9003 </td><td> 154.3915 </td><td> 181.0532 </td></tr>\n",
       "\t<tr><th scope=row>CCL5</th><td>7007.8725 </td><td>5185.2789 </td><td>7372.0930 </td><td>7640.6021 </td><td>11859.1891</td><td>7915.5822 </td><td>8649.7113 </td><td>6770.8353 </td></tr>\n",
       "\t<tr><th scope=row>MMP14</th><td> 141.6314 </td><td> 405.2492 </td><td> 169.6150 </td><td> 216.6392 </td><td>  156.6613</td><td> 156.3427 </td><td> 126.2342 </td><td> 187.2506 </td></tr>\n",
       "\t<tr><th scope=row>DTX2P1-UPK3BP1-PMS2P11</th><td>1022.5923 </td><td> 878.7947 </td><td> 930.7014 </td><td> 966.7274 </td><td>  974.5085</td><td> 908.5628 </td><td>1056.4850 </td><td>1018.7891 </td></tr>\n",
       "\t<tr><th scope=row>BAD</th><td> 262.8271 </td><td> 316.5579 </td><td> 346.3744 </td><td> 236.2970 </td><td>  361.4526</td><td> 272.7587 </td><td> 261.6820 </td><td> 233.0122 </td></tr>\n",
       "</tbody>\n",
       "</table>\n"
      ],
      "text/latex": [
       "\\begin{tabular}{r|llllllll}\n",
       "  & GSM1113367 & GSM1113368 & GSM1113369 & GSM1113370 & GSM1113371 & GSM1113372 & GSM1113373 & GSM1113374\\\\\n",
       "\\hline\n",
       "\tPAX8 &  147.8479  &  207.7174  &  146.1076  &  143.4009  &   124.5015 &  168.9003  &  154.3915  &  181.0532 \\\\\n",
       "\tCCL5 & 7007.8725  & 5185.2789  & 7372.0930  & 7640.6021  & 11859.1891 & 7915.5822  & 8649.7113  & 6770.8353 \\\\\n",
       "\tMMP14 &  141.6314  &  405.2492  &  169.6150  &  216.6392  &   156.6613 &  156.3427  &  126.2342  &  187.2506 \\\\\n",
       "\tDTX2P1-UPK3BP1-PMS2P11 & 1022.5923  &  878.7947  &  930.7014  &  966.7274  &   974.5085 &  908.5628  & 1056.4850  & 1018.7891 \\\\\n",
       "\tBAD &  262.8271  &  316.5579  &  346.3744  &  236.2970  &   361.4526 &  272.7587  &  261.6820  &  233.0122 \\\\\n",
       "\\end{tabular}\n"
      ],
      "text/markdown": [
       "\n",
       "| <!--/--> | GSM1113367 | GSM1113368 | GSM1113369 | GSM1113370 | GSM1113371 | GSM1113372 | GSM1113373 | GSM1113374 |\n",
       "|---|---|---|---|---|---|---|---|---|\n",
       "| PAX8 |  147.8479  |  207.7174  |  146.1076  |  143.4009  |   124.5015 |  168.9003  |  154.3915  |  181.0532  |\n",
       "| CCL5 | 7007.8725  | 5185.2789  | 7372.0930  | 7640.6021  | 11859.1891 | 7915.5822  | 8649.7113  | 6770.8353  |\n",
       "| MMP14 |  141.6314  |  405.2492  |  169.6150  |  216.6392  |   156.6613 |  156.3427  |  126.2342  |  187.2506  |\n",
       "| DTX2P1-UPK3BP1-PMS2P11 | 1022.5923  |  878.7947  |  930.7014  |  966.7274  |   974.5085 |  908.5628  | 1056.4850  | 1018.7891  |\n",
       "| BAD |  262.8271  |  316.5579  |  346.3744  |  236.2970  |   361.4526 |  272.7587  |  261.6820  |  233.0122  |\n",
       "\n"
      ],
      "text/plain": [
       "                       GSM1113367 GSM1113368 GSM1113369 GSM1113370 GSM1113371\n",
       "PAX8                    147.8479   207.7174   146.1076   143.4009    124.5015\n",
       "CCL5                   7007.8725  5185.2789  7372.0930  7640.6021  11859.1891\n",
       "MMP14                   141.6314   405.2492   169.6150   216.6392    156.6613\n",
       "DTX2P1-UPK3BP1-PMS2P11 1022.5923   878.7947   930.7014   966.7274    974.5085\n",
       "BAD                     262.8271   316.5579   346.3744   236.2970    361.4526\n",
       "                       GSM1113372 GSM1113373 GSM1113374\n",
       "PAX8                    168.9003   154.3915   181.0532 \n",
       "CCL5                   7915.5822  8649.7113  6770.8353 \n",
       "MMP14                   156.3427   126.2342   187.2506 \n",
       "DTX2P1-UPK3BP1-PMS2P11  908.5628  1056.4850  1018.7891 \n",
       "BAD                     272.7587   261.6820   233.0122 "
      ]
     },
     "metadata": {},
     "output_type": "display_data"
    }
   ],
   "source": [
    "# gene expression data\n",
    "dim(data.3)\n",
    "data.3[1:5, 1:8]"
   ]
  },
  {
   "cell_type": "code",
   "execution_count": 48,
   "metadata": {},
   "outputs": [],
   "source": [
    "# subset of data containing only AML and ALL samples\n",
    "leukemia <- c('AML', 'ALL')\n",
    "subset.info <- subset(info.3, Disease %in% leukemia)"
   ]
  },
  {
   "cell_type": "code",
   "execution_count": 49,
   "metadata": {},
   "outputs": [
    {
     "data": {
      "text/html": [
       "<ol class=list-inline>\n",
       "\t<li>520</li>\n",
       "\t<li>7</li>\n",
       "</ol>\n"
      ],
      "text/latex": [
       "\\begin{enumerate*}\n",
       "\\item 520\n",
       "\\item 7\n",
       "\\end{enumerate*}\n"
      ],
      "text/markdown": [
       "1. 520\n",
       "2. 7\n",
       "\n",
       "\n"
      ],
      "text/plain": [
       "[1] 520   7"
      ]
     },
     "metadata": {},
     "output_type": "display_data"
    },
    {
     "data": {
      "text/html": [
       "<table>\n",
       "<thead><tr><th></th><th scope=col>Dataset</th><th scope=col>GSE</th><th scope=col>Condition</th><th scope=col>Disease</th><th scope=col>Tissue</th><th scope=col>FAB</th><th scope=col>Filename</th></tr></thead>\n",
       "<tbody>\n",
       "\t<tr><th scope=row>GSM1202460</th><td>3               </td><td>Simon (GSE49601)</td><td>CONTROL         </td><td>ALL             </td><td>PBMC            </td><td>unknown         </td><td>GSM1202460      </td></tr>\n",
       "\t<tr><th scope=row>GSM1202461</th><td>3               </td><td>Simon (GSE49601)</td><td>CONTROL         </td><td>ALL             </td><td>BM              </td><td>unknown         </td><td>GSM1202461      </td></tr>\n",
       "\t<tr><th scope=row>GSM1202462</th><td>3               </td><td>Simon (GSE49601)</td><td>CONTROL         </td><td>ALL             </td><td>PBMC            </td><td>unknown         </td><td>GSM1202462      </td></tr>\n",
       "\t<tr><th scope=row>GSM1202463</th><td>3               </td><td>Simon (GSE49601)</td><td>CONTROL         </td><td>ALL             </td><td>BM              </td><td>unknown         </td><td>GSM1202463      </td></tr>\n",
       "\t<tr><th scope=row>GSM1202464</th><td>3               </td><td>Simon (GSE49601)</td><td>CONTROL         </td><td>ALL             </td><td>BM              </td><td>unknown         </td><td>GSM1202464      </td></tr>\n",
       "</tbody>\n",
       "</table>\n"
      ],
      "text/latex": [
       "\\begin{tabular}{r|lllllll}\n",
       "  & Dataset & GSE & Condition & Disease & Tissue & FAB & Filename\\\\\n",
       "\\hline\n",
       "\tGSM1202460 & 3                & Simon (GSE49601) & CONTROL          & ALL              & PBMC             & unknown          & GSM1202460      \\\\\n",
       "\tGSM1202461 & 3                & Simon (GSE49601) & CONTROL          & ALL              & BM               & unknown          & GSM1202461      \\\\\n",
       "\tGSM1202462 & 3                & Simon (GSE49601) & CONTROL          & ALL              & PBMC             & unknown          & GSM1202462      \\\\\n",
       "\tGSM1202463 & 3                & Simon (GSE49601) & CONTROL          & ALL              & BM               & unknown          & GSM1202463      \\\\\n",
       "\tGSM1202464 & 3                & Simon (GSE49601) & CONTROL          & ALL              & BM               & unknown          & GSM1202464      \\\\\n",
       "\\end{tabular}\n"
      ],
      "text/markdown": [
       "\n",
       "| <!--/--> | Dataset | GSE | Condition | Disease | Tissue | FAB | Filename |\n",
       "|---|---|---|---|---|---|---|---|\n",
       "| GSM1202460 | 3                | Simon (GSE49601) | CONTROL          | ALL              | PBMC             | unknown          | GSM1202460       |\n",
       "| GSM1202461 | 3                | Simon (GSE49601) | CONTROL          | ALL              | BM               | unknown          | GSM1202461       |\n",
       "| GSM1202462 | 3                | Simon (GSE49601) | CONTROL          | ALL              | PBMC             | unknown          | GSM1202462       |\n",
       "| GSM1202463 | 3                | Simon (GSE49601) | CONTROL          | ALL              | BM               | unknown          | GSM1202463       |\n",
       "| GSM1202464 | 3                | Simon (GSE49601) | CONTROL          | ALL              | BM               | unknown          | GSM1202464       |\n",
       "\n"
      ],
      "text/plain": [
       "           Dataset GSE              Condition Disease Tissue FAB     Filename  \n",
       "GSM1202460 3       Simon (GSE49601) CONTROL   ALL     PBMC   unknown GSM1202460\n",
       "GSM1202461 3       Simon (GSE49601) CONTROL   ALL     BM     unknown GSM1202461\n",
       "GSM1202462 3       Simon (GSE49601) CONTROL   ALL     PBMC   unknown GSM1202462\n",
       "GSM1202463 3       Simon (GSE49601) CONTROL   ALL     BM     unknown GSM1202463\n",
       "GSM1202464 3       Simon (GSE49601) CONTROL   ALL     BM     unknown GSM1202464"
      ]
     },
     "metadata": {},
     "output_type": "display_data"
    }
   ],
   "source": [
    "dim(subset.info)\n",
    "subset.info[1:5,]"
   ]
  },
  {
   "cell_type": "code",
   "execution_count": 50,
   "metadata": {},
   "outputs": [
    {
     "data": {
      "text/html": [
       "<ol class=list-inline>\n",
       "\t<li>12708</li>\n",
       "\t<li>520</li>\n",
       "</ol>\n"
      ],
      "text/latex": [
       "\\begin{enumerate*}\n",
       "\\item 12708\n",
       "\\item 520\n",
       "\\end{enumerate*}\n"
      ],
      "text/markdown": [
       "1. 12708\n",
       "2. 520\n",
       "\n",
       "\n"
      ],
      "text/plain": [
       "[1] 12708   520"
      ]
     },
     "metadata": {},
     "output_type": "display_data"
    },
    {
     "data": {
      "text/html": [
       "<table>\n",
       "<thead><tr><th></th><th scope=col>GSM1202460</th><th scope=col>GSM1202461</th><th scope=col>GSM1202462</th><th scope=col>GSM1202463</th><th scope=col>GSM1202464</th><th scope=col>GSM1202465</th><th scope=col>GSM1202466</th><th scope=col>GSM1202467</th><th scope=col>GSM1202468</th><th scope=col>GSM1202469</th></tr></thead>\n",
       "<tbody>\n",
       "\t<tr><th scope=row>PAX8</th><td>  429.14191 </td><td>  342.4850  </td><td>  346.0292  </td><td>  273.10056 </td><td>  219.73395 </td><td>   10.36487 </td><td>  359.15587 </td><td>  412.0841  </td><td>  210.9968  </td><td>    2.330412</td></tr>\n",
       "\t<tr><th scope=row>CCL5</th><td>  679.59668 </td><td>  770.7853  </td><td>  178.6169  </td><td>  105.78929 </td><td>  815.02943 </td><td>  260.46515 </td><td>  189.92748 </td><td>  416.3366  </td><td>  104.7086  </td><td>  232.540562</td></tr>\n",
       "\t<tr><th scope=row>MMP14</th><td>   46.22431 </td><td>  184.8808  </td><td>  119.2873  </td><td>   51.84463 </td><td>   43.38935 </td><td>   93.64472 </td><td>   60.19456 </td><td>  111.4081  </td><td>   79.3114  </td><td>  177.514014</td></tr>\n",
       "\t<tr><th scope=row>DTX2P1-UPK3BP1-PMS2P11</th><td>  937.95926 </td><td> 2558.8866  </td><td> 1148.2014  </td><td>  857.68102 </td><td>  951.90475 </td><td>  965.23117 </td><td>  910.78529 </td><td>  982.7911  </td><td> 1020.8992  </td><td> 1777.440146</td></tr>\n",
       "\t<tr><th scope=row>BAD</th><td> 1608.76106 </td><td> 1188.0667  </td><td>  697.1790  </td><td>  534.30104 </td><td>  349.51153 </td><td>  500.22082 </td><td>  495.15526 </td><td>  655.8174  </td><td>  827.3081  </td><td>  362.403278</td></tr>\n",
       "\t<tr><th scope=row>PRPF8</th><td>27720.63275 </td><td>24220.2543  </td><td>18303.9556  </td><td>13737.03256 </td><td>13659.25131 </td><td>14420.29483 </td><td>12919.00294 </td><td>23050.4315  </td><td>17090.0000  </td><td>13946.715964</td></tr>\n",
       "\t<tr><th scope=row>CAPNS1</th><td>12820.85508 </td><td>12869.8397  </td><td> 7988.8335  </td><td> 4964.47925 </td><td> 4370.81172 </td><td> 5288.43875 </td><td> 4663.29429 </td><td> 5430.1533  </td><td> 6431.5020  </td><td> 3936.225143</td></tr>\n",
       "\t<tr><th scope=row>RPL35</th><td>13999.22541 </td><td>13935.4712  </td><td> 4892.0820  </td><td>21213.43660 </td><td> 7804.72465 </td><td>13878.59571 </td><td> 7996.20608 </td><td>13925.1113  </td><td> 5370.0660  </td><td>13112.183915</td></tr>\n",
       "\t<tr><th scope=row>EIF4G2</th><td>30957.22408 </td><td>18645.1055  </td><td>28528.6323  </td><td>20873.14886 </td><td>38471.19861 </td><td>28300.52006 </td><td>33028.51305 </td><td>65284.8969  </td><td>38138.4645  </td><td>18681.880544</td></tr>\n",
       "\t<tr><th scope=row>EIF3D</th><td>14112.16550 </td><td>10982.3758  </td><td> 8830.4264  </td><td> 7660.99569 </td><td> 5333.29482 </td><td> 9834.57141 </td><td> 6256.77562 </td><td>10280.4448  </td><td> 5115.3989  </td><td>11652.643396</td></tr>\n",
       "</tbody>\n",
       "</table>\n"
      ],
      "text/latex": [
       "\\begin{tabular}{r|llllllllll}\n",
       "  & GSM1202460 & GSM1202461 & GSM1202462 & GSM1202463 & GSM1202464 & GSM1202465 & GSM1202466 & GSM1202467 & GSM1202468 & GSM1202469\\\\\n",
       "\\hline\n",
       "\tPAX8 &   429.14191  &   342.4850   &   346.0292   &   273.10056  &   219.73395  &    10.36487  &   359.15587  &   412.0841   &   210.9968   &     2.330412\\\\\n",
       "\tCCL5 &   679.59668  &   770.7853   &   178.6169   &   105.78929  &   815.02943  &   260.46515  &   189.92748  &   416.3366   &   104.7086   &   232.540562\\\\\n",
       "\tMMP14 &    46.22431  &   184.8808   &   119.2873   &    51.84463  &    43.38935  &    93.64472  &    60.19456  &   111.4081   &    79.3114   &   177.514014\\\\\n",
       "\tDTX2P1-UPK3BP1-PMS2P11 &   937.95926  &  2558.8866   &  1148.2014   &   857.68102  &   951.90475  &   965.23117  &   910.78529  &   982.7911   &  1020.8992   &  1777.440146\\\\\n",
       "\tBAD &  1608.76106  &  1188.0667   &   697.1790   &   534.30104  &   349.51153  &   500.22082  &   495.15526  &   655.8174   &   827.3081   &   362.403278\\\\\n",
       "\tPRPF8 & 27720.63275  & 24220.2543   & 18303.9556   & 13737.03256  & 13659.25131  & 14420.29483  & 12919.00294  & 23050.4315   & 17090.0000   & 13946.715964\\\\\n",
       "\tCAPNS1 & 12820.85508  & 12869.8397   &  7988.8335   &  4964.47925  &  4370.81172  &  5288.43875  &  4663.29429  &  5430.1533   &  6431.5020   &  3936.225143\\\\\n",
       "\tRPL35 & 13999.22541  & 13935.4712   &  4892.0820   & 21213.43660  &  7804.72465  & 13878.59571  &  7996.20608  & 13925.1113   &  5370.0660   & 13112.183915\\\\\n",
       "\tEIF4G2 & 30957.22408  & 18645.1055   & 28528.6323   & 20873.14886  & 38471.19861  & 28300.52006  & 33028.51305  & 65284.8969   & 38138.4645   & 18681.880544\\\\\n",
       "\tEIF3D & 14112.16550  & 10982.3758   &  8830.4264   &  7660.99569  &  5333.29482  &  9834.57141  &  6256.77562  & 10280.4448   &  5115.3989   & 11652.643396\\\\\n",
       "\\end{tabular}\n"
      ],
      "text/markdown": [
       "\n",
       "| <!--/--> | GSM1202460 | GSM1202461 | GSM1202462 | GSM1202463 | GSM1202464 | GSM1202465 | GSM1202466 | GSM1202467 | GSM1202468 | GSM1202469 |\n",
       "|---|---|---|---|---|---|---|---|---|---|---|\n",
       "| PAX8 |   429.14191  |   342.4850   |   346.0292   |   273.10056  |   219.73395  |    10.36487  |   359.15587  |   412.0841   |   210.9968   |     2.330412 |\n",
       "| CCL5 |   679.59668  |   770.7853   |   178.6169   |   105.78929  |   815.02943  |   260.46515  |   189.92748  |   416.3366   |   104.7086   |   232.540562 |\n",
       "| MMP14 |    46.22431  |   184.8808   |   119.2873   |    51.84463  |    43.38935  |    93.64472  |    60.19456  |   111.4081   |    79.3114   |   177.514014 |\n",
       "| DTX2P1-UPK3BP1-PMS2P11 |   937.95926  |  2558.8866   |  1148.2014   |   857.68102  |   951.90475  |   965.23117  |   910.78529  |   982.7911   |  1020.8992   |  1777.440146 |\n",
       "| BAD |  1608.76106  |  1188.0667   |   697.1790   |   534.30104  |   349.51153  |   500.22082  |   495.15526  |   655.8174   |   827.3081   |   362.403278 |\n",
       "| PRPF8 | 27720.63275  | 24220.2543   | 18303.9556   | 13737.03256  | 13659.25131  | 14420.29483  | 12919.00294  | 23050.4315   | 17090.0000   | 13946.715964 |\n",
       "| CAPNS1 | 12820.85508  | 12869.8397   |  7988.8335   |  4964.47925  |  4370.81172  |  5288.43875  |  4663.29429  |  5430.1533   |  6431.5020   |  3936.225143 |\n",
       "| RPL35 | 13999.22541  | 13935.4712   |  4892.0820   | 21213.43660  |  7804.72465  | 13878.59571  |  7996.20608  | 13925.1113   |  5370.0660   | 13112.183915 |\n",
       "| EIF4G2 | 30957.22408  | 18645.1055   | 28528.6323   | 20873.14886  | 38471.19861  | 28300.52006  | 33028.51305  | 65284.8969   | 38138.4645   | 18681.880544 |\n",
       "| EIF3D | 14112.16550  | 10982.3758   |  8830.4264   |  7660.99569  |  5333.29482  |  9834.57141  |  6256.77562  | 10280.4448   |  5115.3989   | 11652.643396 |\n",
       "\n"
      ],
      "text/plain": [
       "                       GSM1202460  GSM1202461 GSM1202462 GSM1202463 \n",
       "PAX8                     429.14191   342.4850   346.0292   273.10056\n",
       "CCL5                     679.59668   770.7853   178.6169   105.78929\n",
       "MMP14                     46.22431   184.8808   119.2873    51.84463\n",
       "DTX2P1-UPK3BP1-PMS2P11   937.95926  2558.8866  1148.2014   857.68102\n",
       "BAD                     1608.76106  1188.0667   697.1790   534.30104\n",
       "PRPF8                  27720.63275 24220.2543 18303.9556 13737.03256\n",
       "CAPNS1                 12820.85508 12869.8397  7988.8335  4964.47925\n",
       "RPL35                  13999.22541 13935.4712  4892.0820 21213.43660\n",
       "EIF4G2                 30957.22408 18645.1055 28528.6323 20873.14886\n",
       "EIF3D                  14112.16550 10982.3758  8830.4264  7660.99569\n",
       "                       GSM1202464  GSM1202465  GSM1202466  GSM1202467\n",
       "PAX8                     219.73395    10.36487   359.15587   412.0841\n",
       "CCL5                     815.02943   260.46515   189.92748   416.3366\n",
       "MMP14                     43.38935    93.64472    60.19456   111.4081\n",
       "DTX2P1-UPK3BP1-PMS2P11   951.90475   965.23117   910.78529   982.7911\n",
       "BAD                      349.51153   500.22082   495.15526   655.8174\n",
       "PRPF8                  13659.25131 14420.29483 12919.00294 23050.4315\n",
       "CAPNS1                  4370.81172  5288.43875  4663.29429  5430.1533\n",
       "RPL35                   7804.72465 13878.59571  7996.20608 13925.1113\n",
       "EIF4G2                 38471.19861 28300.52006 33028.51305 65284.8969\n",
       "EIF3D                   5333.29482  9834.57141  6256.77562 10280.4448\n",
       "                       GSM1202468 GSM1202469  \n",
       "PAX8                     210.9968     2.330412\n",
       "CCL5                     104.7086   232.540562\n",
       "MMP14                     79.3114   177.514014\n",
       "DTX2P1-UPK3BP1-PMS2P11  1020.8992  1777.440146\n",
       "BAD                      827.3081   362.403278\n",
       "PRPF8                  17090.0000 13946.715964\n",
       "CAPNS1                  6431.5020  3936.225143\n",
       "RPL35                   5370.0660 13112.183915\n",
       "EIF4G2                 38138.4645 18681.880544\n",
       "EIF3D                   5115.3989 11652.643396"
      ]
     },
     "metadata": {},
     "output_type": "display_data"
    }
   ],
   "source": [
    "subset.data.3 <- data.3[,rownames(subset.info)]\n",
    "dim(subset.data.3)\n",
    "subset.data.3[1:10,1:10]"
   ]
  },
  {
   "cell_type": "code",
   "execution_count": 51,
   "metadata": {},
   "outputs": [
    {
     "data": {
      "text/html": [
       "<ol class=list-inline>\n",
       "\t<li>520</li>\n",
       "\t<li>12708</li>\n",
       "</ol>\n"
      ],
      "text/latex": [
       "\\begin{enumerate*}\n",
       "\\item 520\n",
       "\\item 12708\n",
       "\\end{enumerate*}\n"
      ],
      "text/markdown": [
       "1. 520\n",
       "2. 12708\n",
       "\n",
       "\n"
      ],
      "text/plain": [
       "[1]   520 12708"
      ]
     },
     "metadata": {},
     "output_type": "display_data"
    },
    {
     "data": {
      "text/html": [
       "<table>\n",
       "<thead><tr><th></th><th scope=col>PAX8</th><th scope=col>CCL5</th><th scope=col>MMP14</th><th scope=col>DTX2P1-UPK3BP1-PMS2P11</th><th scope=col>BAD</th><th scope=col>PRPF8</th><th scope=col>CAPNS1</th><th scope=col>RPL35</th><th scope=col>EIF4G2</th><th scope=col>EIF3D</th></tr></thead>\n",
       "<tbody>\n",
       "\t<tr><th scope=row>GSM1202460</th><td>429.141908</td><td>679.5967  </td><td> 46.22431 </td><td> 937.9593 </td><td>1608.7611 </td><td>27720.63  </td><td>12820.855 </td><td>13999.225 </td><td>30957.22  </td><td>14112.165 </td></tr>\n",
       "\t<tr><th scope=row>GSM1202461</th><td>342.484974</td><td>770.7853  </td><td>184.88082 </td><td>2558.8866 </td><td>1188.0667 </td><td>24220.25  </td><td>12869.840 </td><td>13935.471 </td><td>18645.11  </td><td>10982.376 </td></tr>\n",
       "\t<tr><th scope=row>GSM1202462</th><td>346.029244</td><td>178.6169  </td><td>119.28728 </td><td>1148.2014 </td><td> 697.1790 </td><td>18303.96  </td><td> 7988.833 </td><td> 4892.082 </td><td>28528.63  </td><td> 8830.426 </td></tr>\n",
       "\t<tr><th scope=row>GSM1202463</th><td>273.100560</td><td>105.7893  </td><td> 51.84463 </td><td> 857.6810 </td><td> 534.3010 </td><td>13737.03  </td><td> 4964.479 </td><td>21213.437 </td><td>20873.15  </td><td> 7660.996 </td></tr>\n",
       "\t<tr><th scope=row>GSM1202464</th><td>219.733952</td><td>815.0294  </td><td> 43.38935 </td><td> 951.9048 </td><td> 349.5115 </td><td>13659.25  </td><td> 4370.812 </td><td> 7804.725 </td><td>38471.20  </td><td> 5333.295 </td></tr>\n",
       "\t<tr><th scope=row>GSM1202465</th><td> 10.364874</td><td>260.4651  </td><td> 93.64472 </td><td> 965.2312 </td><td> 500.2208 </td><td>14420.29  </td><td> 5288.439 </td><td>13878.596 </td><td>28300.52  </td><td> 9834.571 </td></tr>\n",
       "\t<tr><th scope=row>GSM1202466</th><td>359.155866</td><td>189.9275  </td><td> 60.19456 </td><td> 910.7853 </td><td> 495.1553 </td><td>12919.00  </td><td> 4663.294 </td><td> 7996.206 </td><td>33028.51  </td><td> 6256.776 </td></tr>\n",
       "\t<tr><th scope=row>GSM1202467</th><td>412.084139</td><td>416.3366  </td><td>111.40809 </td><td> 982.7911 </td><td> 655.8174 </td><td>23050.43  </td><td> 5430.153 </td><td>13925.111 </td><td>65284.90  </td><td>10280.445 </td></tr>\n",
       "\t<tr><th scope=row>GSM1202468</th><td>210.996819</td><td>104.7086  </td><td> 79.31140 </td><td>1020.8992 </td><td> 827.3081 </td><td>17090.00  </td><td> 6431.502 </td><td> 5370.066 </td><td>38138.46  </td><td> 5115.399 </td></tr>\n",
       "\t<tr><th scope=row>GSM1202469</th><td>  2.330412</td><td>232.5406  </td><td>177.51401 </td><td>1777.4401 </td><td> 362.4033 </td><td>13946.72  </td><td> 3936.225 </td><td>13112.184 </td><td>18681.88  </td><td>11652.643 </td></tr>\n",
       "</tbody>\n",
       "</table>\n"
      ],
      "text/latex": [
       "\\begin{tabular}{r|llllllllll}\n",
       "  & PAX8 & CCL5 & MMP14 & DTX2P1-UPK3BP1-PMS2P11 & BAD & PRPF8 & CAPNS1 & RPL35 & EIF4G2 & EIF3D\\\\\n",
       "\\hline\n",
       "\tGSM1202460 & 429.141908 & 679.5967   &  46.22431  &  937.9593  & 1608.7611  & 27720.63   & 12820.855  & 13999.225  & 30957.22   & 14112.165 \\\\\n",
       "\tGSM1202461 & 342.484974 & 770.7853   & 184.88082  & 2558.8866  & 1188.0667  & 24220.25   & 12869.840  & 13935.471  & 18645.11   & 10982.376 \\\\\n",
       "\tGSM1202462 & 346.029244 & 178.6169   & 119.28728  & 1148.2014  &  697.1790  & 18303.96   &  7988.833  &  4892.082  & 28528.63   &  8830.426 \\\\\n",
       "\tGSM1202463 & 273.100560 & 105.7893   &  51.84463  &  857.6810  &  534.3010  & 13737.03   &  4964.479  & 21213.437  & 20873.15   &  7660.996 \\\\\n",
       "\tGSM1202464 & 219.733952 & 815.0294   &  43.38935  &  951.9048  &  349.5115  & 13659.25   &  4370.812  &  7804.725  & 38471.20   &  5333.295 \\\\\n",
       "\tGSM1202465 &  10.364874 & 260.4651   &  93.64472  &  965.2312  &  500.2208  & 14420.29   &  5288.439  & 13878.596  & 28300.52   &  9834.571 \\\\\n",
       "\tGSM1202466 & 359.155866 & 189.9275   &  60.19456  &  910.7853  &  495.1553  & 12919.00   &  4663.294  &  7996.206  & 33028.51   &  6256.776 \\\\\n",
       "\tGSM1202467 & 412.084139 & 416.3366   & 111.40809  &  982.7911  &  655.8174  & 23050.43   &  5430.153  & 13925.111  & 65284.90   & 10280.445 \\\\\n",
       "\tGSM1202468 & 210.996819 & 104.7086   &  79.31140  & 1020.8992  &  827.3081  & 17090.00   &  6431.502  &  5370.066  & 38138.46   &  5115.399 \\\\\n",
       "\tGSM1202469 &   2.330412 & 232.5406   & 177.51401  & 1777.4401  &  362.4033  & 13946.72   &  3936.225  & 13112.184  & 18681.88   & 11652.643 \\\\\n",
       "\\end{tabular}\n"
      ],
      "text/markdown": [
       "\n",
       "| <!--/--> | PAX8 | CCL5 | MMP14 | DTX2P1-UPK3BP1-PMS2P11 | BAD | PRPF8 | CAPNS1 | RPL35 | EIF4G2 | EIF3D |\n",
       "|---|---|---|---|---|---|---|---|---|---|---|\n",
       "| GSM1202460 | 429.141908 | 679.5967   |  46.22431  |  937.9593  | 1608.7611  | 27720.63   | 12820.855  | 13999.225  | 30957.22   | 14112.165  |\n",
       "| GSM1202461 | 342.484974 | 770.7853   | 184.88082  | 2558.8866  | 1188.0667  | 24220.25   | 12869.840  | 13935.471  | 18645.11   | 10982.376  |\n",
       "| GSM1202462 | 346.029244 | 178.6169   | 119.28728  | 1148.2014  |  697.1790  | 18303.96   |  7988.833  |  4892.082  | 28528.63   |  8830.426  |\n",
       "| GSM1202463 | 273.100560 | 105.7893   |  51.84463  |  857.6810  |  534.3010  | 13737.03   |  4964.479  | 21213.437  | 20873.15   |  7660.996  |\n",
       "| GSM1202464 | 219.733952 | 815.0294   |  43.38935  |  951.9048  |  349.5115  | 13659.25   |  4370.812  |  7804.725  | 38471.20   |  5333.295  |\n",
       "| GSM1202465 |  10.364874 | 260.4651   |  93.64472  |  965.2312  |  500.2208  | 14420.29   |  5288.439  | 13878.596  | 28300.52   |  9834.571  |\n",
       "| GSM1202466 | 359.155866 | 189.9275   |  60.19456  |  910.7853  |  495.1553  | 12919.00   |  4663.294  |  7996.206  | 33028.51   |  6256.776  |\n",
       "| GSM1202467 | 412.084139 | 416.3366   | 111.40809  |  982.7911  |  655.8174  | 23050.43   |  5430.153  | 13925.111  | 65284.90   | 10280.445  |\n",
       "| GSM1202468 | 210.996819 | 104.7086   |  79.31140  | 1020.8992  |  827.3081  | 17090.00   |  6431.502  |  5370.066  | 38138.46   |  5115.399  |\n",
       "| GSM1202469 |   2.330412 | 232.5406   | 177.51401  | 1777.4401  |  362.4033  | 13946.72   |  3936.225  | 13112.184  | 18681.88   | 11652.643  |\n",
       "\n"
      ],
      "text/plain": [
       "           PAX8       CCL5     MMP14     DTX2P1-UPK3BP1-PMS2P11 BAD      \n",
       "GSM1202460 429.141908 679.5967  46.22431  937.9593              1608.7611\n",
       "GSM1202461 342.484974 770.7853 184.88082 2558.8866              1188.0667\n",
       "GSM1202462 346.029244 178.6169 119.28728 1148.2014               697.1790\n",
       "GSM1202463 273.100560 105.7893  51.84463  857.6810               534.3010\n",
       "GSM1202464 219.733952 815.0294  43.38935  951.9048               349.5115\n",
       "GSM1202465  10.364874 260.4651  93.64472  965.2312               500.2208\n",
       "GSM1202466 359.155866 189.9275  60.19456  910.7853               495.1553\n",
       "GSM1202467 412.084139 416.3366 111.40809  982.7911               655.8174\n",
       "GSM1202468 210.996819 104.7086  79.31140 1020.8992               827.3081\n",
       "GSM1202469   2.330412 232.5406 177.51401 1777.4401               362.4033\n",
       "           PRPF8    CAPNS1    RPL35     EIF4G2   EIF3D    \n",
       "GSM1202460 27720.63 12820.855 13999.225 30957.22 14112.165\n",
       "GSM1202461 24220.25 12869.840 13935.471 18645.11 10982.376\n",
       "GSM1202462 18303.96  7988.833  4892.082 28528.63  8830.426\n",
       "GSM1202463 13737.03  4964.479 21213.437 20873.15  7660.996\n",
       "GSM1202464 13659.25  4370.812  7804.725 38471.20  5333.295\n",
       "GSM1202465 14420.29  5288.439 13878.596 28300.52  9834.571\n",
       "GSM1202466 12919.00  4663.294  7996.206 33028.51  6256.776\n",
       "GSM1202467 23050.43  5430.153 13925.111 65284.90 10280.445\n",
       "GSM1202468 17090.00  6431.502  5370.066 38138.46  5115.399\n",
       "GSM1202469 13946.72  3936.225 13112.184 18681.88 11652.643"
      ]
     },
     "metadata": {},
     "output_type": "display_data"
    }
   ],
   "source": [
    "subset.data.3 <- as.data.frame(t(subset.data.3))\n",
    "dim(subset.data.3)\n",
    "subset.data.3[1:10,1:10]"
   ]
  },
  {
   "cell_type": "code",
   "execution_count": 52,
   "metadata": {},
   "outputs": [
    {
     "data": {
      "text/html": [
       "<ol class=list-inline>\n",
       "\t<li>0</li>\n",
       "\t<li>0</li>\n",
       "\t<li>0</li>\n",
       "\t<li>0</li>\n",
       "\t<li>0</li>\n",
       "\t<li>0</li>\n",
       "\t<li>0</li>\n",
       "\t<li>0</li>\n",
       "\t<li>0</li>\n",
       "\t<li>0</li>\n",
       "</ol>\n"
      ],
      "text/latex": [
       "\\begin{enumerate*}\n",
       "\\item 0\n",
       "\\item 0\n",
       "\\item 0\n",
       "\\item 0\n",
       "\\item 0\n",
       "\\item 0\n",
       "\\item 0\n",
       "\\item 0\n",
       "\\item 0\n",
       "\\item 0\n",
       "\\end{enumerate*}\n"
      ],
      "text/markdown": [
       "1. 0\n",
       "2. 0\n",
       "3. 0\n",
       "4. 0\n",
       "5. 0\n",
       "6. 0\n",
       "7. 0\n",
       "8. 0\n",
       "9. 0\n",
       "10. 0\n",
       "\n",
       "\n"
      ],
      "text/plain": [
       " [1] 0 0 0 0 0 0 0 0 0 0"
      ]
     },
     "metadata": {},
     "output_type": "display_data"
    },
    {
     "data": {
      "text/html": [
       "<ol class=list-inline>\n",
       "\t<li>520</li>\n",
       "\t<li>12709</li>\n",
       "</ol>\n"
      ],
      "text/latex": [
       "\\begin{enumerate*}\n",
       "\\item 520\n",
       "\\item 12709\n",
       "\\end{enumerate*}\n"
      ],
      "text/markdown": [
       "1. 520\n",
       "2. 12709\n",
       "\n",
       "\n"
      ],
      "text/plain": [
       "[1]   520 12709"
      ]
     },
     "metadata": {},
     "output_type": "display_data"
    },
    {
     "data": {
      "text/html": [
       "508"
      ],
      "text/latex": [
       "508"
      ],
      "text/markdown": [
       "508"
      ],
      "text/plain": [
       "[1] 508"
      ]
     },
     "metadata": {},
     "output_type": "display_data"
    },
    {
     "data": {
      "text/html": [
       "12"
      ],
      "text/latex": [
       "12"
      ],
      "text/markdown": [
       "12"
      ],
      "text/plain": [
       "[1] 12"
      ]
     },
     "metadata": {},
     "output_type": "display_data"
    }
   ],
   "source": [
    "# add class label\n",
    "subset.data.3$label <- with(subset.info, ifelse(Disease=='AML', 1, 0))\n",
    "test.dataset.3 <- subset.data.3\n",
    "test.dataset.3$label[1:10]\n",
    "dim(test.dataset.3)\n",
    "length(which(test.dataset.3$label == 1))\n",
    "length(which(test.dataset.3$label == 0))"
   ]
  },
  {
   "cell_type": "markdown",
   "metadata": {},
   "source": [
    "### Linear SVM cross validation"
   ]
  },
  {
   "cell_type": "code",
   "execution_count": 53,
   "metadata": {},
   "outputs": [
    {
     "data": {
      "text/plain": [
       "        \n",
       "pred.svm   0   1\n",
       "       0   8   7\n",
       "       1   4 501"
      ]
     },
     "metadata": {},
     "output_type": "display_data"
    }
   ],
   "source": [
    "pred.svm <- predict(classifier.svm, test.dataset.3[,1:length(test.dataset.3)-1], decision.values = TRUE)\n",
    "conf_matrix <- table(pred.svm, test.dataset.3$label)\n",
    "conf_matrix"
   ]
  },
  {
   "cell_type": "code",
   "execution_count": 54,
   "metadata": {},
   "outputs": [
    {
     "data": {
      "text/html": [
       "0.978846153846154"
      ],
      "text/latex": [
       "0.978846153846154"
      ],
      "text/markdown": [
       "0.978846153846154"
      ],
      "text/plain": [
       "[1] 0.9788462"
      ]
     },
     "metadata": {},
     "output_type": "display_data"
    }
   ],
   "source": [
    "accuracy <- (conf_matrix[1] + conf_matrix[4]) / sum(conf_matrix)\n",
    "accuracy"
   ]
  },
  {
   "cell_type": "markdown",
   "metadata": {},
   "source": [
    "### Logistic regression cross validation"
   ]
  },
  {
   "cell_type": "code",
   "execution_count": 55,
   "metadata": {},
   "outputs": [
    {
     "data": {
      "text/plain": [
       "           \n",
       "pred.logreg   0   1\n",
       "          0   9   8\n",
       "          1   3 500"
      ]
     },
     "metadata": {},
     "output_type": "display_data"
    }
   ],
   "source": [
    "pred.logreg <- predict(classifier.logreg, test.dataset.3[,1:length(test.dataset.3)-1], type = \"response\")\n",
    "pred.logreg <- round(pred.logreg)\n",
    "conf_matrix <- table(pred.logreg, test.dataset.3$label)\n",
    "conf_matrix"
   ]
  },
  {
   "cell_type": "code",
   "execution_count": 56,
   "metadata": {},
   "outputs": [
    {
     "data": {
      "text/html": [
       "0.978846153846154"
      ],
      "text/latex": [
       "0.978846153846154"
      ],
      "text/markdown": [
       "0.978846153846154"
      ],
      "text/plain": [
       "[1] 0.9788462"
      ]
     },
     "metadata": {},
     "output_type": "display_data"
    }
   ],
   "source": [
    "accuracy <- (conf_matrix[1] + conf_matrix[4]) / sum(conf_matrix)\n",
    "accuracy"
   ]
  },
  {
   "cell_type": "markdown",
   "metadata": {},
   "source": [
    "### Decision tree cross validation"
   ]
  },
  {
   "cell_type": "code",
   "execution_count": 57,
   "metadata": {},
   "outputs": [
    {
     "data": {
      "text/plain": [
       "         \n",
       "pred.tree   0   1\n",
       "        0  11 154\n",
       "        1   1 354"
      ]
     },
     "metadata": {},
     "output_type": "display_data"
    }
   ],
   "source": [
    "# note the poor-er performance here; should take note in the paper...\n",
    "pred.tree <- predict (classifier.tree, test.dataset.3[,1:length(test.dataset.3)-1], decision.values = TRUE)\n",
    "conf_matrix <- table(pred.tree, test.dataset.3$label)\n",
    "conf_matrix"
   ]
  },
  {
   "cell_type": "code",
   "execution_count": 58,
   "metadata": {},
   "outputs": [
    {
     "data": {
      "text/html": [
       "0.701923076923077"
      ],
      "text/latex": [
       "0.701923076923077"
      ],
      "text/markdown": [
       "0.701923076923077"
      ],
      "text/plain": [
       "[1] 0.7019231"
      ]
     },
     "metadata": {},
     "output_type": "display_data"
    }
   ],
   "source": [
    "accuracy <- (conf_matrix[1] + conf_matrix[4]) / sum(conf_matrix)\n",
    "accuracy"
   ]
  },
  {
   "cell_type": "markdown",
   "metadata": {},
   "source": [
    "### Ensemble cross validation"
   ]
  },
  {
   "cell_type": "code",
   "execution_count": 59,
   "metadata": {},
   "outputs": [
    {
     "data": {
      "text/plain": [
       "       \n",
       "testSet   0   1\n",
       "      0   9   8\n",
       "      1   3 500"
      ]
     },
     "metadata": {},
     "output_type": "display_data"
    }
   ],
   "source": [
    "testSet <- as.factor(ifelse(pred.tree == '1' & pred.logreg == '1', '1', ifelse(pred.tree\n",
    "                                                                        == '1' & pred.svm == '1','1', ifelse(pred.logreg == '1' & pred.svm == '1', '1', '0'))))\n",
    "conf_matrix <- table(testSet, test.dataset.3$label)\n",
    "conf_matrix"
   ]
  },
  {
   "cell_type": "code",
   "execution_count": 60,
   "metadata": {},
   "outputs": [
    {
     "data": {
      "text/html": [
       "0.978846153846154"
      ],
      "text/latex": [
       "0.978846153846154"
      ],
      "text/markdown": [
       "0.978846153846154"
      ],
      "text/plain": [
       "[1] 0.9788462"
      ]
     },
     "metadata": {},
     "output_type": "display_data"
    }
   ],
   "source": [
    "accuracy <- (conf_matrix[1] + conf_matrix[4]) / sum(conf_matrix)\n",
    "accuracy"
   ]
  },
  {
   "cell_type": "code",
   "execution_count": null,
   "metadata": {},
   "outputs": [],
   "source": []
  }
 ],
 "metadata": {
  "kernelspec": {
   "display_name": "R",
   "language": "R",
   "name": "ir"
  },
  "language_info": {
   "codemirror_mode": "r",
   "file_extension": ".r",
   "mimetype": "text/x-r-source",
   "name": "R",
   "pygments_lexer": "r",
   "version": "3.6.1"
  }
 },
 "nbformat": 4,
 "nbformat_minor": 5
}
