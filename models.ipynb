{
 "cells": [
  {
   "cell_type": "markdown",
   "id": "68c4a56e-6296-473f-a31c-55e2f66a2ffa",
   "metadata": {},
   "source": [
    "# Code and Documentation\n",
    "### Part 3 - Models\n",
    "____\n",
    "#### GroupD: Nicole Guobadia, Dhruvi Kaswala, Arashpreet Singh Pandher, Karen Angella Edy Setiawan\n",
    "\n",
    "Note: make sure to shut down all other kernels"
   ]
  },
  {
   "cell_type": "code",
   "execution_count": 2,
   "id": "fde5d92b",
   "metadata": {},
   "outputs": [
    {
     "name": "stderr",
     "output_type": "stream",
     "text": [
      "also installing the dependencies ‘cluster’, ‘mlbench’, ‘SparseM’, ‘slam’\n",
      "\n",
      "\n",
      "Updating HTML index of packages in '.Library'\n",
      "\n",
      "Making 'packages.html' ...\n",
      " done\n",
      "\n"
     ]
    }
   ],
   "source": [
    "install.packages('e1071', dependencies=TRUE)\n",
    "library('e1071')"
   ]
  },
  {
   "cell_type": "code",
   "execution_count": 1,
   "id": "18b73366",
   "metadata": {},
   "outputs": [
    {
     "data": {
      "text/html": [
       "<style>\n",
       ".list-inline {list-style: none; margin:0; padding: 0}\n",
       ".list-inline>li {display: inline-block}\n",
       ".list-inline>li:not(:last-child)::after {content: \"\\00b7\"; padding: 0 .5ex}\n",
       "</style>\n",
       "<ol class=list-inline><li>'genesig'</li><li>'test_dataset'</li><li>'train_dataset'</li></ol>\n"
      ],
      "text/latex": [
       "\\begin{enumerate*}\n",
       "\\item 'genesig'\n",
       "\\item 'test\\_dataset'\n",
       "\\item 'train\\_dataset'\n",
       "\\end{enumerate*}\n"
      ],
      "text/markdown": [
       "1. 'genesig'\n",
       "2. 'test_dataset'\n",
       "3. 'train_dataset'\n",
       "\n",
       "\n"
      ],
      "text/plain": [
       "[1] \"genesig\"       \"test_dataset\"  \"train_dataset\""
      ]
     },
     "metadata": {},
     "output_type": "display_data"
    }
   ],
   "source": [
    "# load train, test, and gene signature data into notebook\n",
    "load(\"data.RData\")\n",
    "load(\"gene.RData\")\n",
    "ls()"
   ]
  },
  {
   "cell_type": "code",
   "execution_count": 3,
   "id": "d61f332a",
   "metadata": {},
   "outputs": [
    {
     "data": {
      "text/html": [
       "<table class=\"dataframe\">\n",
       "<caption>A data.frame: 5 × 5</caption>\n",
       "<thead>\n",
       "\t<tr><th></th><th scope=col>PAX8</th><th scope=col>CCL5</th><th scope=col>MMP14</th><th scope=col>DTX2P1-UPK3BP1-PMS2P11</th><th scope=col>BAD</th></tr>\n",
       "\t<tr><th></th><th scope=col>&lt;dbl&gt;</th><th scope=col>&lt;dbl&gt;</th><th scope=col>&lt;dbl&gt;</th><th scope=col>&lt;dbl&gt;</th><th scope=col>&lt;dbl&gt;</th></tr>\n",
       "</thead>\n",
       "<tbody>\n",
       "\t<tr><th scope=row>GSM1030962_10030.CEL</th><td>8.27154</td><td>5.02307</td><td>7.06640</td><td>8.24990</td><td>5.75432</td></tr>\n",
       "\t<tr><th scope=row>GSM1030963_10110.CEL</th><td>8.49112</td><td>3.95575</td><td>6.41582</td><td>8.42649</td><td>6.77953</td></tr>\n",
       "\t<tr><th scope=row>GSM1030964_10111.CEL</th><td>8.34082</td><td>4.68666</td><td>6.14716</td><td>8.09809</td><td>6.35168</td></tr>\n",
       "\t<tr><th scope=row>GSM1030966_1032.CEL</th><td>7.75355</td><td>4.97396</td><td>6.35464</td><td>8.00680</td><td>6.79648</td></tr>\n",
       "\t<tr><th scope=row>GSM1030969_1446.CEL</th><td>8.40749</td><td>4.55103</td><td>6.63393</td><td>8.56563</td><td>6.34759</td></tr>\n",
       "</tbody>\n",
       "</table>\n"
      ],
      "text/latex": [
       "A data.frame: 5 × 5\n",
       "\\begin{tabular}{r|lllll}\n",
       "  & PAX8 & CCL5 & MMP14 & DTX2P1-UPK3BP1-PMS2P11 & BAD\\\\\n",
       "  & <dbl> & <dbl> & <dbl> & <dbl> & <dbl>\\\\\n",
       "\\hline\n",
       "\tGSM1030962\\_10030.CEL & 8.27154 & 5.02307 & 7.06640 & 8.24990 & 5.75432\\\\\n",
       "\tGSM1030963\\_10110.CEL & 8.49112 & 3.95575 & 6.41582 & 8.42649 & 6.77953\\\\\n",
       "\tGSM1030964\\_10111.CEL & 8.34082 & 4.68666 & 6.14716 & 8.09809 & 6.35168\\\\\n",
       "\tGSM1030966\\_1032.CEL & 7.75355 & 4.97396 & 6.35464 & 8.00680 & 6.79648\\\\\n",
       "\tGSM1030969\\_1446.CEL & 8.40749 & 4.55103 & 6.63393 & 8.56563 & 6.34759\\\\\n",
       "\\end{tabular}\n"
      ],
      "text/markdown": [
       "\n",
       "A data.frame: 5 × 5\n",
       "\n",
       "| <!--/--> | PAX8 &lt;dbl&gt; | CCL5 &lt;dbl&gt; | MMP14 &lt;dbl&gt; | DTX2P1-UPK3BP1-PMS2P11 &lt;dbl&gt; | BAD &lt;dbl&gt; |\n",
       "|---|---|---|---|---|---|\n",
       "| GSM1030962_10030.CEL | 8.27154 | 5.02307 | 7.06640 | 8.24990 | 5.75432 |\n",
       "| GSM1030963_10110.CEL | 8.49112 | 3.95575 | 6.41582 | 8.42649 | 6.77953 |\n",
       "| GSM1030964_10111.CEL | 8.34082 | 4.68666 | 6.14716 | 8.09809 | 6.35168 |\n",
       "| GSM1030966_1032.CEL | 7.75355 | 4.97396 | 6.35464 | 8.00680 | 6.79648 |\n",
       "| GSM1030969_1446.CEL | 8.40749 | 4.55103 | 6.63393 | 8.56563 | 6.34759 |\n",
       "\n"
      ],
      "text/plain": [
       "                     PAX8    CCL5    MMP14   DTX2P1-UPK3BP1-PMS2P11 BAD    \n",
       "GSM1030962_10030.CEL 8.27154 5.02307 7.06640 8.24990                5.75432\n",
       "GSM1030963_10110.CEL 8.49112 3.95575 6.41582 8.42649                6.77953\n",
       "GSM1030964_10111.CEL 8.34082 4.68666 6.14716 8.09809                6.35168\n",
       "GSM1030966_1032.CEL  7.75355 4.97396 6.35464 8.00680                6.79648\n",
       "GSM1030969_1446.CEL  8.40749 4.55103 6.63393 8.56563                6.34759"
      ]
     },
     "metadata": {},
     "output_type": "display_data"
    }
   ],
   "source": [
    "train_dataset[1:5, 1:5]"
   ]
  },
  {
   "cell_type": "code",
   "execution_count": 4,
   "id": "432bbdb6",
   "metadata": {},
   "outputs": [
    {
     "data": {
      "text/html": [
       "<table class=\"dataframe\">\n",
       "<caption>A data.frame: 5 × 5</caption>\n",
       "<thead>\n",
       "\t<tr><th></th><th scope=col>PAX8</th><th scope=col>CCL5</th><th scope=col>MMP14</th><th scope=col>DTX2P1-UPK3BP1-PMS2P11</th><th scope=col>BAD</th></tr>\n",
       "\t<tr><th></th><th scope=col>&lt;dbl&gt;</th><th scope=col>&lt;dbl&gt;</th><th scope=col>&lt;dbl&gt;</th><th scope=col>&lt;dbl&gt;</th><th scope=col>&lt;dbl&gt;</th></tr>\n",
       "</thead>\n",
       "<tbody>\n",
       "\t<tr><th scope=row>GSM1030965_10138.CEL</th><td>8.24190</td><td>5.78429</td><td>6.65615</td><td>8.15517</td><td>4.97367</td></tr>\n",
       "\t<tr><th scope=row>GSM1030967_1113.CEL</th><td>7.95457</td><td>5.75343</td><td>6.89049</td><td>7.95516</td><td>5.49744</td></tr>\n",
       "\t<tr><th scope=row>GSM1030968_1132.CEL</th><td>7.99231</td><td>4.21497</td><td>6.28378</td><td>8.13866</td><td>7.27109</td></tr>\n",
       "\t<tr><th scope=row>GSM1030979_2120_opnieuw.CEL</th><td>8.08617</td><td>6.31566</td><td>7.07061</td><td>8.51588</td><td>6.85328</td></tr>\n",
       "\t<tr><th scope=row>GSM1030982_2252.CEL</th><td>7.93179</td><td>5.32106</td><td>6.42760</td><td>8.52095</td><td>6.37300</td></tr>\n",
       "</tbody>\n",
       "</table>\n"
      ],
      "text/latex": [
       "A data.frame: 5 × 5\n",
       "\\begin{tabular}{r|lllll}\n",
       "  & PAX8 & CCL5 & MMP14 & DTX2P1-UPK3BP1-PMS2P11 & BAD\\\\\n",
       "  & <dbl> & <dbl> & <dbl> & <dbl> & <dbl>\\\\\n",
       "\\hline\n",
       "\tGSM1030965\\_10138.CEL & 8.24190 & 5.78429 & 6.65615 & 8.15517 & 4.97367\\\\\n",
       "\tGSM1030967\\_1113.CEL & 7.95457 & 5.75343 & 6.89049 & 7.95516 & 5.49744\\\\\n",
       "\tGSM1030968\\_1132.CEL & 7.99231 & 4.21497 & 6.28378 & 8.13866 & 7.27109\\\\\n",
       "\tGSM1030979\\_2120\\_opnieuw.CEL & 8.08617 & 6.31566 & 7.07061 & 8.51588 & 6.85328\\\\\n",
       "\tGSM1030982\\_2252.CEL & 7.93179 & 5.32106 & 6.42760 & 8.52095 & 6.37300\\\\\n",
       "\\end{tabular}\n"
      ],
      "text/markdown": [
       "\n",
       "A data.frame: 5 × 5\n",
       "\n",
       "| <!--/--> | PAX8 &lt;dbl&gt; | CCL5 &lt;dbl&gt; | MMP14 &lt;dbl&gt; | DTX2P1-UPK3BP1-PMS2P11 &lt;dbl&gt; | BAD &lt;dbl&gt; |\n",
       "|---|---|---|---|---|---|\n",
       "| GSM1030965_10138.CEL | 8.24190 | 5.78429 | 6.65615 | 8.15517 | 4.97367 |\n",
       "| GSM1030967_1113.CEL | 7.95457 | 5.75343 | 6.89049 | 7.95516 | 5.49744 |\n",
       "| GSM1030968_1132.CEL | 7.99231 | 4.21497 | 6.28378 | 8.13866 | 7.27109 |\n",
       "| GSM1030979_2120_opnieuw.CEL | 8.08617 | 6.31566 | 7.07061 | 8.51588 | 6.85328 |\n",
       "| GSM1030982_2252.CEL | 7.93179 | 5.32106 | 6.42760 | 8.52095 | 6.37300 |\n",
       "\n"
      ],
      "text/plain": [
       "                            PAX8    CCL5    MMP14   DTX2P1-UPK3BP1-PMS2P11\n",
       "GSM1030965_10138.CEL        8.24190 5.78429 6.65615 8.15517               \n",
       "GSM1030967_1113.CEL         7.95457 5.75343 6.89049 7.95516               \n",
       "GSM1030968_1132.CEL         7.99231 4.21497 6.28378 8.13866               \n",
       "GSM1030979_2120_opnieuw.CEL 8.08617 6.31566 7.07061 8.51588               \n",
       "GSM1030982_2252.CEL         7.93179 5.32106 6.42760 8.52095               \n",
       "                            BAD    \n",
       "GSM1030965_10138.CEL        4.97367\n",
       "GSM1030967_1113.CEL         5.49744\n",
       "GSM1030968_1132.CEL         7.27109\n",
       "GSM1030979_2120_opnieuw.CEL 6.85328\n",
       "GSM1030982_2252.CEL         6.37300"
      ]
     },
     "metadata": {},
     "output_type": "display_data"
    }
   ],
   "source": [
    "test_dataset[1:5, 1:5]"
   ]
  },
  {
   "cell_type": "code",
   "execution_count": 5,
   "id": "de9195d2",
   "metadata": {},
   "outputs": [
    {
     "data": {
      "text/html": [
       "<style>\n",
       ".list-inline {list-style: none; margin:0; padding: 0}\n",
       ".list-inline>li {display: inline-block}\n",
       ".list-inline>li:not(:last-child)::after {content: \"\\00b7\"; padding: 0 .5ex}\n",
       "</style>\n",
       "<ol class=list-inline><li>283</li><li>407</li><li>619</li><li>680</li><li>1738</li><li>1780</li><li>1885</li><li>2025</li><li>2117</li><li>2303</li><li>2304</li><li>2374</li><li>2651</li><li>2656</li><li>2855</li><li>2995</li><li>3034</li><li>3275</li><li>3325</li><li>3524</li><li>3541</li><li>3666</li><li>3733</li><li>3764</li><li>3844</li><li>3893</li><li>4292</li><li>4806</li><li>5047</li><li>5268</li><li>5278</li><li>5482</li><li>5604</li><li>5777</li><li>5835</li><li>6268</li><li>7159</li><li>7458</li><li>7652</li><li>8075</li><li>8129</li><li>8457</li><li>8493</li><li>8602</li><li>8737</li><li>8827</li><li>8887</li><li>9338</li><li>9789</li><li>9794</li><li>9877</li><li>10136</li><li>10443</li><li>10818</li><li>11364</li><li>11460</li><li>11941</li><li>11998</li><li>12146</li></ol>\n"
      ],
      "text/latex": [
       "\\begin{enumerate*}\n",
       "\\item 283\n",
       "\\item 407\n",
       "\\item 619\n",
       "\\item 680\n",
       "\\item 1738\n",
       "\\item 1780\n",
       "\\item 1885\n",
       "\\item 2025\n",
       "\\item 2117\n",
       "\\item 2303\n",
       "\\item 2304\n",
       "\\item 2374\n",
       "\\item 2651\n",
       "\\item 2656\n",
       "\\item 2855\n",
       "\\item 2995\n",
       "\\item 3034\n",
       "\\item 3275\n",
       "\\item 3325\n",
       "\\item 3524\n",
       "\\item 3541\n",
       "\\item 3666\n",
       "\\item 3733\n",
       "\\item 3764\n",
       "\\item 3844\n",
       "\\item 3893\n",
       "\\item 4292\n",
       "\\item 4806\n",
       "\\item 5047\n",
       "\\item 5268\n",
       "\\item 5278\n",
       "\\item 5482\n",
       "\\item 5604\n",
       "\\item 5777\n",
       "\\item 5835\n",
       "\\item 6268\n",
       "\\item 7159\n",
       "\\item 7458\n",
       "\\item 7652\n",
       "\\item 8075\n",
       "\\item 8129\n",
       "\\item 8457\n",
       "\\item 8493\n",
       "\\item 8602\n",
       "\\item 8737\n",
       "\\item 8827\n",
       "\\item 8887\n",
       "\\item 9338\n",
       "\\item 9789\n",
       "\\item 9794\n",
       "\\item 9877\n",
       "\\item 10136\n",
       "\\item 10443\n",
       "\\item 10818\n",
       "\\item 11364\n",
       "\\item 11460\n",
       "\\item 11941\n",
       "\\item 11998\n",
       "\\item 12146\n",
       "\\end{enumerate*}\n"
      ],
      "text/markdown": [
       "1. 283\n",
       "2. 407\n",
       "3. 619\n",
       "4. 680\n",
       "5. 1738\n",
       "6. 1780\n",
       "7. 1885\n",
       "8. 2025\n",
       "9. 2117\n",
       "10. 2303\n",
       "11. 2304\n",
       "12. 2374\n",
       "13. 2651\n",
       "14. 2656\n",
       "15. 2855\n",
       "16. 2995\n",
       "17. 3034\n",
       "18. 3275\n",
       "19. 3325\n",
       "20. 3524\n",
       "21. 3541\n",
       "22. 3666\n",
       "23. 3733\n",
       "24. 3764\n",
       "25. 3844\n",
       "26. 3893\n",
       "27. 4292\n",
       "28. 4806\n",
       "29. 5047\n",
       "30. 5268\n",
       "31. 5278\n",
       "32. 5482\n",
       "33. 5604\n",
       "34. 5777\n",
       "35. 5835\n",
       "36. 6268\n",
       "37. 7159\n",
       "38. 7458\n",
       "39. 7652\n",
       "40. 8075\n",
       "41. 8129\n",
       "42. 8457\n",
       "43. 8493\n",
       "44. 8602\n",
       "45. 8737\n",
       "46. 8827\n",
       "47. 8887\n",
       "48. 9338\n",
       "49. 9789\n",
       "50. 9794\n",
       "51. 9877\n",
       "52. 10136\n",
       "53. 10443\n",
       "54. 10818\n",
       "55. 11364\n",
       "56. 11460\n",
       "57. 11941\n",
       "58. 11998\n",
       "59. 12146\n",
       "\n",
       "\n"
      ],
      "text/plain": [
       " [1]   283   407   619   680  1738  1780  1885  2025  2117  2303  2304  2374\n",
       "[13]  2651  2656  2855  2995  3034  3275  3325  3524  3541  3666  3733  3764\n",
       "[25]  3844  3893  4292  4806  5047  5268  5278  5482  5604  5777  5835  6268\n",
       "[37]  7159  7458  7652  8075  8129  8457  8493  8602  8737  8827  8887  9338\n",
       "[49]  9789  9794  9877 10136 10443 10818 11364 11460 11941 11998 12146"
      ]
     },
     "metadata": {},
     "output_type": "display_data"
    }
   ],
   "source": [
    "genesig"
   ]
  },
  {
   "cell_type": "code",
   "execution_count": 6,
   "id": "82be6abc",
   "metadata": {},
   "outputs": [],
   "source": [
    "# train data with linear svm\n",
    "train <- train_dataset[, genesig]\n",
    "train$label <- train_dataset$label\n",
    "classifier.svm <- svm(label ~ ., data = train, type = 'C-classification', kernel = 'linear')"
   ]
  },
  {
   "cell_type": "code",
   "execution_count": 7,
   "id": "3f68c041",
   "metadata": {},
   "outputs": [
    {
     "data": {
      "text/plain": [
       "    \n",
       "pred   0   1\n",
       "   0 508   5\n",
       "   1   6 546"
      ]
     },
     "metadata": {},
     "output_type": "display_data"
    }
   ],
   "source": [
    "# predict using test data\n",
    "pred <- predict(classifier.svm, test_dataset[,1:length(test_dataset)-1], decision.values = TRUE)\n",
    "conf_matrix <- table(pred, test_dataset$label)\n",
    "conf_matrix"
   ]
  },
  {
   "cell_type": "code",
   "execution_count": 8,
   "id": "2c7aabcc",
   "metadata": {},
   "outputs": [
    {
     "data": {
      "text/html": [
       "0.989671361502347"
      ],
      "text/latex": [
       "0.989671361502347"
      ],
      "text/markdown": [
       "0.989671361502347"
      ],
      "text/plain": [
       "[1] 0.9896714"
      ]
     },
     "metadata": {},
     "output_type": "display_data"
    }
   ],
   "source": [
    "accuracy <- (conf_matrix[1] + conf_matrix[4]) / sum(conf_matrix)\n",
    "accuracy"
   ]
  },
  {
   "cell_type": "code",
   "execution_count": null,
   "id": "31605b85-78a4-4d17-adea-bec8301d4914",
   "metadata": {},
   "outputs": [],
   "source": []
  }
 ],
 "metadata": {
  "kernelspec": {
   "display_name": "R",
   "language": "R",
   "name": "ir"
  },
  "language_info": {
   "codemirror_mode": "r",
   "file_extension": ".r",
   "mimetype": "text/x-r-source",
   "name": "R",
   "pygments_lexer": "r",
   "version": "4.1.1"
  }
 },
 "nbformat": 4,
 "nbformat_minor": 5
}
