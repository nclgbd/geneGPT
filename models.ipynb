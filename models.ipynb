{
 "cells": [
  {
   "cell_type": "markdown",
   "id": "68c4a56e-6296-473f-a31c-55e2f66a2ffa",
   "metadata": {},
   "source": [
    "# Code and Documentation\n",
    "### Part 3 - Models\n",
    "____\n",
    "#### GroupD: Nicole Guobadia, Dhruvi Kaswala, Arashpreet Singh Pandher, Karen Angella Edy Setiawan\n",
    "\n",
    "Note: make sure to shut down all other kernels"
   ]
  },
  {
   "cell_type": "code",
   "execution_count": 1,
   "id": "534dbc10-fbcf-41c9-98be-dfaf80c63ded",
   "metadata": {},
   "outputs": [
    {
     "name": "stderr",
     "output_type": "stream",
     "text": [
      "Bioconductor version '3.14' is out-of-date; the current release version '3.16'\n",
      "  is available with R version '4.2'; see https://bioconductor.org/install\n",
      "\n",
      "'getOption(\"repos\")' replaces Bioconductor standard repositories, see\n",
      "'help(\"repositories\", package = \"BiocManager\")' for details.\n",
      "Replacement repositories:\n",
      "    CRAN: https://cran.r-project.org\n",
      "\n",
      "Bioconductor version 3.14 (BiocManager 1.30.20), R 4.1.1 (2021-08-10)\n",
      "\n",
      "Old packages: 'arkhe', 'brew', 'broom', 'cachem', 'caret', 'class', 'classInt',\n",
      "  'cli', 'codetools', 'colorspace', 'conflicted', 'covr', 'credentials',\n",
      "  'curl', 'data.table', 'dbplyr', 'devtools', 'dplyr', 'DT', 'dtplyr',\n",
      "  'evaluate', 'expm', 'fansi', 'fastmap', 'FNN', 'fontawesome', 'forcats',\n",
      "  'forecast', 'fracdiff', 'fs', 'future', 'gargle', 'gert', 'ggplot2',\n",
      "  'ggrepel', 'gh', 'git2r', 'gitcreds', 'gower', 'gstat', 'gtools', 'haven',\n",
      "  'highr', 'htmlwidgets', 'httpuv', 'httr', 'ipred', 'IRdisplay', 'IRkernel',\n",
      "  'isoband', 'janitor', 'keras', 'knitr', 'lava', 'lhs', 'lmtest', 'lubridate',\n",
      "  'markdown', 'MASS', 'Matrix', 'mgcv', 'modeldata', 'modelenv', 'nlme',\n",
      "  'nloptr', 'nnet', 'openssl', 'parallelly', 'parsnip', 'pbdZMQ', 'pkgbuild',\n",
      "  'plyr', 'png', 'progressr', 'proxy', 'purrr', 'quantmod', 'raster', 'Rcpp',\n",
      "  'RcppArmadillo', 'RcppTOML', 'RCurl', 'readr', 'readxl', 'recipes',\n",
      "  'remotes', 'renv', 'repr', 'reticulate', 'rex', 'rlang', 'rmarkdown',\n",
      "  'RODBC', 'roxygen2', 'rpart', 'RSQLite', 'rversions', 's2', 'sass',\n",
      "  'sessioninfo', 'sf', 'skimr', 'sourcetools', 'sp', 'spatial', 'spatialreg',\n",
      "  'spData', 'spdep', 'spiderbar', 'stringi', 'survival', 'tensorflow', 'terra',\n",
      "  'testthat', 'tibble', 'tidyr', 'tidyverse', 'timechange', 'timeDate',\n",
      "  'tinytex', 'tseries', 'TTR', 'units', 'urca', 'usethis', 'utf8', 'vctrs',\n",
      "  'visdat', 'vroom', 'whisker', 'wk', 'workflows', 'xfun', 'xts', 'yaml',\n",
      "  'zip', 'zoo'\n",
      "\n",
      "'getOption(\"repos\")' replaces Bioconductor standard repositories, see\n",
      "'help(\"repositories\", package = \"BiocManager\")' for details.\n",
      "Replacement repositories:\n",
      "    CRAN: https://cran.r-project.org\n",
      "\n",
      "Bioconductor version 3.14 (BiocManager 1.30.20), R 4.1.1 (2021-08-10)\n",
      "\n",
      "Warning message:\n",
      "“package(s) not installed when version(s) same as or greater than current; use\n",
      "  `force = TRUE` to re-install: 'randomForest'”\n",
      "Old packages: 'arkhe', 'brew', 'broom', 'cachem', 'caret', 'class', 'classInt',\n",
      "  'cli', 'codetools', 'colorspace', 'conflicted', 'covr', 'credentials',\n",
      "  'curl', 'data.table', 'dbplyr', 'devtools', 'dplyr', 'DT', 'dtplyr',\n",
      "  'evaluate', 'expm', 'fansi', 'fastmap', 'FNN', 'fontawesome', 'forcats',\n",
      "  'forecast', 'fracdiff', 'fs', 'future', 'gargle', 'gert', 'ggplot2',\n",
      "  'ggrepel', 'gh', 'git2r', 'gitcreds', 'gower', 'gstat', 'gtools', 'haven',\n",
      "  'highr', 'htmlwidgets', 'httpuv', 'httr', 'ipred', 'IRdisplay', 'IRkernel',\n",
      "  'isoband', 'janitor', 'keras', 'knitr', 'lava', 'lhs', 'lmtest', 'lubridate',\n",
      "  'markdown', 'MASS', 'Matrix', 'mgcv', 'modeldata', 'modelenv', 'nlme',\n",
      "  'nloptr', 'nnet', 'openssl', 'parallelly', 'parsnip', 'pbdZMQ', 'pkgbuild',\n",
      "  'plyr', 'png', 'progressr', 'proxy', 'purrr', 'quantmod', 'raster', 'Rcpp',\n",
      "  'RcppArmadillo', 'RcppTOML', 'RCurl', 'readr', 'readxl', 'recipes',\n",
      "  'remotes', 'renv', 'repr', 'reticulate', 'rex', 'rlang', 'rmarkdown',\n",
      "  'RODBC', 'roxygen2', 'rpart', 'RSQLite', 'rversions', 's2', 'sass',\n",
      "  'sessioninfo', 'sf', 'skimr', 'sourcetools', 'sp', 'spatial', 'spatialreg',\n",
      "  'spData', 'spdep', 'spiderbar', 'stringi', 'survival', 'tensorflow', 'terra',\n",
      "  'testthat', 'tibble', 'tidyr', 'tidyverse', 'timechange', 'timeDate',\n",
      "  'tinytex', 'tseries', 'TTR', 'units', 'urca', 'usethis', 'utf8', 'vctrs',\n",
      "  'visdat', 'vroom', 'whisker', 'wk', 'workflows', 'xfun', 'xts', 'yaml',\n",
      "  'zip', 'zoo'\n",
      "\n",
      "randomForest 4.7-1.1\n",
      "\n",
      "Type rfNews() to see new features/changes/bug fixes.\n",
      "\n"
     ]
    }
   ],
   "source": [
    "if (!require(\"BiocManager\", quietly = TRUE))\n",
    "    install.packages(\"BiocManager\")\n",
    "BiocManager::install(version = \"3.14\")\n",
    "BiocManager::install(\"randomForest\")\n",
    "library (randomForest)"
   ]
  },
  {
   "cell_type": "code",
   "execution_count": 2,
   "id": "fde5d92b",
   "metadata": {},
   "outputs": [
    {
     "name": "stderr",
     "output_type": "stream",
     "text": [
      "Updating HTML index of packages in '.Library'\n",
      "\n",
      "Making 'packages.html' ...\n",
      " done\n",
      "\n"
     ]
    }
   ],
   "source": [
    "install.packages('e1071', dependencies=TRUE)\n",
    "library('e1071')"
   ]
  },
  {
   "cell_type": "code",
   "execution_count": 3,
   "id": "5e1312ad-ea6d-4bfd-a25e-09064c63bb84",
   "metadata": {},
   "outputs": [],
   "source": [
    "set.seed(23)"
   ]
  },
  {
   "cell_type": "code",
   "execution_count": 4,
   "id": "18b73366",
   "metadata": {},
   "outputs": [
    {
     "data": {
      "text/html": [
       "<style>\n",
       ".list-inline {list-style: none; margin:0; padding: 0}\n",
       ".list-inline>li {display: inline-block}\n",
       ".list-inline>li:not(:last-child)::after {content: \"\\00b7\"; padding: 0 .5ex}\n",
       "</style>\n",
       "<ol class=list-inline><li>'genesig'</li><li>'test_dataset'</li><li>'train_dataset'</li></ol>\n"
      ],
      "text/latex": [
       "\\begin{enumerate*}\n",
       "\\item 'genesig'\n",
       "\\item 'test\\_dataset'\n",
       "\\item 'train\\_dataset'\n",
       "\\end{enumerate*}\n"
      ],
      "text/markdown": [
       "1. 'genesig'\n",
       "2. 'test_dataset'\n",
       "3. 'train_dataset'\n",
       "\n",
       "\n"
      ],
      "text/plain": [
       "[1] \"genesig\"       \"test_dataset\"  \"train_dataset\""
      ]
     },
     "metadata": {},
     "output_type": "display_data"
    }
   ],
   "source": [
    "# load train, test, and gene signature data into notebook\n",
    "load(\"data.RData\")\n",
    "load(\"gene.RData\")\n",
    "ls()"
   ]
  },
  {
   "cell_type": "code",
   "execution_count": 5,
   "id": "d61f332a",
   "metadata": {},
   "outputs": [
    {
     "data": {
      "text/html": [
       "<table class=\"dataframe\">\n",
       "<caption>A data.frame: 5 × 5</caption>\n",
       "<thead>\n",
       "\t<tr><th></th><th scope=col>PAX8</th><th scope=col>CCL5</th><th scope=col>MMP14</th><th scope=col>DTX2P1-UPK3BP1-PMS2P11</th><th scope=col>BAD</th></tr>\n",
       "\t<tr><th></th><th scope=col>&lt;dbl&gt;</th><th scope=col>&lt;dbl&gt;</th><th scope=col>&lt;dbl&gt;</th><th scope=col>&lt;dbl&gt;</th><th scope=col>&lt;dbl&gt;</th></tr>\n",
       "</thead>\n",
       "<tbody>\n",
       "\t<tr><th scope=row>GSM1030962_10030.CEL</th><td>8.27154</td><td>5.02307</td><td>7.06640</td><td>8.24990</td><td>5.75432</td></tr>\n",
       "\t<tr><th scope=row>GSM1030963_10110.CEL</th><td>8.49112</td><td>3.95575</td><td>6.41582</td><td>8.42649</td><td>6.77953</td></tr>\n",
       "\t<tr><th scope=row>GSM1030964_10111.CEL</th><td>8.34082</td><td>4.68666</td><td>6.14716</td><td>8.09809</td><td>6.35168</td></tr>\n",
       "\t<tr><th scope=row>GSM1030966_1032.CEL</th><td>7.75355</td><td>4.97396</td><td>6.35464</td><td>8.00680</td><td>6.79648</td></tr>\n",
       "\t<tr><th scope=row>GSM1030969_1446.CEL</th><td>8.40749</td><td>4.55103</td><td>6.63393</td><td>8.56563</td><td>6.34759</td></tr>\n",
       "</tbody>\n",
       "</table>\n"
      ],
      "text/latex": [
       "A data.frame: 5 × 5\n",
       "\\begin{tabular}{r|lllll}\n",
       "  & PAX8 & CCL5 & MMP14 & DTX2P1-UPK3BP1-PMS2P11 & BAD\\\\\n",
       "  & <dbl> & <dbl> & <dbl> & <dbl> & <dbl>\\\\\n",
       "\\hline\n",
       "\tGSM1030962\\_10030.CEL & 8.27154 & 5.02307 & 7.06640 & 8.24990 & 5.75432\\\\\n",
       "\tGSM1030963\\_10110.CEL & 8.49112 & 3.95575 & 6.41582 & 8.42649 & 6.77953\\\\\n",
       "\tGSM1030964\\_10111.CEL & 8.34082 & 4.68666 & 6.14716 & 8.09809 & 6.35168\\\\\n",
       "\tGSM1030966\\_1032.CEL & 7.75355 & 4.97396 & 6.35464 & 8.00680 & 6.79648\\\\\n",
       "\tGSM1030969\\_1446.CEL & 8.40749 & 4.55103 & 6.63393 & 8.56563 & 6.34759\\\\\n",
       "\\end{tabular}\n"
      ],
      "text/markdown": [
       "\n",
       "A data.frame: 5 × 5\n",
       "\n",
       "| <!--/--> | PAX8 &lt;dbl&gt; | CCL5 &lt;dbl&gt; | MMP14 &lt;dbl&gt; | DTX2P1-UPK3BP1-PMS2P11 &lt;dbl&gt; | BAD &lt;dbl&gt; |\n",
       "|---|---|---|---|---|---|\n",
       "| GSM1030962_10030.CEL | 8.27154 | 5.02307 | 7.06640 | 8.24990 | 5.75432 |\n",
       "| GSM1030963_10110.CEL | 8.49112 | 3.95575 | 6.41582 | 8.42649 | 6.77953 |\n",
       "| GSM1030964_10111.CEL | 8.34082 | 4.68666 | 6.14716 | 8.09809 | 6.35168 |\n",
       "| GSM1030966_1032.CEL | 7.75355 | 4.97396 | 6.35464 | 8.00680 | 6.79648 |\n",
       "| GSM1030969_1446.CEL | 8.40749 | 4.55103 | 6.63393 | 8.56563 | 6.34759 |\n",
       "\n"
      ],
      "text/plain": [
       "                     PAX8    CCL5    MMP14   DTX2P1-UPK3BP1-PMS2P11 BAD    \n",
       "GSM1030962_10030.CEL 8.27154 5.02307 7.06640 8.24990                5.75432\n",
       "GSM1030963_10110.CEL 8.49112 3.95575 6.41582 8.42649                6.77953\n",
       "GSM1030964_10111.CEL 8.34082 4.68666 6.14716 8.09809                6.35168\n",
       "GSM1030966_1032.CEL  7.75355 4.97396 6.35464 8.00680                6.79648\n",
       "GSM1030969_1446.CEL  8.40749 4.55103 6.63393 8.56563                6.34759"
      ]
     },
     "metadata": {},
     "output_type": "display_data"
    }
   ],
   "source": [
    "train_dataset[1:5, 1:5]"
   ]
  },
  {
   "cell_type": "code",
   "execution_count": 6,
   "id": "432bbdb6",
   "metadata": {},
   "outputs": [
    {
     "data": {
      "text/html": [
       "<table class=\"dataframe\">\n",
       "<caption>A data.frame: 5 × 5</caption>\n",
       "<thead>\n",
       "\t<tr><th></th><th scope=col>PAX8</th><th scope=col>CCL5</th><th scope=col>MMP14</th><th scope=col>DTX2P1-UPK3BP1-PMS2P11</th><th scope=col>BAD</th></tr>\n",
       "\t<tr><th></th><th scope=col>&lt;dbl&gt;</th><th scope=col>&lt;dbl&gt;</th><th scope=col>&lt;dbl&gt;</th><th scope=col>&lt;dbl&gt;</th><th scope=col>&lt;dbl&gt;</th></tr>\n",
       "</thead>\n",
       "<tbody>\n",
       "\t<tr><th scope=row>GSM1030965_10138.CEL</th><td>8.24190</td><td>5.78429</td><td>6.65615</td><td>8.15517</td><td>4.97367</td></tr>\n",
       "\t<tr><th scope=row>GSM1030967_1113.CEL</th><td>7.95457</td><td>5.75343</td><td>6.89049</td><td>7.95516</td><td>5.49744</td></tr>\n",
       "\t<tr><th scope=row>GSM1030968_1132.CEL</th><td>7.99231</td><td>4.21497</td><td>6.28378</td><td>8.13866</td><td>7.27109</td></tr>\n",
       "\t<tr><th scope=row>GSM1030979_2120_opnieuw.CEL</th><td>8.08617</td><td>6.31566</td><td>7.07061</td><td>8.51588</td><td>6.85328</td></tr>\n",
       "\t<tr><th scope=row>GSM1030982_2252.CEL</th><td>7.93179</td><td>5.32106</td><td>6.42760</td><td>8.52095</td><td>6.37300</td></tr>\n",
       "</tbody>\n",
       "</table>\n"
      ],
      "text/latex": [
       "A data.frame: 5 × 5\n",
       "\\begin{tabular}{r|lllll}\n",
       "  & PAX8 & CCL5 & MMP14 & DTX2P1-UPK3BP1-PMS2P11 & BAD\\\\\n",
       "  & <dbl> & <dbl> & <dbl> & <dbl> & <dbl>\\\\\n",
       "\\hline\n",
       "\tGSM1030965\\_10138.CEL & 8.24190 & 5.78429 & 6.65615 & 8.15517 & 4.97367\\\\\n",
       "\tGSM1030967\\_1113.CEL & 7.95457 & 5.75343 & 6.89049 & 7.95516 & 5.49744\\\\\n",
       "\tGSM1030968\\_1132.CEL & 7.99231 & 4.21497 & 6.28378 & 8.13866 & 7.27109\\\\\n",
       "\tGSM1030979\\_2120\\_opnieuw.CEL & 8.08617 & 6.31566 & 7.07061 & 8.51588 & 6.85328\\\\\n",
       "\tGSM1030982\\_2252.CEL & 7.93179 & 5.32106 & 6.42760 & 8.52095 & 6.37300\\\\\n",
       "\\end{tabular}\n"
      ],
      "text/markdown": [
       "\n",
       "A data.frame: 5 × 5\n",
       "\n",
       "| <!--/--> | PAX8 &lt;dbl&gt; | CCL5 &lt;dbl&gt; | MMP14 &lt;dbl&gt; | DTX2P1-UPK3BP1-PMS2P11 &lt;dbl&gt; | BAD &lt;dbl&gt; |\n",
       "|---|---|---|---|---|---|\n",
       "| GSM1030965_10138.CEL | 8.24190 | 5.78429 | 6.65615 | 8.15517 | 4.97367 |\n",
       "| GSM1030967_1113.CEL | 7.95457 | 5.75343 | 6.89049 | 7.95516 | 5.49744 |\n",
       "| GSM1030968_1132.CEL | 7.99231 | 4.21497 | 6.28378 | 8.13866 | 7.27109 |\n",
       "| GSM1030979_2120_opnieuw.CEL | 8.08617 | 6.31566 | 7.07061 | 8.51588 | 6.85328 |\n",
       "| GSM1030982_2252.CEL | 7.93179 | 5.32106 | 6.42760 | 8.52095 | 6.37300 |\n",
       "\n"
      ],
      "text/plain": [
       "                            PAX8    CCL5    MMP14   DTX2P1-UPK3BP1-PMS2P11\n",
       "GSM1030965_10138.CEL        8.24190 5.78429 6.65615 8.15517               \n",
       "GSM1030967_1113.CEL         7.95457 5.75343 6.89049 7.95516               \n",
       "GSM1030968_1132.CEL         7.99231 4.21497 6.28378 8.13866               \n",
       "GSM1030979_2120_opnieuw.CEL 8.08617 6.31566 7.07061 8.51588               \n",
       "GSM1030982_2252.CEL         7.93179 5.32106 6.42760 8.52095               \n",
       "                            BAD    \n",
       "GSM1030965_10138.CEL        4.97367\n",
       "GSM1030967_1113.CEL         5.49744\n",
       "GSM1030968_1132.CEL         7.27109\n",
       "GSM1030979_2120_opnieuw.CEL 6.85328\n",
       "GSM1030982_2252.CEL         6.37300"
      ]
     },
     "metadata": {},
     "output_type": "display_data"
    }
   ],
   "source": [
    "test_dataset[1:5, 1:5]"
   ]
  },
  {
   "cell_type": "code",
   "execution_count": 7,
   "id": "de9195d2",
   "metadata": {},
   "outputs": [
    {
     "data": {
      "text/html": [
       "<style>\n",
       ".list-inline {list-style: none; margin:0; padding: 0}\n",
       ".list-inline>li {display: inline-block}\n",
       ".list-inline>li:not(:last-child)::after {content: \"\\00b7\"; padding: 0 .5ex}\n",
       "</style>\n",
       "<ol class=list-inline><li>283</li><li>407</li><li>619</li><li>680</li><li>1738</li><li>1780</li><li>1885</li><li>2025</li><li>2117</li><li>2303</li><li>2304</li><li>2374</li><li>2651</li><li>2656</li><li>2855</li><li>2995</li><li>3034</li><li>3275</li><li>3325</li><li>3524</li><li>3541</li><li>3666</li><li>3733</li><li>3764</li><li>3844</li><li>3893</li><li>4292</li><li>4806</li><li>5047</li><li>5268</li><li>5278</li><li>5482</li><li>5604</li><li>5777</li><li>5835</li><li>6268</li><li>7159</li><li>7458</li><li>7652</li><li>8075</li><li>8129</li><li>8457</li><li>8493</li><li>8602</li><li>8737</li><li>8827</li><li>8887</li><li>9338</li><li>9789</li><li>9794</li><li>9877</li><li>10136</li><li>10443</li><li>10818</li><li>11364</li><li>11460</li><li>11941</li><li>11998</li><li>12146</li></ol>\n"
      ],
      "text/latex": [
       "\\begin{enumerate*}\n",
       "\\item 283\n",
       "\\item 407\n",
       "\\item 619\n",
       "\\item 680\n",
       "\\item 1738\n",
       "\\item 1780\n",
       "\\item 1885\n",
       "\\item 2025\n",
       "\\item 2117\n",
       "\\item 2303\n",
       "\\item 2304\n",
       "\\item 2374\n",
       "\\item 2651\n",
       "\\item 2656\n",
       "\\item 2855\n",
       "\\item 2995\n",
       "\\item 3034\n",
       "\\item 3275\n",
       "\\item 3325\n",
       "\\item 3524\n",
       "\\item 3541\n",
       "\\item 3666\n",
       "\\item 3733\n",
       "\\item 3764\n",
       "\\item 3844\n",
       "\\item 3893\n",
       "\\item 4292\n",
       "\\item 4806\n",
       "\\item 5047\n",
       "\\item 5268\n",
       "\\item 5278\n",
       "\\item 5482\n",
       "\\item 5604\n",
       "\\item 5777\n",
       "\\item 5835\n",
       "\\item 6268\n",
       "\\item 7159\n",
       "\\item 7458\n",
       "\\item 7652\n",
       "\\item 8075\n",
       "\\item 8129\n",
       "\\item 8457\n",
       "\\item 8493\n",
       "\\item 8602\n",
       "\\item 8737\n",
       "\\item 8827\n",
       "\\item 8887\n",
       "\\item 9338\n",
       "\\item 9789\n",
       "\\item 9794\n",
       "\\item 9877\n",
       "\\item 10136\n",
       "\\item 10443\n",
       "\\item 10818\n",
       "\\item 11364\n",
       "\\item 11460\n",
       "\\item 11941\n",
       "\\item 11998\n",
       "\\item 12146\n",
       "\\end{enumerate*}\n"
      ],
      "text/markdown": [
       "1. 283\n",
       "2. 407\n",
       "3. 619\n",
       "4. 680\n",
       "5. 1738\n",
       "6. 1780\n",
       "7. 1885\n",
       "8. 2025\n",
       "9. 2117\n",
       "10. 2303\n",
       "11. 2304\n",
       "12. 2374\n",
       "13. 2651\n",
       "14. 2656\n",
       "15. 2855\n",
       "16. 2995\n",
       "17. 3034\n",
       "18. 3275\n",
       "19. 3325\n",
       "20. 3524\n",
       "21. 3541\n",
       "22. 3666\n",
       "23. 3733\n",
       "24. 3764\n",
       "25. 3844\n",
       "26. 3893\n",
       "27. 4292\n",
       "28. 4806\n",
       "29. 5047\n",
       "30. 5268\n",
       "31. 5278\n",
       "32. 5482\n",
       "33. 5604\n",
       "34. 5777\n",
       "35. 5835\n",
       "36. 6268\n",
       "37. 7159\n",
       "38. 7458\n",
       "39. 7652\n",
       "40. 8075\n",
       "41. 8129\n",
       "42. 8457\n",
       "43. 8493\n",
       "44. 8602\n",
       "45. 8737\n",
       "46. 8827\n",
       "47. 8887\n",
       "48. 9338\n",
       "49. 9789\n",
       "50. 9794\n",
       "51. 9877\n",
       "52. 10136\n",
       "53. 10443\n",
       "54. 10818\n",
       "55. 11364\n",
       "56. 11460\n",
       "57. 11941\n",
       "58. 11998\n",
       "59. 12146\n",
       "\n",
       "\n"
      ],
      "text/plain": [
       " [1]   283   407   619   680  1738  1780  1885  2025  2117  2303  2304  2374\n",
       "[13]  2651  2656  2855  2995  3034  3275  3325  3524  3541  3666  3733  3764\n",
       "[25]  3844  3893  4292  4806  5047  5268  5278  5482  5604  5777  5835  6268\n",
       "[37]  7159  7458  7652  8075  8129  8457  8493  8602  8737  8827  8887  9338\n",
       "[49]  9789  9794  9877 10136 10443 10818 11364 11460 11941 11998 12146"
      ]
     },
     "metadata": {},
     "output_type": "display_data"
    }
   ],
   "source": [
    "genesig"
   ]
  },
  {
   "cell_type": "markdown",
   "id": "40176e0a-8f96-4e9d-8081-16fef482f9ac",
   "metadata": {
    "tags": []
   },
   "source": [
    "##### We train linear SVM model and gives the confusion matrix and accuracy:"
   ]
  },
  {
   "cell_type": "code",
   "execution_count": 8,
   "id": "82be6abc",
   "metadata": {},
   "outputs": [],
   "source": [
    "# train data with linear svm\n",
    "train <- train_dataset[, genesig]\n",
    "train$label <- train_dataset$label\n",
    "classifier.svm <- svm(label ~ ., data = train, type = 'C-classification', kernel = 'linear')"
   ]
  },
  {
   "cell_type": "code",
   "execution_count": 9,
   "id": "3f68c041",
   "metadata": {},
   "outputs": [
    {
     "data": {
      "text/plain": [
       "        \n",
       "pred.svm   0   1\n",
       "       0 508   5\n",
       "       1   6 546"
      ]
     },
     "metadata": {},
     "output_type": "display_data"
    }
   ],
   "source": [
    "# predict using test data\n",
    "pred.svm <- predict(classifier.svm, test_dataset[,1:length(test_dataset)-1], decision.values = TRUE)\n",
    "conf_matrix <- table(pred.svm, test_dataset$label)\n",
    "conf_matrix"
   ]
  },
  {
   "cell_type": "code",
   "execution_count": 10,
   "id": "2c7aabcc",
   "metadata": {},
   "outputs": [
    {
     "data": {
      "text/html": [
       "0.989671361502347"
      ],
      "text/latex": [
       "0.989671361502347"
      ],
      "text/markdown": [
       "0.989671361502347"
      ],
      "text/plain": [
       "[1] 0.9896714"
      ]
     },
     "metadata": {},
     "output_type": "display_data"
    }
   ],
   "source": [
    "accuracy <- (conf_matrix[1] + conf_matrix[4]) / sum(conf_matrix)\n",
    "accuracy"
   ]
  },
  {
   "cell_type": "markdown",
   "id": "a80795aa-a301-4743-816d-ddc6b271389b",
   "metadata": {},
   "source": [
    "##### We train logistic regression model and gives the confusion matrix and accuracy:"
   ]
  },
  {
   "cell_type": "code",
   "execution_count": 11,
   "id": "31605b85-78a4-4d17-adea-bec8301d4914",
   "metadata": {},
   "outputs": [
    {
     "name": "stderr",
     "output_type": "stream",
     "text": [
      "Warning message:\n",
      "“glm.fit: fitted probabilities numerically 0 or 1 occurred”\n"
     ]
    }
   ],
   "source": [
    "# train data with log reg\n",
    "classifier.logreg <- glm(label ~ ., data = train,family = binomial)"
   ]
  },
  {
   "cell_type": "code",
   "execution_count": 12,
   "id": "6393054c-6d01-4975-84e3-fc1e42d795d0",
   "metadata": {},
   "outputs": [
    {
     "data": {
      "text/plain": [
       "           \n",
       "pred.logreg   0   1\n",
       "          0 507   6\n",
       "          1   7 545"
      ]
     },
     "metadata": {},
     "output_type": "display_data"
    }
   ],
   "source": [
    "# predict using test data\n",
    "pred.logreg <- predict(classifier.logreg, test_dataset[,1:length(test_dataset)-1], type = \"response\")\n",
    "pred.logreg <- round(pred.logreg)\n",
    "conf_matrix <- table(pred.logreg, test_dataset$label)\n",
    "conf_matrix"
   ]
  },
  {
   "cell_type": "code",
   "execution_count": 13,
   "id": "4bd1d6df-59c4-4284-b39d-f29a89f10f14",
   "metadata": {},
   "outputs": [
    {
     "data": {
      "text/html": [
       "0.987793427230047"
      ],
      "text/latex": [
       "0.987793427230047"
      ],
      "text/markdown": [
       "0.987793427230047"
      ],
      "text/plain": [
       "[1] 0.9877934"
      ]
     },
     "metadata": {},
     "output_type": "display_data"
    }
   ],
   "source": [
    "accuracy <- (conf_matrix[1] + conf_matrix[4]) / sum(conf_matrix)\n",
    "accuracy"
   ]
  },
  {
   "cell_type": "markdown",
   "id": "1a0a68e7-3e1d-4729-aeb0-44aae91c9e42",
   "metadata": {},
   "source": [
    "##### We train random forest model and gives the confusion matrix and accuracy:"
   ]
  },
  {
   "cell_type": "code",
   "execution_count": 14,
   "id": "de31d353-2607-479a-a4e7-067e6435bc81",
   "metadata": {},
   "outputs": [],
   "source": [
    "# randomforest classifier\n",
    "classifier.tree <- randomForest(as.factor(train$label) ~ ., data=train)"
   ]
  },
  {
   "cell_type": "code",
   "execution_count": 15,
   "id": "02620e69-8690-4cbf-8f04-729a061d5c33",
   "metadata": {},
   "outputs": [
    {
     "data": {
      "text/plain": [
       "         \n",
       "pred.tree   0   1\n",
       "        0 511  10\n",
       "        1   3 541"
      ]
     },
     "metadata": {},
     "output_type": "display_data"
    }
   ],
   "source": [
    "pred.tree <- predict (classifier.tree, test_dataset[,1:length(test_dataset)-1], decision.values = TRUE)\n",
    "conf_matrix <- table(pred.tree, test_dataset$label)\n",
    "conf_matrix"
   ]
  },
  {
   "cell_type": "code",
   "execution_count": 16,
   "id": "55d54f44-2304-46a4-9ac2-40ae9aaa6416",
   "metadata": {},
   "outputs": [
    {
     "data": {
      "text/html": [
       "0.987793427230047"
      ],
      "text/latex": [
       "0.987793427230047"
      ],
      "text/markdown": [
       "0.987793427230047"
      ],
      "text/plain": [
       "[1] 0.9877934"
      ]
     },
     "metadata": {},
     "output_type": "display_data"
    }
   ],
   "source": [
    "accuracy <- (conf_matrix[1] + conf_matrix[4]) / sum(conf_matrix)\n",
    "accuracy"
   ]
  },
  {
   "cell_type": "markdown",
   "id": "590c55bb-f05f-4811-ae6a-114a4bae81f0",
   "metadata": {},
   "source": [
    "##### Build ensemble with majority voting:"
   ]
  },
  {
   "cell_type": "code",
   "execution_count": 17,
   "id": "454b2c45-01e2-4b3c-a77f-6833e05903a8",
   "metadata": {},
   "outputs": [],
   "source": [
    "#The majority vote\n",
    "# reference https://www.analyticsvidhya.com/blog/2017/02/introduction-to-ensembling-along-with-implementation-in-r/\n",
    "testSet <- as.factor(ifelse(pred.tree == '1' & pred.logreg == '1', '1', ifelse(pred.tree\n",
    "                                                                        == '1' & pred.svm == '1','1', ifelse(pred.logreg == '1' & pred.svm == '1', '1', '0'))))"
   ]
  },
  {
   "cell_type": "code",
   "execution_count": 18,
   "id": "c5dda748-7870-4774-9eb6-f5d04b2420a0",
   "metadata": {},
   "outputs": [
    {
     "data": {
      "text/plain": [
       "       \n",
       "testSet   0   1\n",
       "      0 509   6\n",
       "      1   5 545"
      ]
     },
     "metadata": {},
     "output_type": "display_data"
    }
   ],
   "source": [
    "conf_matrix <- table(testSet, test_dataset$label)\n",
    "conf_matrix"
   ]
  },
  {
   "cell_type": "code",
   "execution_count": 19,
   "id": "61f9763c-00de-4e9a-b926-f3756d1861af",
   "metadata": {},
   "outputs": [
    {
     "data": {
      "text/html": [
       "0.989671361502347"
      ],
      "text/latex": [
       "0.989671361502347"
      ],
      "text/markdown": [
       "0.989671361502347"
      ],
      "text/plain": [
       "[1] 0.9896714"
      ]
     },
     "metadata": {},
     "output_type": "display_data"
    }
   ],
   "source": [
    "accuracy <- (conf_matrix[1] + conf_matrix[4]) / sum(conf_matrix)\n",
    "accuracy"
   ]
  },
  {
   "cell_type": "markdown",
   "id": "f2622cba-b1b2-4829-8c37-3b61ad3a8db9",
   "metadata": {},
   "source": [
    "### Alternate gene signature comparison from other team (Genome Seeker)"
   ]
  },
  {
   "cell_type": "markdown",
   "id": "184482b0-91cc-43ed-9ec6-45df04d528ac",
   "metadata": {},
   "source": [
    "##### We train all the models again with new gene signatures:"
   ]
  },
  {
   "cell_type": "code",
   "execution_count": 20,
   "id": "1b6a837d-6a36-4cea-85b6-7a59f7ca156b",
   "metadata": {},
   "outputs": [
    {
     "data": {
      "text/html": [
       "<style>\n",
       ".list-inline {list-style: none; margin:0; padding: 0}\n",
       ".list-inline>li {display: inline-block}\n",
       ".list-inline>li:not(:last-child)::after {content: \"\\00b7\"; padding: 0 .5ex}\n",
       "</style>\n",
       "<ol class=list-inline><li>'IGHA2'</li><li>'SOCS2'</li><li>'IGKC'</li><li>'KIT'</li><li>'PRAME'</li><li>'IGLJ2'</li><li>'PPBP'</li><li>'ALDH1A1'</li><li>'PDGFC'</li><li>'CLC'</li><li>'IGF2BP2'</li><li>'EPS8'</li><li>'HOXB6'</li><li>'PF4'</li><li>'G0S2'</li><li>'HOXA9'</li><li>'SECISBP2L'</li><li>'DEFA1'</li><li>'HDC'</li><li>'PTH2R'</li><li>'FGF13'</li><li>'CST3'</li><li>'RORA'</li><li>'CXCL3'</li><li>'DPY19L1P1'</li><li>'PAX5'</li><li>'ADAM28'</li><li>'DNM1'</li><li>'FPR1'</li><li>'NR4A3'</li><li>'TFPI'</li><li>'TOP1'</li><li>'LEF1'</li><li>'TST'</li><li>'SLCO3A1'</li><li>'CTSW'</li><li>'PRSS21'</li><li>'TIMP1'</li><li>'CYP4F3'</li><li>'TMEM243'</li><li>'ALOX12'</li><li>'ABL1'</li><li>'PROS1'</li><li>'LRMP'</li><li>'DISC1'</li><li>'MYH10'</li><li>'RNF216'</li><li>'FAN1'</li><li>'HOMER3'</li></ol>\n"
      ],
      "text/latex": [
       "\\begin{enumerate*}\n",
       "\\item 'IGHA2'\n",
       "\\item 'SOCS2'\n",
       "\\item 'IGKC'\n",
       "\\item 'KIT'\n",
       "\\item 'PRAME'\n",
       "\\item 'IGLJ2'\n",
       "\\item 'PPBP'\n",
       "\\item 'ALDH1A1'\n",
       "\\item 'PDGFC'\n",
       "\\item 'CLC'\n",
       "\\item 'IGF2BP2'\n",
       "\\item 'EPS8'\n",
       "\\item 'HOXB6'\n",
       "\\item 'PF4'\n",
       "\\item 'G0S2'\n",
       "\\item 'HOXA9'\n",
       "\\item 'SECISBP2L'\n",
       "\\item 'DEFA1'\n",
       "\\item 'HDC'\n",
       "\\item 'PTH2R'\n",
       "\\item 'FGF13'\n",
       "\\item 'CST3'\n",
       "\\item 'RORA'\n",
       "\\item 'CXCL3'\n",
       "\\item 'DPY19L1P1'\n",
       "\\item 'PAX5'\n",
       "\\item 'ADAM28'\n",
       "\\item 'DNM1'\n",
       "\\item 'FPR1'\n",
       "\\item 'NR4A3'\n",
       "\\item 'TFPI'\n",
       "\\item 'TOP1'\n",
       "\\item 'LEF1'\n",
       "\\item 'TST'\n",
       "\\item 'SLCO3A1'\n",
       "\\item 'CTSW'\n",
       "\\item 'PRSS21'\n",
       "\\item 'TIMP1'\n",
       "\\item 'CYP4F3'\n",
       "\\item 'TMEM243'\n",
       "\\item 'ALOX12'\n",
       "\\item 'ABL1'\n",
       "\\item 'PROS1'\n",
       "\\item 'LRMP'\n",
       "\\item 'DISC1'\n",
       "\\item 'MYH10'\n",
       "\\item 'RNF216'\n",
       "\\item 'FAN1'\n",
       "\\item 'HOMER3'\n",
       "\\end{enumerate*}\n"
      ],
      "text/markdown": [
       "1. 'IGHA2'\n",
       "2. 'SOCS2'\n",
       "3. 'IGKC'\n",
       "4. 'KIT'\n",
       "5. 'PRAME'\n",
       "6. 'IGLJ2'\n",
       "7. 'PPBP'\n",
       "8. 'ALDH1A1'\n",
       "9. 'PDGFC'\n",
       "10. 'CLC'\n",
       "11. 'IGF2BP2'\n",
       "12. 'EPS8'\n",
       "13. 'HOXB6'\n",
       "14. 'PF4'\n",
       "15. 'G0S2'\n",
       "16. 'HOXA9'\n",
       "17. 'SECISBP2L'\n",
       "18. 'DEFA1'\n",
       "19. 'HDC'\n",
       "20. 'PTH2R'\n",
       "21. 'FGF13'\n",
       "22. 'CST3'\n",
       "23. 'RORA'\n",
       "24. 'CXCL3'\n",
       "25. 'DPY19L1P1'\n",
       "26. 'PAX5'\n",
       "27. 'ADAM28'\n",
       "28. 'DNM1'\n",
       "29. 'FPR1'\n",
       "30. 'NR4A3'\n",
       "31. 'TFPI'\n",
       "32. 'TOP1'\n",
       "33. 'LEF1'\n",
       "34. 'TST'\n",
       "35. 'SLCO3A1'\n",
       "36. 'CTSW'\n",
       "37. 'PRSS21'\n",
       "38. 'TIMP1'\n",
       "39. 'CYP4F3'\n",
       "40. 'TMEM243'\n",
       "41. 'ALOX12'\n",
       "42. 'ABL1'\n",
       "43. 'PROS1'\n",
       "44. 'LRMP'\n",
       "45. 'DISC1'\n",
       "46. 'MYH10'\n",
       "47. 'RNF216'\n",
       "48. 'FAN1'\n",
       "49. 'HOMER3'\n",
       "\n",
       "\n"
      ],
      "text/plain": [
       " [1] \"IGHA2\"     \"SOCS2\"     \"IGKC\"      \"KIT\"       \"PRAME\"     \"IGLJ2\"    \n",
       " [7] \"PPBP\"      \"ALDH1A1\"   \"PDGFC\"     \"CLC\"       \"IGF2BP2\"   \"EPS8\"     \n",
       "[13] \"HOXB6\"     \"PF4\"       \"G0S2\"      \"HOXA9\"     \"SECISBP2L\" \"DEFA1\"    \n",
       "[19] \"HDC\"       \"PTH2R\"     \"FGF13\"     \"CST3\"      \"RORA\"      \"CXCL3\"    \n",
       "[25] \"DPY19L1P1\" \"PAX5\"      \"ADAM28\"    \"DNM1\"      \"FPR1\"      \"NR4A3\"    \n",
       "[31] \"TFPI\"      \"TOP1\"      \"LEF1\"      \"TST\"       \"SLCO3A1\"   \"CTSW\"     \n",
       "[37] \"PRSS21\"    \"TIMP1\"     \"CYP4F3\"    \"TMEM243\"   \"ALOX12\"    \"ABL1\"     \n",
       "[43] \"PROS1\"     \"LRMP\"      \"DISC1\"     \"MYH10\"     \"RNF216\"    \"FAN1\"     \n",
       "[49] \"HOMER3\"   "
      ]
     },
     "metadata": {},
     "output_type": "display_data"
    }
   ],
   "source": [
    "alt.genesig <- colnames(read.table(\"alternate_genesig.txt\", sep=\",\", header=T))\n",
    "alt.genesig"
   ]
  },
  {
   "cell_type": "code",
   "execution_count": 21,
   "id": "fafea116-1952-40b4-aa7d-8540bf24875e",
   "metadata": {},
   "outputs": [
    {
     "data": {
      "text/html": [
       "<style>\n",
       ".list-inline {list-style: none; margin:0; padding: 0}\n",
       ".list-inline>li {display: inline-block}\n",
       ".list-inline>li:not(:last-child)::after {content: \"\\00b7\"; padding: 0 .5ex}\n",
       "</style>\n",
       "<ol class=list-inline><li>8827</li><li>1738</li><li>12198</li><li>2855</li><li>2212</li></ol>\n"
      ],
      "text/latex": [
       "\\begin{enumerate*}\n",
       "\\item 8827\n",
       "\\item 1738\n",
       "\\item 12198\n",
       "\\item 2855\n",
       "\\item 2212\n",
       "\\end{enumerate*}\n"
      ],
      "text/markdown": [
       "1. 8827\n",
       "2. 1738\n",
       "3. 12198\n",
       "4. 2855\n",
       "5. 2212\n",
       "\n",
       "\n"
      ],
      "text/plain": [
       "[1]  8827  1738 12198  2855  2212"
      ]
     },
     "metadata": {},
     "output_type": "display_data"
    }
   ],
   "source": [
    "alt.genesig.ind <- c(1:49)\n",
    "for (j in 1:49){\n",
    "    alt.genesig.ind[j] <- which(colnames(train_dataset) == alt.genesig[j])\n",
    "}\n",
    "alt.genesig.ind[1:5]"
   ]
  },
  {
   "cell_type": "code",
   "execution_count": 22,
   "id": "ed22c832-5453-43e1-8f92-716db9cc6e72",
   "metadata": {},
   "outputs": [],
   "source": [
    "# Train models\n",
    "train <- train_dataset[, alt.genesig.ind]\n",
    "train$label <- train_dataset$label\n",
    "classifier.svm <- svm(label ~ ., data = train, type = 'C-classification', kernel = 'linear')\n",
    "classifier.logreg <- glm(label ~ ., data = train,family = binomial)\n",
    "classifier.tree <- randomForest(as.factor(train$label) ~ ., data=train)"
   ]
  },
  {
   "cell_type": "code",
   "execution_count": 23,
   "id": "1382a281-8888-4371-8637-bd25b808ea14",
   "metadata": {},
   "outputs": [
    {
     "data": {
      "text/plain": [
       "            \n",
       "pred.alt.svm   0   1\n",
       "           0 507  14\n",
       "           1   7 537"
      ]
     },
     "metadata": {},
     "output_type": "display_data"
    }
   ],
   "source": [
    "# SVM prediction\n",
    "pred.alt.svm <- predict(classifier.svm, test_dataset[,1:length(test_dataset)-1], decision.values = TRUE)\n",
    "conf_matrix <- table(pred.alt.svm, test_dataset$label)\n",
    "conf_matrix"
   ]
  },
  {
   "cell_type": "code",
   "execution_count": 24,
   "id": "6b3e9085-ad9a-4849-a16e-5a9a7602366b",
   "metadata": {},
   "outputs": [
    {
     "data": {
      "text/html": [
       "0.980281690140845"
      ],
      "text/latex": [
       "0.980281690140845"
      ],
      "text/markdown": [
       "0.980281690140845"
      ],
      "text/plain": [
       "[1] 0.9802817"
      ]
     },
     "metadata": {},
     "output_type": "display_data"
    }
   ],
   "source": [
    "alt.accuracy <- (conf_matrix[1] + conf_matrix[4]) / sum(conf_matrix)\n",
    "alt.accuracy"
   ]
  },
  {
   "cell_type": "code",
   "execution_count": 25,
   "id": "79b0e61b-f80b-462b-84fd-02a7f8758d89",
   "metadata": {},
   "outputs": [
    {
     "data": {
      "text/plain": [
       "               \n",
       "pred.alt.logreg   0   1\n",
       "              0 508  15\n",
       "              1   6 536"
      ]
     },
     "metadata": {},
     "output_type": "display_data"
    }
   ],
   "source": [
    "# Logistic regression prediction\n",
    "pred.alt.logreg <- predict(classifier.logreg, test_dataset[,1:length(test_dataset)-1], type = \"response\")\n",
    "pred.alt.logreg <- round(pred.alt.logreg)\n",
    "conf_matrix <- table(pred.alt.logreg, test_dataset$label)\n",
    "conf_matrix"
   ]
  },
  {
   "cell_type": "code",
   "execution_count": 26,
   "id": "b2a05974-cbc7-4e43-abdd-89a03d0617c7",
   "metadata": {},
   "outputs": [
    {
     "data": {
      "text/html": [
       "0.980281690140845"
      ],
      "text/latex": [
       "0.980281690140845"
      ],
      "text/markdown": [
       "0.980281690140845"
      ],
      "text/plain": [
       "[1] 0.9802817"
      ]
     },
     "metadata": {},
     "output_type": "display_data"
    }
   ],
   "source": [
    "alt.accuracy <- (conf_matrix[1] + conf_matrix[4]) / sum(conf_matrix)\n",
    "alt.accuracy"
   ]
  },
  {
   "cell_type": "code",
   "execution_count": 27,
   "id": "6a361beb-45ee-4c3f-ab84-d116ee5b5322",
   "metadata": {},
   "outputs": [
    {
     "data": {
      "text/plain": [
       "             \n",
       "pred.alt.tree   0   1\n",
       "            0 508  11\n",
       "            1   6 540"
      ]
     },
     "metadata": {},
     "output_type": "display_data"
    }
   ],
   "source": [
    "# Random forest prediction\n",
    "pred.alt.tree <- predict (classifier.tree, test_dataset[,1:length(test_dataset)-1], decision.values = TRUE)\n",
    "conf_matrix <- table(pred.alt.tree, test_dataset$label)\n",
    "conf_matrix"
   ]
  },
  {
   "cell_type": "code",
   "execution_count": 28,
   "id": "838a4e99-67ed-4d69-b9be-67930ba7beda",
   "metadata": {},
   "outputs": [
    {
     "data": {
      "text/html": [
       "0.984037558685446"
      ],
      "text/latex": [
       "0.984037558685446"
      ],
      "text/markdown": [
       "0.984037558685446"
      ],
      "text/plain": [
       "[1] 0.9840376"
      ]
     },
     "metadata": {},
     "output_type": "display_data"
    }
   ],
   "source": [
    "alt.accuracy <- (conf_matrix[1] + conf_matrix[4]) / sum(conf_matrix)\n",
    "alt.accuracy"
   ]
  },
  {
   "cell_type": "markdown",
   "id": "a1936a02-571f-480b-ab42-99845f9c5565",
   "metadata": {},
   "source": [
    "##### Build ensemble with majority voting:"
   ]
  },
  {
   "cell_type": "code",
   "execution_count": 29,
   "id": "0710f273-5972-41fc-9448-823ae2756a95",
   "metadata": {},
   "outputs": [],
   "source": [
    "#The majority vote\n",
    "# reference https://www.analyticsvidhya.com/blog/2017/02/introduction-to-ensembling-along-with-implementation-in-r/\n",
    "testSet <- as.factor(ifelse(pred.alt.tree == '1' & pred.alt.logreg == '1', '1', ifelse(pred.alt.tree\n",
    "                                                                        == '1' & pred.alt.svm == '1','1', ifelse(pred.alt.logreg == '1' & pred.alt.svm == '1', '1', '0'))))"
   ]
  },
  {
   "cell_type": "code",
   "execution_count": 30,
   "id": "308ed22d-8bfb-4870-b079-def853c0609e",
   "metadata": {},
   "outputs": [
    {
     "data": {
      "text/plain": [
       "       \n",
       "testSet   0   1\n",
       "      0 507  13\n",
       "      1   7 538"
      ]
     },
     "metadata": {},
     "output_type": "display_data"
    }
   ],
   "source": [
    "conf_matrix <- table(testSet, test_dataset$label)\n",
    "conf_matrix"
   ]
  },
  {
   "cell_type": "code",
   "execution_count": 31,
   "id": "eee99ff9-35ef-4bc5-862e-0b412ca8210f",
   "metadata": {},
   "outputs": [
    {
     "data": {
      "text/html": [
       "0.981220657276995"
      ],
      "text/latex": [
       "0.981220657276995"
      ],
      "text/markdown": [
       "0.981220657276995"
      ],
      "text/plain": [
       "[1] 0.9812207"
      ]
     },
     "metadata": {},
     "output_type": "display_data"
    }
   ],
   "source": [
    "accuracy <- (conf_matrix[1] + conf_matrix[4]) / sum(conf_matrix)\n",
    "accuracy"
   ]
  },
  {
   "cell_type": "code",
   "execution_count": null,
   "id": "846fde6a-46c1-4289-981a-be40d9dd8bc1",
   "metadata": {},
   "outputs": [],
   "source": []
  }
 ],
 "metadata": {
  "kernelspec": {
   "display_name": "R",
   "language": "R",
   "name": "ir"
  },
  "language_info": {
   "codemirror_mode": "r",
   "file_extension": ".r",
   "mimetype": "text/x-r-source",
   "name": "R",
   "pygments_lexer": "r",
   "version": "4.1.1"
  }
 },
 "nbformat": 4,
 "nbformat_minor": 5
}
