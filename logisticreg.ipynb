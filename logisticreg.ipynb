{
 "cells": [
  {
   "cell_type": "code",
   "execution_count": 83,
   "metadata": {},
   "outputs": [
    {
     "name": "stdout",
     "output_type": "stream",
     "text": [
      "\n",
      "  There is a binary version available but the source version is later:\n",
      "      binary source needs_compilation\n",
      "e1071  1.7-6 1.7-13              TRUE\n",
      "\n",
      "  Binaries will be installed\n"
     ]
    },
    {
     "name": "stderr",
     "output_type": "stream",
     "text": [
      "Warning message:\n",
      "\"package 'e1071' is in use and will not be installed\"\n"
     ]
    }
   ],
   "source": [
    "install.packages('e1071', dependencies=TRUE)\n",
    "library('e1071')"
   ]
  },
  {
   "cell_type": "code",
   "execution_count": 14,
   "metadata": {},
   "outputs": [
    {
     "data": {
      "text/html": [
       "<ol class=list-inline>\n",
       "\t<li>'alt.gene.sig'</li>\n",
       "\t<li>'alt.genesig'</li>\n",
       "\t<li>'genesig'</li>\n",
       "\t<li>'test_dataset'</li>\n",
       "\t<li>'train_dataset'</li>\n",
       "</ol>\n"
      ],
      "text/latex": [
       "\\begin{enumerate*}\n",
       "\\item 'alt.gene.sig'\n",
       "\\item 'alt.genesig'\n",
       "\\item 'genesig'\n",
       "\\item 'test\\_dataset'\n",
       "\\item 'train\\_dataset'\n",
       "\\end{enumerate*}\n"
      ],
      "text/markdown": [
       "1. 'alt.gene.sig'\n",
       "2. 'alt.genesig'\n",
       "3. 'genesig'\n",
       "4. 'test_dataset'\n",
       "5. 'train_dataset'\n",
       "\n",
       "\n"
      ],
      "text/plain": [
       "[1] \"alt.gene.sig\"  \"alt.genesig\"   \"genesig\"       \"test_dataset\" \n",
       "[5] \"train_dataset\""
      ]
     },
     "metadata": {},
     "output_type": "display_data"
    }
   ],
   "source": [
    "# load train, test, and gene signature data into notebook\n",
    "load(\"data.RData\")\n",
    "load(\"gene.RData\")\n",
    "ls()"
   ]
  },
  {
   "cell_type": "code",
   "execution_count": 84,
   "metadata": {},
   "outputs": [
    {
     "data": {
      "text/html": [
       "<table>\n",
       "<thead><tr><th></th><th scope=col>PAX8</th><th scope=col>CCL5</th><th scope=col>MMP14</th><th scope=col>DTX2P1-UPK3BP1-PMS2P11</th><th scope=col>BAD</th></tr></thead>\n",
       "<tbody>\n",
       "\t<tr><th scope=row>GSM1030962_10030.CEL</th><td>8.27154</td><td>5.02307</td><td>7.06640</td><td>8.24990</td><td>5.75432</td></tr>\n",
       "\t<tr><th scope=row>GSM1030963_10110.CEL</th><td>8.49112</td><td>3.95575</td><td>6.41582</td><td>8.42649</td><td>6.77953</td></tr>\n",
       "\t<tr><th scope=row>GSM1030964_10111.CEL</th><td>8.34082</td><td>4.68666</td><td>6.14716</td><td>8.09809</td><td>6.35168</td></tr>\n",
       "\t<tr><th scope=row>GSM1030966_1032.CEL</th><td>7.75355</td><td>4.97396</td><td>6.35464</td><td>8.00680</td><td>6.79648</td></tr>\n",
       "\t<tr><th scope=row>GSM1030969_1446.CEL</th><td>8.40749</td><td>4.55103</td><td>6.63393</td><td>8.56563</td><td>6.34759</td></tr>\n",
       "</tbody>\n",
       "</table>\n"
      ],
      "text/latex": [
       "\\begin{tabular}{r|lllll}\n",
       "  & PAX8 & CCL5 & MMP14 & DTX2P1-UPK3BP1-PMS2P11 & BAD\\\\\n",
       "\\hline\n",
       "\tGSM1030962\\_10030.CEL & 8.27154 & 5.02307 & 7.06640 & 8.24990 & 5.75432\\\\\n",
       "\tGSM1030963\\_10110.CEL & 8.49112 & 3.95575 & 6.41582 & 8.42649 & 6.77953\\\\\n",
       "\tGSM1030964\\_10111.CEL & 8.34082 & 4.68666 & 6.14716 & 8.09809 & 6.35168\\\\\n",
       "\tGSM1030966\\_1032.CEL & 7.75355 & 4.97396 & 6.35464 & 8.00680 & 6.79648\\\\\n",
       "\tGSM1030969\\_1446.CEL & 8.40749 & 4.55103 & 6.63393 & 8.56563 & 6.34759\\\\\n",
       "\\end{tabular}\n"
      ],
      "text/markdown": [
       "\n",
       "| <!--/--> | PAX8 | CCL5 | MMP14 | DTX2P1-UPK3BP1-PMS2P11 | BAD |\n",
       "|---|---|---|---|---|---|\n",
       "| GSM1030962_10030.CEL | 8.27154 | 5.02307 | 7.06640 | 8.24990 | 5.75432 |\n",
       "| GSM1030963_10110.CEL | 8.49112 | 3.95575 | 6.41582 | 8.42649 | 6.77953 |\n",
       "| GSM1030964_10111.CEL | 8.34082 | 4.68666 | 6.14716 | 8.09809 | 6.35168 |\n",
       "| GSM1030966_1032.CEL | 7.75355 | 4.97396 | 6.35464 | 8.00680 | 6.79648 |\n",
       "| GSM1030969_1446.CEL | 8.40749 | 4.55103 | 6.63393 | 8.56563 | 6.34759 |\n",
       "\n"
      ],
      "text/plain": [
       "                     PAX8    CCL5    MMP14   DTX2P1-UPK3BP1-PMS2P11 BAD    \n",
       "GSM1030962_10030.CEL 8.27154 5.02307 7.06640 8.24990                5.75432\n",
       "GSM1030963_10110.CEL 8.49112 3.95575 6.41582 8.42649                6.77953\n",
       "GSM1030964_10111.CEL 8.34082 4.68666 6.14716 8.09809                6.35168\n",
       "GSM1030966_1032.CEL  7.75355 4.97396 6.35464 8.00680                6.79648\n",
       "GSM1030969_1446.CEL  8.40749 4.55103 6.63393 8.56563                6.34759"
      ]
     },
     "metadata": {},
     "output_type": "display_data"
    }
   ],
   "source": [
    "train_dataset[1:5, 1:5]"
   ]
  },
  {
   "cell_type": "code",
   "execution_count": 85,
   "metadata": {},
   "outputs": [
    {
     "data": {
      "text/html": [
       "<table>\n",
       "<thead><tr><th></th><th scope=col>PAX8</th><th scope=col>CCL5</th><th scope=col>MMP14</th><th scope=col>DTX2P1-UPK3BP1-PMS2P11</th><th scope=col>BAD</th></tr></thead>\n",
       "<tbody>\n",
       "\t<tr><th scope=row>GSM1030965_10138.CEL</th><td>8.24190</td><td>5.78429</td><td>6.65615</td><td>8.15517</td><td>4.97367</td></tr>\n",
       "\t<tr><th scope=row>GSM1030967_1113.CEL</th><td>7.95457</td><td>5.75343</td><td>6.89049</td><td>7.95516</td><td>5.49744</td></tr>\n",
       "\t<tr><th scope=row>GSM1030968_1132.CEL</th><td>7.99231</td><td>4.21497</td><td>6.28378</td><td>8.13866</td><td>7.27109</td></tr>\n",
       "\t<tr><th scope=row>GSM1030979_2120_opnieuw.CEL</th><td>8.08617</td><td>6.31566</td><td>7.07061</td><td>8.51588</td><td>6.85328</td></tr>\n",
       "\t<tr><th scope=row>GSM1030982_2252.CEL</th><td>7.93179</td><td>5.32106</td><td>6.42760</td><td>8.52095</td><td>6.37300</td></tr>\n",
       "</tbody>\n",
       "</table>\n"
      ],
      "text/latex": [
       "\\begin{tabular}{r|lllll}\n",
       "  & PAX8 & CCL5 & MMP14 & DTX2P1-UPK3BP1-PMS2P11 & BAD\\\\\n",
       "\\hline\n",
       "\tGSM1030965\\_10138.CEL & 8.24190 & 5.78429 & 6.65615 & 8.15517 & 4.97367\\\\\n",
       "\tGSM1030967\\_1113.CEL & 7.95457 & 5.75343 & 6.89049 & 7.95516 & 5.49744\\\\\n",
       "\tGSM1030968\\_1132.CEL & 7.99231 & 4.21497 & 6.28378 & 8.13866 & 7.27109\\\\\n",
       "\tGSM1030979\\_2120\\_opnieuw.CEL & 8.08617 & 6.31566 & 7.07061 & 8.51588 & 6.85328\\\\\n",
       "\tGSM1030982\\_2252.CEL & 7.93179 & 5.32106 & 6.42760 & 8.52095 & 6.37300\\\\\n",
       "\\end{tabular}\n"
      ],
      "text/markdown": [
       "\n",
       "| <!--/--> | PAX8 | CCL5 | MMP14 | DTX2P1-UPK3BP1-PMS2P11 | BAD |\n",
       "|---|---|---|---|---|---|\n",
       "| GSM1030965_10138.CEL | 8.24190 | 5.78429 | 6.65615 | 8.15517 | 4.97367 |\n",
       "| GSM1030967_1113.CEL | 7.95457 | 5.75343 | 6.89049 | 7.95516 | 5.49744 |\n",
       "| GSM1030968_1132.CEL | 7.99231 | 4.21497 | 6.28378 | 8.13866 | 7.27109 |\n",
       "| GSM1030979_2120_opnieuw.CEL | 8.08617 | 6.31566 | 7.07061 | 8.51588 | 6.85328 |\n",
       "| GSM1030982_2252.CEL | 7.93179 | 5.32106 | 6.42760 | 8.52095 | 6.37300 |\n",
       "\n"
      ],
      "text/plain": [
       "                            PAX8    CCL5    MMP14   DTX2P1-UPK3BP1-PMS2P11\n",
       "GSM1030965_10138.CEL        8.24190 5.78429 6.65615 8.15517               \n",
       "GSM1030967_1113.CEL         7.95457 5.75343 6.89049 7.95516               \n",
       "GSM1030968_1132.CEL         7.99231 4.21497 6.28378 8.13866               \n",
       "GSM1030979_2120_opnieuw.CEL 8.08617 6.31566 7.07061 8.51588               \n",
       "GSM1030982_2252.CEL         7.93179 5.32106 6.42760 8.52095               \n",
       "                            BAD    \n",
       "GSM1030965_10138.CEL        4.97367\n",
       "GSM1030967_1113.CEL         5.49744\n",
       "GSM1030968_1132.CEL         7.27109\n",
       "GSM1030979_2120_opnieuw.CEL 6.85328\n",
       "GSM1030982_2252.CEL         6.37300"
      ]
     },
     "metadata": {},
     "output_type": "display_data"
    }
   ],
   "source": [
    "test_dataset[1:5, 1:5]"
   ]
  },
  {
   "cell_type": "code",
   "execution_count": 86,
   "metadata": {},
   "outputs": [
    {
     "data": {
      "text/html": [
       "<ol class=list-inline>\n",
       "\t<li>283</li>\n",
       "\t<li>407</li>\n",
       "\t<li>619</li>\n",
       "\t<li>680</li>\n",
       "\t<li>1738</li>\n",
       "\t<li>1780</li>\n",
       "\t<li>1885</li>\n",
       "\t<li>2025</li>\n",
       "\t<li>2303</li>\n",
       "\t<li>2304</li>\n",
       "\t<li>2374</li>\n",
       "\t<li>2651</li>\n",
       "\t<li>2656</li>\n",
       "\t<li>2855</li>\n",
       "\t<li>3034</li>\n",
       "\t<li>3275</li>\n",
       "\t<li>3325</li>\n",
       "\t<li>3524</li>\n",
       "\t<li>3541</li>\n",
       "\t<li>3666</li>\n",
       "\t<li>3733</li>\n",
       "\t<li>3764</li>\n",
       "\t<li>3844</li>\n",
       "\t<li>3893</li>\n",
       "\t<li>4292</li>\n",
       "\t<li>4806</li>\n",
       "\t<li>5047</li>\n",
       "\t<li>5278</li>\n",
       "\t<li>5482</li>\n",
       "\t<li>5604</li>\n",
       "\t<li>5777</li>\n",
       "\t<li>5835</li>\n",
       "\t<li>6268</li>\n",
       "\t<li>7159</li>\n",
       "\t<li>7458</li>\n",
       "\t<li>7652</li>\n",
       "\t<li>8075</li>\n",
       "\t<li>8129</li>\n",
       "\t<li>8457</li>\n",
       "\t<li>8493</li>\n",
       "\t<li>8602</li>\n",
       "\t<li>8737</li>\n",
       "\t<li>8827</li>\n",
       "\t<li>8887</li>\n",
       "\t<li>9338</li>\n",
       "\t<li>9789</li>\n",
       "\t<li>9794</li>\n",
       "\t<li>9877</li>\n",
       "\t<li>10136</li>\n",
       "\t<li>10443</li>\n",
       "\t<li>10788</li>\n",
       "\t<li>10818</li>\n",
       "\t<li>11364</li>\n",
       "\t<li>11941</li>\n",
       "\t<li>11998</li>\n",
       "\t<li>12146</li>\n",
       "</ol>\n"
      ],
      "text/latex": [
       "\\begin{enumerate*}\n",
       "\\item 283\n",
       "\\item 407\n",
       "\\item 619\n",
       "\\item 680\n",
       "\\item 1738\n",
       "\\item 1780\n",
       "\\item 1885\n",
       "\\item 2025\n",
       "\\item 2303\n",
       "\\item 2304\n",
       "\\item 2374\n",
       "\\item 2651\n",
       "\\item 2656\n",
       "\\item 2855\n",
       "\\item 3034\n",
       "\\item 3275\n",
       "\\item 3325\n",
       "\\item 3524\n",
       "\\item 3541\n",
       "\\item 3666\n",
       "\\item 3733\n",
       "\\item 3764\n",
       "\\item 3844\n",
       "\\item 3893\n",
       "\\item 4292\n",
       "\\item 4806\n",
       "\\item 5047\n",
       "\\item 5278\n",
       "\\item 5482\n",
       "\\item 5604\n",
       "\\item 5777\n",
       "\\item 5835\n",
       "\\item 6268\n",
       "\\item 7159\n",
       "\\item 7458\n",
       "\\item 7652\n",
       "\\item 8075\n",
       "\\item 8129\n",
       "\\item 8457\n",
       "\\item 8493\n",
       "\\item 8602\n",
       "\\item 8737\n",
       "\\item 8827\n",
       "\\item 8887\n",
       "\\item 9338\n",
       "\\item 9789\n",
       "\\item 9794\n",
       "\\item 9877\n",
       "\\item 10136\n",
       "\\item 10443\n",
       "\\item 10788\n",
       "\\item 10818\n",
       "\\item 11364\n",
       "\\item 11941\n",
       "\\item 11998\n",
       "\\item 12146\n",
       "\\end{enumerate*}\n"
      ],
      "text/markdown": [
       "1. 283\n",
       "2. 407\n",
       "3. 619\n",
       "4. 680\n",
       "5. 1738\n",
       "6. 1780\n",
       "7. 1885\n",
       "8. 2025\n",
       "9. 2303\n",
       "10. 2304\n",
       "11. 2374\n",
       "12. 2651\n",
       "13. 2656\n",
       "14. 2855\n",
       "15. 3034\n",
       "16. 3275\n",
       "17. 3325\n",
       "18. 3524\n",
       "19. 3541\n",
       "20. 3666\n",
       "21. 3733\n",
       "22. 3764\n",
       "23. 3844\n",
       "24. 3893\n",
       "25. 4292\n",
       "26. 4806\n",
       "27. 5047\n",
       "28. 5278\n",
       "29. 5482\n",
       "30. 5604\n",
       "31. 5777\n",
       "32. 5835\n",
       "33. 6268\n",
       "34. 7159\n",
       "35. 7458\n",
       "36. 7652\n",
       "37. 8075\n",
       "38. 8129\n",
       "39. 8457\n",
       "40. 8493\n",
       "41. 8602\n",
       "42. 8737\n",
       "43. 8827\n",
       "44. 8887\n",
       "45. 9338\n",
       "46. 9789\n",
       "47. 9794\n",
       "48. 9877\n",
       "49. 10136\n",
       "50. 10443\n",
       "51. 10788\n",
       "52. 10818\n",
       "53. 11364\n",
       "54. 11941\n",
       "55. 11998\n",
       "56. 12146\n",
       "\n",
       "\n"
      ],
      "text/plain": [
       " [1]   283   407   619   680  1738  1780  1885  2025  2303  2304  2374  2651\n",
       "[13]  2656  2855  3034  3275  3325  3524  3541  3666  3733  3764  3844  3893\n",
       "[25]  4292  4806  5047  5278  5482  5604  5777  5835  6268  7159  7458  7652\n",
       "[37]  8075  8129  8457  8493  8602  8737  8827  8887  9338  9789  9794  9877\n",
       "[49] 10136 10443 10788 10818 11364 11941 11998 12146"
      ]
     },
     "metadata": {},
     "output_type": "display_data"
    }
   ],
   "source": [
    "genesig"
   ]
  },
  {
   "cell_type": "code",
   "execution_count": 87,
   "metadata": {},
   "outputs": [
    {
     "name": "stderr",
     "output_type": "stream",
     "text": [
      "Warning message:\n",
      "\"glm.fit: fitted probabilities numerically 0 or 1 occurred\"\n"
     ]
    }
   ],
   "source": [
    "# train data with linear svm\n",
    "train <- train_dataset[, genesig]\n",
    "train$label <- train_dataset$label\n",
    "classifier.logreg <- glm(label ~ ., data = train,family = binomial)"
   ]
  },
  {
   "cell_type": "code",
   "execution_count": 88,
   "metadata": {},
   "outputs": [
    {
     "data": {
      "text/plain": [
       "    \n",
       "pred   0   1\n",
       "   0 508   5\n",
       "   1   6 546"
      ]
     },
     "metadata": {},
     "output_type": "display_data"
    }
   ],
   "source": [
    "# predict using test data\n",
    "pred <- predict(classifier.logreg, test_dataset[,1:length(test_dataset)-1], type = \"response\")\n",
    "pred <- round(pred)\n",
    "conf_matrix <- table(pred, test_dataset$label)\n",
    "conf_matrix"
   ]
  },
  {
   "cell_type": "code",
   "execution_count": 89,
   "metadata": {},
   "outputs": [
    {
     "data": {
      "text/html": [
       "0.989671361502347"
      ],
      "text/latex": [
       "0.989671361502347"
      ],
      "text/markdown": [
       "0.989671361502347"
      ],
      "text/plain": [
       "[1] 0.9896714"
      ]
     },
     "metadata": {},
     "output_type": "display_data"
    }
   ],
   "source": [
    "our.accuracy <- (conf_matrix[1] + conf_matrix[4]) / sum(conf_matrix)\n",
    "our.accuracy"
   ]
  },
  {
   "cell_type": "markdown",
   "metadata": {},
   "source": [
    "## Alternate gene signature comparison"
   ]
  },
  {
   "cell_type": "code",
   "execution_count": 90,
   "metadata": {},
   "outputs": [
    {
     "data": {
      "text/html": [
       "<ol class=list-inline>\n",
       "\t<li>'IGHA2'</li>\n",
       "\t<li>'SOCS2'</li>\n",
       "\t<li>'IGKC'</li>\n",
       "\t<li>'KIT'</li>\n",
       "\t<li>'PRAME'</li>\n",
       "\t<li>'IGLJ2'</li>\n",
       "\t<li>'PPBP'</li>\n",
       "\t<li>'ALDH1A1'</li>\n",
       "\t<li>'PDGFC'</li>\n",
       "\t<li>'CLC'</li>\n",
       "\t<li>'IGF2BP2'</li>\n",
       "\t<li>'EPS8'</li>\n",
       "\t<li>'HOXB6'</li>\n",
       "\t<li>'PF4'</li>\n",
       "\t<li>'G0S2'</li>\n",
       "\t<li>'HOXA9'</li>\n",
       "\t<li>'SECISBP2L'</li>\n",
       "\t<li>'DEFA1'</li>\n",
       "\t<li>'HDC'</li>\n",
       "\t<li>'PTH2R'</li>\n",
       "\t<li>'FGF13'</li>\n",
       "\t<li>'CST3'</li>\n",
       "\t<li>'RORA'</li>\n",
       "\t<li>'CXCL3'</li>\n",
       "\t<li>'DPY19L1P1'</li>\n",
       "\t<li>'PAX5'</li>\n",
       "\t<li>'ADAM28'</li>\n",
       "\t<li>'DNM1'</li>\n",
       "\t<li>'FPR1'</li>\n",
       "\t<li>'NR4A3'</li>\n",
       "\t<li>'TFPI'</li>\n",
       "\t<li>'TOP1'</li>\n",
       "\t<li>'LEF1'</li>\n",
       "\t<li>'TST'</li>\n",
       "\t<li>'SLCO3A1'</li>\n",
       "\t<li>'CTSW'</li>\n",
       "\t<li>'PRSS21'</li>\n",
       "\t<li>'TIMP1'</li>\n",
       "\t<li>'CYP4F3'</li>\n",
       "\t<li>'TMEM243'</li>\n",
       "\t<li>'ALOX12'</li>\n",
       "\t<li>'ABL1'</li>\n",
       "\t<li>'PROS1'</li>\n",
       "\t<li>'LRMP'</li>\n",
       "\t<li>'DISC1'</li>\n",
       "\t<li>'MYH10'</li>\n",
       "\t<li>'RNF216'</li>\n",
       "\t<li>'FAN1'</li>\n",
       "\t<li>'HOMER3'</li>\n",
       "</ol>\n"
      ],
      "text/latex": [
       "\\begin{enumerate*}\n",
       "\\item 'IGHA2'\n",
       "\\item 'SOCS2'\n",
       "\\item 'IGKC'\n",
       "\\item 'KIT'\n",
       "\\item 'PRAME'\n",
       "\\item 'IGLJ2'\n",
       "\\item 'PPBP'\n",
       "\\item 'ALDH1A1'\n",
       "\\item 'PDGFC'\n",
       "\\item 'CLC'\n",
       "\\item 'IGF2BP2'\n",
       "\\item 'EPS8'\n",
       "\\item 'HOXB6'\n",
       "\\item 'PF4'\n",
       "\\item 'G0S2'\n",
       "\\item 'HOXA9'\n",
       "\\item 'SECISBP2L'\n",
       "\\item 'DEFA1'\n",
       "\\item 'HDC'\n",
       "\\item 'PTH2R'\n",
       "\\item 'FGF13'\n",
       "\\item 'CST3'\n",
       "\\item 'RORA'\n",
       "\\item 'CXCL3'\n",
       "\\item 'DPY19L1P1'\n",
       "\\item 'PAX5'\n",
       "\\item 'ADAM28'\n",
       "\\item 'DNM1'\n",
       "\\item 'FPR1'\n",
       "\\item 'NR4A3'\n",
       "\\item 'TFPI'\n",
       "\\item 'TOP1'\n",
       "\\item 'LEF1'\n",
       "\\item 'TST'\n",
       "\\item 'SLCO3A1'\n",
       "\\item 'CTSW'\n",
       "\\item 'PRSS21'\n",
       "\\item 'TIMP1'\n",
       "\\item 'CYP4F3'\n",
       "\\item 'TMEM243'\n",
       "\\item 'ALOX12'\n",
       "\\item 'ABL1'\n",
       "\\item 'PROS1'\n",
       "\\item 'LRMP'\n",
       "\\item 'DISC1'\n",
       "\\item 'MYH10'\n",
       "\\item 'RNF216'\n",
       "\\item 'FAN1'\n",
       "\\item 'HOMER3'\n",
       "\\end{enumerate*}\n"
      ],
      "text/markdown": [
       "1. 'IGHA2'\n",
       "2. 'SOCS2'\n",
       "3. 'IGKC'\n",
       "4. 'KIT'\n",
       "5. 'PRAME'\n",
       "6. 'IGLJ2'\n",
       "7. 'PPBP'\n",
       "8. 'ALDH1A1'\n",
       "9. 'PDGFC'\n",
       "10. 'CLC'\n",
       "11. 'IGF2BP2'\n",
       "12. 'EPS8'\n",
       "13. 'HOXB6'\n",
       "14. 'PF4'\n",
       "15. 'G0S2'\n",
       "16. 'HOXA9'\n",
       "17. 'SECISBP2L'\n",
       "18. 'DEFA1'\n",
       "19. 'HDC'\n",
       "20. 'PTH2R'\n",
       "21. 'FGF13'\n",
       "22. 'CST3'\n",
       "23. 'RORA'\n",
       "24. 'CXCL3'\n",
       "25. 'DPY19L1P1'\n",
       "26. 'PAX5'\n",
       "27. 'ADAM28'\n",
       "28. 'DNM1'\n",
       "29. 'FPR1'\n",
       "30. 'NR4A3'\n",
       "31. 'TFPI'\n",
       "32. 'TOP1'\n",
       "33. 'LEF1'\n",
       "34. 'TST'\n",
       "35. 'SLCO3A1'\n",
       "36. 'CTSW'\n",
       "37. 'PRSS21'\n",
       "38. 'TIMP1'\n",
       "39. 'CYP4F3'\n",
       "40. 'TMEM243'\n",
       "41. 'ALOX12'\n",
       "42. 'ABL1'\n",
       "43. 'PROS1'\n",
       "44. 'LRMP'\n",
       "45. 'DISC1'\n",
       "46. 'MYH10'\n",
       "47. 'RNF216'\n",
       "48. 'FAN1'\n",
       "49. 'HOMER3'\n",
       "\n",
       "\n"
      ],
      "text/plain": [
       " [1] \"IGHA2\"     \"SOCS2\"     \"IGKC\"      \"KIT\"       \"PRAME\"     \"IGLJ2\"    \n",
       " [7] \"PPBP\"      \"ALDH1A1\"   \"PDGFC\"     \"CLC\"       \"IGF2BP2\"   \"EPS8\"     \n",
       "[13] \"HOXB6\"     \"PF4\"       \"G0S2\"      \"HOXA9\"     \"SECISBP2L\" \"DEFA1\"    \n",
       "[19] \"HDC\"       \"PTH2R\"     \"FGF13\"     \"CST3\"      \"RORA\"      \"CXCL3\"    \n",
       "[25] \"DPY19L1P1\" \"PAX5\"      \"ADAM28\"    \"DNM1\"      \"FPR1\"      \"NR4A3\"    \n",
       "[31] \"TFPI\"      \"TOP1\"      \"LEF1\"      \"TST\"       \"SLCO3A1\"   \"CTSW\"     \n",
       "[37] \"PRSS21\"    \"TIMP1\"     \"CYP4F3\"    \"TMEM243\"   \"ALOX12\"    \"ABL1\"     \n",
       "[43] \"PROS1\"     \"LRMP\"      \"DISC1\"     \"MYH10\"     \"RNF216\"    \"FAN1\"     \n",
       "[49] \"HOMER3\"   "
      ]
     },
     "metadata": {},
     "output_type": "display_data"
    }
   ],
   "source": [
    "alt.genesig <- colnames(read.table(\"alternate_genesig.txt\", sep=\",\", header=T))\n",
    "alt.genesig"
   ]
  },
  {
   "cell_type": "code",
   "execution_count": 91,
   "metadata": {},
   "outputs": [
    {
     "data": {
      "text/html": [
       "2586"
      ],
      "text/latex": [
       "2586"
      ],
      "text/markdown": [
       "2586"
      ],
      "text/plain": [
       "[1] 2586"
      ]
     },
     "metadata": {},
     "output_type": "display_data"
    },
    {
     "data": {
      "text/html": [
       "<ol class=list-inline>\n",
       "\t<li>1</li>\n",
       "\t<li>2</li>\n",
       "\t<li>3</li>\n",
       "\t<li>4</li>\n",
       "\t<li>5</li>\n",
       "\t<li>6</li>\n",
       "\t<li>7</li>\n",
       "\t<li>8</li>\n",
       "\t<li>9</li>\n",
       "\t<li>10</li>\n",
       "\t<li>11</li>\n",
       "\t<li>12</li>\n",
       "\t<li>13</li>\n",
       "\t<li>14</li>\n",
       "\t<li>15</li>\n",
       "\t<li>16</li>\n",
       "\t<li>17</li>\n",
       "\t<li>18</li>\n",
       "\t<li>19</li>\n",
       "\t<li>20</li>\n",
       "\t<li>21</li>\n",
       "\t<li>22</li>\n",
       "\t<li>23</li>\n",
       "\t<li>24</li>\n",
       "\t<li>25</li>\n",
       "\t<li>26</li>\n",
       "\t<li>27</li>\n",
       "\t<li>28</li>\n",
       "\t<li>29</li>\n",
       "\t<li>30</li>\n",
       "\t<li>31</li>\n",
       "\t<li>32</li>\n",
       "\t<li>33</li>\n",
       "\t<li>34</li>\n",
       "\t<li>35</li>\n",
       "\t<li>36</li>\n",
       "\t<li>37</li>\n",
       "\t<li>38</li>\n",
       "\t<li>39</li>\n",
       "\t<li>40</li>\n",
       "\t<li>41</li>\n",
       "\t<li>42</li>\n",
       "\t<li>43</li>\n",
       "\t<li>44</li>\n",
       "\t<li>45</li>\n",
       "\t<li>46</li>\n",
       "\t<li>47</li>\n",
       "\t<li>48</li>\n",
       "\t<li>2586</li>\n",
       "</ol>\n"
      ],
      "text/latex": [
       "\\begin{enumerate*}\n",
       "\\item 1\n",
       "\\item 2\n",
       "\\item 3\n",
       "\\item 4\n",
       "\\item 5\n",
       "\\item 6\n",
       "\\item 7\n",
       "\\item 8\n",
       "\\item 9\n",
       "\\item 10\n",
       "\\item 11\n",
       "\\item 12\n",
       "\\item 13\n",
       "\\item 14\n",
       "\\item 15\n",
       "\\item 16\n",
       "\\item 17\n",
       "\\item 18\n",
       "\\item 19\n",
       "\\item 20\n",
       "\\item 21\n",
       "\\item 22\n",
       "\\item 23\n",
       "\\item 24\n",
       "\\item 25\n",
       "\\item 26\n",
       "\\item 27\n",
       "\\item 28\n",
       "\\item 29\n",
       "\\item 30\n",
       "\\item 31\n",
       "\\item 32\n",
       "\\item 33\n",
       "\\item 34\n",
       "\\item 35\n",
       "\\item 36\n",
       "\\item 37\n",
       "\\item 38\n",
       "\\item 39\n",
       "\\item 40\n",
       "\\item 41\n",
       "\\item 42\n",
       "\\item 43\n",
       "\\item 44\n",
       "\\item 45\n",
       "\\item 46\n",
       "\\item 47\n",
       "\\item 48\n",
       "\\item 2586\n",
       "\\end{enumerate*}\n"
      ],
      "text/markdown": [
       "1. 1\n",
       "2. 2\n",
       "3. 3\n",
       "4. 4\n",
       "5. 5\n",
       "6. 6\n",
       "7. 7\n",
       "8. 8\n",
       "9. 9\n",
       "10. 10\n",
       "11. 11\n",
       "12. 12\n",
       "13. 13\n",
       "14. 14\n",
       "15. 15\n",
       "16. 16\n",
       "17. 17\n",
       "18. 18\n",
       "19. 19\n",
       "20. 20\n",
       "21. 21\n",
       "22. 22\n",
       "23. 23\n",
       "24. 24\n",
       "25. 25\n",
       "26. 26\n",
       "27. 27\n",
       "28. 28\n",
       "29. 29\n",
       "30. 30\n",
       "31. 31\n",
       "32. 32\n",
       "33. 33\n",
       "34. 34\n",
       "35. 35\n",
       "36. 36\n",
       "37. 37\n",
       "38. 38\n",
       "39. 39\n",
       "40. 40\n",
       "41. 41\n",
       "42. 42\n",
       "43. 43\n",
       "44. 44\n",
       "45. 45\n",
       "46. 46\n",
       "47. 47\n",
       "48. 48\n",
       "49. 2586\n",
       "\n",
       "\n"
      ],
      "text/plain": [
       " [1]    1    2    3    4    5    6    7    8    9   10   11   12   13   14   15\n",
       "[16]   16   17   18   19   20   21   22   23   24   25   26   27   28   29   30\n",
       "[31]   31   32   33   34   35   36   37   38   39   40   41   42   43   44   45\n",
       "[46]   46   47   48 2586"
      ]
     },
     "metadata": {},
     "output_type": "display_data"
    }
   ],
   "source": [
    "which(colnames(train_dataset) == alt.genesig[49])\n",
    "alt.genesig.ind <- c(1:49)\n",
    "alt.genesig.ind[49] <- which(colnames(train_dataset) == alt.genesig[49])\n",
    "alt.genesig.ind"
   ]
  },
  {
   "cell_type": "code",
   "execution_count": 92,
   "metadata": {},
   "outputs": [
    {
     "data": {
      "text/html": [
       "<ol class=list-inline>\n",
       "\t<li>8827</li>\n",
       "\t<li>1738</li>\n",
       "\t<li>12198</li>\n",
       "\t<li>2855</li>\n",
       "\t<li>2212</li>\n",
       "\t<li>8091</li>\n",
       "\t<li>7863</li>\n",
       "\t<li>6860</li>\n",
       "\t<li>9877</li>\n",
       "\t<li>3697</li>\n",
       "\t<li>9988</li>\n",
       "\t<li>1247</li>\n",
       "\t<li>3085</li>\n",
       "\t<li>3837</li>\n",
       "\t<li>7608</li>\n",
       "\t<li>8075</li>\n",
       "\t<li>6973</li>\n",
       "\t<li>2841</li>\n",
       "\t<li>4324</li>\n",
       "\t<li>4110</li>\n",
       "\t<li>2900</li>\n",
       "\t<li>494</li>\n",
       "\t<li>6239</li>\n",
       "\t<li>4822</li>\n",
       "\t<li>8281</li>\n",
       "\t<li>12390</li>\n",
       "\t<li>3541</li>\n",
       "\t<li>8288</li>\n",
       "\t<li>2907</li>\n",
       "\t<li>4893</li>\n",
       "\t<li>7456</li>\n",
       "\t<li>5380</li>\n",
       "\t<li>12146</li>\n",
       "\t<li>5778</li>\n",
       "\t<li>10324</li>\n",
       "\t<li>7955</li>\n",
       "\t<li>11038</li>\n",
       "\t<li>673</li>\n",
       "\t<li>3918</li>\n",
       "\t<li>2304</li>\n",
       "\t<li>4427</li>\n",
       "\t<li>951</li>\n",
       "\t<li>4795</li>\n",
       "\t<li>12596</li>\n",
       "\t<li>3605</li>\n",
       "\t<li>6931</li>\n",
       "\t<li>9618</li>\n",
       "\t<li>1946</li>\n",
       "\t<li>2586</li>\n",
       "</ol>\n"
      ],
      "text/latex": [
       "\\begin{enumerate*}\n",
       "\\item 8827\n",
       "\\item 1738\n",
       "\\item 12198\n",
       "\\item 2855\n",
       "\\item 2212\n",
       "\\item 8091\n",
       "\\item 7863\n",
       "\\item 6860\n",
       "\\item 9877\n",
       "\\item 3697\n",
       "\\item 9988\n",
       "\\item 1247\n",
       "\\item 3085\n",
       "\\item 3837\n",
       "\\item 7608\n",
       "\\item 8075\n",
       "\\item 6973\n",
       "\\item 2841\n",
       "\\item 4324\n",
       "\\item 4110\n",
       "\\item 2900\n",
       "\\item 494\n",
       "\\item 6239\n",
       "\\item 4822\n",
       "\\item 8281\n",
       "\\item 12390\n",
       "\\item 3541\n",
       "\\item 8288\n",
       "\\item 2907\n",
       "\\item 4893\n",
       "\\item 7456\n",
       "\\item 5380\n",
       "\\item 12146\n",
       "\\item 5778\n",
       "\\item 10324\n",
       "\\item 7955\n",
       "\\item 11038\n",
       "\\item 673\n",
       "\\item 3918\n",
       "\\item 2304\n",
       "\\item 4427\n",
       "\\item 951\n",
       "\\item 4795\n",
       "\\item 12596\n",
       "\\item 3605\n",
       "\\item 6931\n",
       "\\item 9618\n",
       "\\item 1946\n",
       "\\item 2586\n",
       "\\end{enumerate*}\n"
      ],
      "text/markdown": [
       "1. 8827\n",
       "2. 1738\n",
       "3. 12198\n",
       "4. 2855\n",
       "5. 2212\n",
       "6. 8091\n",
       "7. 7863\n",
       "8. 6860\n",
       "9. 9877\n",
       "10. 3697\n",
       "11. 9988\n",
       "12. 1247\n",
       "13. 3085\n",
       "14. 3837\n",
       "15. 7608\n",
       "16. 8075\n",
       "17. 6973\n",
       "18. 2841\n",
       "19. 4324\n",
       "20. 4110\n",
       "21. 2900\n",
       "22. 494\n",
       "23. 6239\n",
       "24. 4822\n",
       "25. 8281\n",
       "26. 12390\n",
       "27. 3541\n",
       "28. 8288\n",
       "29. 2907\n",
       "30. 4893\n",
       "31. 7456\n",
       "32. 5380\n",
       "33. 12146\n",
       "34. 5778\n",
       "35. 10324\n",
       "36. 7955\n",
       "37. 11038\n",
       "38. 673\n",
       "39. 3918\n",
       "40. 2304\n",
       "41. 4427\n",
       "42. 951\n",
       "43. 4795\n",
       "44. 12596\n",
       "45. 3605\n",
       "46. 6931\n",
       "47. 9618\n",
       "48. 1946\n",
       "49. 2586\n",
       "\n",
       "\n"
      ],
      "text/plain": [
       " [1]  8827  1738 12198  2855  2212  8091  7863  6860  9877  3697  9988  1247\n",
       "[13]  3085  3837  7608  8075  6973  2841  4324  4110  2900   494  6239  4822\n",
       "[25]  8281 12390  3541  8288  2907  4893  7456  5380 12146  5778 10324  7955\n",
       "[37] 11038   673  3918  2304  4427   951  4795 12596  3605  6931  9618  1946\n",
       "[49]  2586"
      ]
     },
     "metadata": {},
     "output_type": "display_data"
    }
   ],
   "source": [
    "alt.genesig.ind <- c(1:49)\n",
    "for (j in 1:49){\n",
    "    alt.genesig.ind[j] <- which(colnames(train_dataset) == alt.genesig[j])\n",
    "}\n",
    "alt.genesig.ind"
   ]
  },
  {
   "cell_type": "code",
   "execution_count": 93,
   "metadata": {},
   "outputs": [],
   "source": [
    "# colnames(train_dataset)"
   ]
  },
  {
   "cell_type": "code",
   "execution_count": 94,
   "metadata": {},
   "outputs": [],
   "source": [
    "train <- train_dataset[, alt.genesig.ind]\n",
    "train$label <- train_dataset$label\n",
    "classifier.logreg <- glm(label ~ ., data = train,family = binomial)"
   ]
  },
  {
   "cell_type": "code",
   "execution_count": 95,
   "metadata": {},
   "outputs": [
    {
     "data": {
      "text/plain": [
       "    \n",
       "pred   0   1\n",
       "   0 508  15\n",
       "   1   6 536"
      ]
     },
     "metadata": {},
     "output_type": "display_data"
    }
   ],
   "source": [
    "pred <- predict(classifier.logreg, test_dataset[,1:length(test_dataset)-1], type = \"response\")\n",
    "pred <- round(pred)\n",
    "conf_matrix <- table(pred, test_dataset$label)\n",
    "conf_matrix"
   ]
  },
  {
   "cell_type": "code",
   "execution_count": 96,
   "metadata": {},
   "outputs": [
    {
     "data": {
      "text/html": [
       "0.980281690140845"
      ],
      "text/latex": [
       "0.980281690140845"
      ],
      "text/markdown": [
       "0.980281690140845"
      ],
      "text/plain": [
       "[1] 0.9802817"
      ]
     },
     "metadata": {},
     "output_type": "display_data"
    }
   ],
   "source": [
    "alt.accuracy <- (conf_matrix[1] + conf_matrix[4]) / sum(conf_matrix)\n",
    "alt.accuracy"
   ]
  },
  {
   "cell_type": "code",
   "execution_count": null,
   "metadata": {},
   "outputs": [],
   "source": []
  }
 ],
 "metadata": {
  "kernelspec": {
   "display_name": "R",
   "language": "R",
   "name": "ir"
  },
  "language_info": {
   "codemirror_mode": "r",
   "file_extension": ".r",
   "mimetype": "text/x-r-source",
   "name": "R",
   "pygments_lexer": "r",
   "version": "3.6.1"
  }
 },
 "nbformat": 4,
 "nbformat_minor": 5
}
